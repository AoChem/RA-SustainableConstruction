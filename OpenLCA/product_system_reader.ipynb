{
 "cells": [
  {
   "cell_type": "code",
   "execution_count": 9,
   "metadata": {},
   "outputs": [
    {
     "data": {
      "text/plain": [
       "<olca.ipc.Client at 0x7fc220182c70>"
      ]
     },
     "execution_count": 9,
     "metadata": {},
     "output_type": "execute_result"
    }
   ],
   "source": [
    "'''\n",
    "This script is used for reading the current product systems that are created in your OpenLCA,\n",
    "and writing their information to a json file, which will be used in the main script: `Ecoinvent_OpenLCA.ipynb`\n",
    "\n",
    "Codes are developed by Ao Chen @ETH-ML.\n",
    "Connect to IPC server in OpenLCA software before running. (Port: 8080)\n",
    "\n",
    "TODO: this initialization is supposed to be run once in a new machine. Once is enough.\n",
    "'''\n",
    "\n",
    "from notebook.services.config import ConfigManager\n",
    "cm = ConfigManager()\n",
    "cm.update('notebook', {'highlight_selected_word': {\n",
    "    'highlight_across_all_cells': True,\n",
    "    'only_cells_in_scroll': False,\n",
    "    'delay': 500,\n",
    "    'code_cells_only': True,\n",
    "}})\n",
    "\n",
    "import os\n",
    "import json\n",
    "import olca\n",
    "import uuid\n",
    "import math\n",
    "import pandas as pd\n",
    "from datetime import datetime, date\n",
    "\n",
    "from matplotlib import pyplot as plt\n",
    "import matplotlib.mlab as mlab\n",
    "from matplotlib import rcParams\n",
    "import matplotlib.patches as mpatches\n",
    "import seaborn as sns\n",
    "\n",
    "params = {'mathtext.default': 'regular' }\n",
    "\n",
    "client = olca.Client(8080)\n",
    "client"
   ]
  },
  {
   "cell_type": "code",
   "execution_count": 10,
   "metadata": {},
   "outputs": [
    {
     "name": "stdout",
     "output_type": "stream",
     "text": [
      "No product system has been created before.\n"
     ]
    }
   ],
   "source": [
    "productsystemset = client.get_descriptors(olca.ProductSystem)\n",
    "productsystemlist = []\n",
    "for productsystem in productsystemset:\n",
    "    productsystemlist.append(productsystem)\n",
    "\n",
    "if not productsystemlist: # empty list means no product systems are created in your local OpenLCA\n",
    "    print('No product system has been created before.')\n",
    "    Created_PS_refProcess = {}\n",
    "    Created_PS_refProcess_file = open(\"Created_PS_refProcess.json\", \"w\")\n",
    "    Created_PS_refProcess_file = json.dump(Created_PS_refProcess, Created_PS_refProcess_file)\n",
    "    \n",
    "    \n",
    "else: # there exist product systems created in your local machine. Get their information.\n",
    "    Created_PS_refProcess = json.load(open(\"Created_PS_refProcess.json\", \"r\"))\n",
    "    Created_PS_ID = []\n",
    "    keys = list(Created_PS_refProcess.keys())\n",
    "    for i in range(len(Created_PS_refProcess)):\n",
    "        key = keys[i]\n",
    "        Created_PS_ID.append(Created_PS_refProcess[key]['Product_system'])\n",
    "        \n",
    "    productsystemset = client.get_descriptors(olca.ProductSystem)\n",
    "    for productsystem in productsystemset:\n",
    "        if productsystem.id not in Created_PS_ID:\n",
    "            print('getting '+ps.id) # for test\n",
    "            ps = client.get(olca.ProductSystem, uid=productsystem.id)\n",
    "            search_process_ID = ps.reference_process.id\n",
    "            search_process_name = ps.reference_process.name\n",
    "            search_process_location = ps.reference_process.location\n",
    "            Created_PS_refProcess[search_process_ID] = {'Process': [search_process_name, search_process_location, search_process_ID], 'Product_system': ps.id}\n",
    "        else:\n",
    "            print('Process system '+productsystem.id+' has been created.')\n",
    "    Created_PS_refProcess_file = open(\"Created_PS_refProcess.json\", \"w\")\n",
    "    Created_PS_refProcess_file = json.dump(Created_PS_refProcess, Created_PS_refProcess_file)\n",
    "        "
   ]
  },
  {
   "cell_type": "code",
   "execution_count": null,
   "metadata": {},
   "outputs": [],
   "source": []
  }
 ],
 "metadata": {
  "interpreter": {
   "hash": "35e6b958be813515be18ceffa6a3de8dd486f229a9d767053d882fcecf37648f"
  },
  "kernelspec": {
   "display_name": "Python 3.9.7 64-bit ('suscons': conda)",
   "name": "python3"
  },
  "language_info": {
   "codemirror_mode": {
    "name": "ipython",
    "version": 3
   },
   "file_extension": ".py",
   "mimetype": "text/x-python",
   "name": "python",
   "nbconvert_exporter": "python",
   "pygments_lexer": "ipython3",
   "version": "3.9.7"
  },
  "orig_nbformat": 4
 },
 "nbformat": 4,
 "nbformat_minor": 2
}
