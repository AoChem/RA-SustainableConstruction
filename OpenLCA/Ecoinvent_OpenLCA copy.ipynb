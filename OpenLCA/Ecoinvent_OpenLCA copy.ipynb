{
 "cells": [
  {
   "cell_type": "code",
   "execution_count": 1,
   "metadata": {},
   "outputs": [
    {
     "data": {
      "text/plain": [
       "<olca.ipc.Client at 0x7fe268922340>"
      ]
     },
     "execution_count": 1,
     "metadata": {},
     "output_type": "execute_result"
    }
   ],
   "source": [
    "# This script is used for interacting with OpenLCA.\n",
    "# Codes are adapted from Julian Rickert @GreenDelta by Ao Chen @ETH.\n",
    "# Connect to IPC server in OpenLCA software before running. (Port: 8080)\n",
    "from notebook.services.config import ConfigManager\n",
    "cm = ConfigManager()\n",
    "cm.update('notebook', {'highlight_selected_word': {\n",
    "    'highlight_across_all_cells': True,\n",
    "    'only_cells_in_scroll': False,\n",
    "    'delay': 500,\n",
    "    'code_cells_only': True,\n",
    "}})\n",
    "\n",
    "\n",
    "import pandas as pd\n",
    "import olca\n",
    "import uuid\n",
    "import math\n",
    "from datetime import datetime\n",
    "\n",
    "from matplotlib import pyplot as plt\n",
    "import matplotlib.mlab as mlab\n",
    "from matplotlib import rcParams\n",
    "import matplotlib.patches as mpatches\n",
    "import seaborn as sns\n",
    "\n",
    "params = {'mathtext.default': 'regular' }\n",
    "\n",
    "client = olca.Client(8080)\n",
    "client"
   ]
  },
  {
   "cell_type": "code",
   "execution_count": 2,
   "metadata": {},
   "outputs": [],
   "source": [
    "# Get all process dataset in database\n",
    "process_descriptor = client.get_descriptors(olca.Process)\n",
    "process_list = []\n",
    "id_list = []\n",
    "location_list = []\n",
    "\n",
    "for process in process_descriptor:\n",
    "    process_list.append(process.name)\n",
    "    id_list.append(process.id)\n",
    "    location_list.append(process.location)\n",
    "processes_df = pd.DataFrame(list(zip(process_list,\n",
    "                                   id_list, location_list)),\n",
    "                               columns=['name', 'id', 'location'])\n",
    "# processes_df"
   ]
  },
  {
   "cell_type": "code",
   "execution_count": 3,
   "metadata": {},
   "outputs": [
    {
     "data": {
      "text/html": [
       "<div>\n",
       "<style scoped>\n",
       "    .dataframe tbody tr th:only-of-type {\n",
       "        vertical-align: middle;\n",
       "    }\n",
       "\n",
       "    .dataframe tbody tr th {\n",
       "        vertical-align: top;\n",
       "    }\n",
       "\n",
       "    .dataframe thead th {\n",
       "        text-align: right;\n",
       "    }\n",
       "</style>\n",
       "<table border=\"1\" class=\"dataframe\">\n",
       "  <thead>\n",
       "    <tr style=\"text-align: right;\">\n",
       "      <th></th>\n",
       "      <th>name</th>\n",
       "      <th>id</th>\n",
       "      <th>location</th>\n",
       "    </tr>\n",
       "  </thead>\n",
       "  <tbody>\n",
       "    <tr>\n",
       "      <th>0</th>\n",
       "      <td>heat production, heavy fuel oil, at industrial...</td>\n",
       "      <td>4f582f90-d0ae-3552-be43-70c730e82af0</td>\n",
       "      <td>RoW</td>\n",
       "    </tr>\n",
       "    <tr>\n",
       "      <th>1</th>\n",
       "      <td>heat production, heavy fuel oil, at industrial...</td>\n",
       "      <td>aa500328-2d77-33da-b481-c41d3c3eb020</td>\n",
       "      <td>Europe without Switzerland</td>\n",
       "    </tr>\n",
       "    <tr>\n",
       "      <th>2</th>\n",
       "      <td>heat production, heavy fuel oil, at industrial...</td>\n",
       "      <td>e38883c8-7b6a-3426-b85e-2e3a05814350</td>\n",
       "      <td>CA-QC</td>\n",
       "    </tr>\n",
       "    <tr>\n",
       "      <th>3</th>\n",
       "      <td>heat production, heavy fuel oil, at industrial...</td>\n",
       "      <td>c07848f3-adb4-3066-af1c-3b48ef7e02be</td>\n",
       "      <td>CH</td>\n",
       "    </tr>\n",
       "  </tbody>\n",
       "</table>\n",
       "</div>"
      ],
      "text/plain": [
       "                                                name  \\\n",
       "0  heat production, heavy fuel oil, at industrial...   \n",
       "1  heat production, heavy fuel oil, at industrial...   \n",
       "2  heat production, heavy fuel oil, at industrial...   \n",
       "3  heat production, heavy fuel oil, at industrial...   \n",
       "\n",
       "                                     id                    location  \n",
       "0  4f582f90-d0ae-3552-be43-70c730e82af0                         RoW  \n",
       "1  aa500328-2d77-33da-b481-c41d3c3eb020  Europe without Switzerland  \n",
       "2  e38883c8-7b6a-3426-b85e-2e3a05814350                       CA-QC  \n",
       "3  c07848f3-adb4-3066-af1c-3b48ef7e02be                          CH  "
      ]
     },
     "execution_count": 3,
     "metadata": {},
     "output_type": "execute_result"
    }
   ],
   "source": [
    "# Search specific flow databases with key word(s)\n",
    "# Note that the search is blankspace-sensitive\n",
    "search_process_df = processes_df[processes_df['name'].str.contains(r'heat production, heavy fuel oil, at industrial(?!$)')] # TODO: change keywords\n",
    "search_process_df.reset_index(drop=True, inplace=True)\n",
    "search_process_df"
   ]
  },
  {
   "cell_type": "code",
   "execution_count": 24,
   "metadata": {},
   "outputs": [],
   "source": [
    "test_process = client.get(olca.Process, uid='4f582f90-d0ae-3552-be43-70c730e82af0')"
   ]
  },
  {
   "cell_type": "code",
   "execution_count": 39,
   "metadata": {},
   "outputs": [],
   "source": [
    "test_exchange = test_process.exchanges[0]"
   ]
  },
  {
   "cell_type": "code",
   "execution_count": 41,
   "metadata": {},
   "outputs": [
    {
     "data": {
      "text/plain": [
       "1.0"
      ]
     },
     "execution_count": 41,
     "metadata": {},
     "output_type": "execute_result"
    }
   ],
   "source": [
    "test_exchange.amount"
   ]
  },
  {
   "cell_type": "code",
   "execution_count": 42,
   "metadata": {},
   "outputs": [],
   "source": [
    "test_amount = []"
   ]
  },
  {
   "cell_type": "code",
   "execution_count": 43,
   "metadata": {},
   "outputs": [],
   "source": [
    "test_amount.append(test_exchange.amount)"
   ]
  },
  {
   "cell_type": "code",
   "execution_count": 45,
   "metadata": {},
   "outputs": [],
   "source": [
    "test_exchange.amount = 0.5"
   ]
  },
  {
   "cell_type": "code",
   "execution_count": 47,
   "metadata": {},
   "outputs": [],
   "source": [
    "test_amount.append(test_exchange.amount)"
   ]
  },
  {
   "cell_type": "code",
   "execution_count": 49,
   "metadata": {},
   "outputs": [
    {
     "data": {
      "text/html": [
       "<pre><code class=\"language-json\">{\n",
       "  \"@id\": \"4f582f90-d0ae-3552-be43-70c730e82af0\",\n",
       "  \"@type\": \"Process\",\n",
       "  \"category\": {\n",
       "    \"@id\": \"157ef931-ad38-378c-bfdb-2585cf1f2c6a\",\n",
       "    \"@type\": \"Category\",\n",
       "    \"categoryPath\": [\n",
       "      \"D:Electricity, gas, steam and air conditioning supply\",\n",
       "      \"35:Electricity, gas, steam and air conditioning supply\",\n",
       "      \"353:Steam and air conditioning supply\",\n",
       "      \"3530:Steam and air conditioning supply\"\n",
       "    ],\n",
       "    \"name\": \"3530a: Steam and air conditioning supply based on liquid fuels \"\n",
       "  },\n",
       "  \"description\": \"Inventory for heat supply.;[This dataset was already contained in the ecoinvent database version 2. It was not individually updated during the transfer to ecoinvent version 3. Life Cycle Impact Assessment results may still have changed, as they are affected by changes in the supply chain, i.e. in other datasets. This dataset was generated following the ecoinvent quality guidelines for version 2. It may have been subject to central changes described in the ecoinvent version 3 change report (http://www.ecoinvent.org/database/ecoinvent-version-3/reports-of-changes/), and the results of the central updates were reviewed extensively. The changes added e.g. consistent water flows and other information throughout the database. The documentation of this dataset can be found in the ecoinvent reports of version 2, which are still available via the ecoinvent website. The change report linked above covers all central changes that were made during the conversion process.]  Heat delivered by the furnace not including losses during distribution in the factory.\",\n",
       "  \"exchangeDqSystem\": {\n",
       "    \"@id\": \"e7ac7cf6-5457-453e-99f9-d889826fffe8\",\n",
       "    \"@type\": \"DQSystem\",\n",
       "    \"name\": \"ecoinvent data quality system\"\n",
       "  },\n",
       "  \"exchanges\": [\n",
       "    {\n",
       "      \"@type\": \"Exchange\",\n",
       "      \"amount\": 0.5,\n",
       "      \"avoidedProduct\": false,\n",
       "      \"costValue\": 0.0106,\n",
       "      \"currency\": {\n",
       "        \"@id\": \"7de74e65-ff97-404f-bf57-5d2a9134fb43\",\n",
       "        \"@type\": \"Currency\",\n",
       "        \"name\": \"Euro\"\n",
       "      },\n",
       "      \"description\": \"EcoSpold01Location=CH\",\n",
       "      \"flow\": {\n",
       "        \"@id\": \"71e2f1db-a2c5-44d0-8337-dfff15be974d\",\n",
       "        \"@type\": \"Flow\",\n",
       "        \"categoryPath\": [\n",
       "          \"D:Electricity, gas, steam and air conditioning supply\",\n",
       "          \"35:Electricity, gas, steam and air conditioning supply\",\n",
       "          \"351:Electric power generation, transmission and distribution\",\n",
       "          \"3510:Electric power generation, transmission and distribution\"\n",
       "        ],\n",
       "        \"flowType\": \"PRODUCT_FLOW\",\n",
       "        \"name\": \"heat, district or industrial, other than natural gas\",\n",
       "        \"refUnit\": \"MJ\"\n",
       "      },\n",
       "      \"flowProperty\": {\n",
       "        \"@id\": \"f6811440-ee37-11de-8a39-0800200c9a66\",\n",
       "        \"@type\": \"FlowProperty\",\n",
       "        \"categoryPath\": [\n",
       "          \"Technical flow properties\"\n",
       "        ],\n",
       "        \"name\": \"Energy\"\n",
       "      },\n",
       "      \"input\": false,\n",
       "      \"internalId\": 2,\n",
       "      \"quantitativeReference\": true,\n",
       "      \"unit\": {\n",
       "        \"@id\": \"52765a6c-3896-43c2-b2f4-c679acf13efe\",\n",
       "        \"@type\": \"Unit\",\n",
       "        \"name\": \"MJ\"\n",
       "      }\n",
       "    },\n",
       "    {\n",
       "      \"@type\": \"Exchange\",\n",
       "      \"amount\": 0.00212170676239501,\n",
       "      \"avoidedProduct\": false,\n",
       "      \"defaultProvider\": {\n",
       "        \"@id\": \"e2f3fd75-96ed-3d19-8c7f-902d7fdd6146\",\n",
       "        \"@type\": \"Process\",\n",
       "        \"categoryPath\": [\n",
       "          \"C:Manufacturing\",\n",
       "          \"19:Manufacture of coke and refined petroleum products\",\n",
       "          \"192:Manufacture of refined petroleum products\",\n",
       "          \"1920:Manufacture of refined petroleum products\"\n",
       "        ],\n",
       "        \"location\": \"ZA\",\n",
       "        \"name\": \"market for heavy fuel oil | heavy fuel oil | Cutoff, U\",\n",
       "        \"processType\": \"UNIT_PROCESS\"\n",
       "      },\n",
       "      \"description\": \"Literature\",\n",
       "      \"dqEntry\": \"(2;3;5;5;1)\",\n",
       "      \"flow\": {\n",
       "        \"@id\": \"2966d161-5281-47d6-86d3-efbb0a4b2110\",\n",
       "        \"@type\": \"Flow\",\n",
       "        \"categoryPath\": [\n",
       "          \"C:Manufacturing\",\n",
       "          \"19:Manufacture of coke and refined petroleum products\",\n",
       "          \"192:Manufacture of refined petroleum products\",\n",
       "          \"1920:Manufacture of refined petroleum products\"\n",
       "        ],\n",
       "        \"flowType\": \"PRODUCT_FLOW\",\n",
       "        \"name\": \"heavy fuel oil\",\n",
       "        \"refUnit\": \"kg\"\n",
       "      },\n",
       "      \"flowProperty\": {\n",
       "        \"@id\": \"93a60a56-a3c8-11da-a746-0800200b9a66\",\n",
       "        \"@type\": \"FlowProperty\",\n",
       "        \"categoryPath\": [\n",
       "          \"Technical flow properties\"\n",
       "        ],\n",
       "        \"name\": \"Mass\"\n",
       "      },\n",
       "      \"input\": true,\n",
       "      \"internalId\": 16,\n",
       "      \"uncertainty\": {\n",
       "        \"@type\": \"Uncertainty\",\n",
       "        \"distributionType\": \"LOG_NORMAL_DISTRIBUTION\",\n",
       "        \"geomMean\": 0.00212170676239501,\n",
       "        \"geomSd\": 1.0\n",
       "      },\n",
       "      \"unit\": {\n",
       "        \"@id\": \"20aadc24-a391-41cf-b340-3e4529f44bde\",\n",
       "        \"@type\": \"Unit\",\n",
       "        \"name\": \"kg\"\n",
       "      }\n",
       "    },\n",
       "    {\n",
       "      \"@type\": \"Exchange\",\n",
       "      \"amount\": 0.0831578947368421,\n",
       "      \"avoidedProduct\": false,\n",
       "      \"description\": \"Literature\",\n",
       "      \"dqEntry\": \"(3;3;5;5;1)\",\n",
       "      \"flow\": {\n",
       "        \"@id\": \"f9749677-9c9f-4678-ab55-c607dfdc2cb9\",\n",
       "        \"@type\": \"Flow\",\n",
       "        \"categoryPath\": [\n",
       "          \"Elementary flows\",\n",
       "          \"Emission to air\",\n",
       "          \"high population density\"\n",
       "        ],\n",
       "        \"flowType\": \"ELEMENTARY_FLOW\",\n",
       "        \"name\": \"Carbon dioxide, fossil\",\n",
       "        \"refUnit\": \"kg\"\n",
       "      },\n",
       "      \"flowProperty\": {\n",
       "        \"@id\": \"93a60a56-a3c8-11da-a746-0800200b9a66\",\n",
       "        \"@type\": \"FlowProperty\",\n",
       "        \"categoryPath\": [\n",
       "          \"Technical flow properties\"\n",
       "        ],\n",
       "        \"name\": \"Mass\"\n",
       "      },\n",
       "      \"input\": false,\n",
       "      \"internalId\": 46,\n",
       "      \"uncertainty\": {\n",
       "        \"@type\": \"Uncertainty\",\n",
       "        \"distributionType\": \"LOG_NORMAL_DISTRIBUTION\",\n",
       "        \"geomMean\": 0.0831578947368421,\n",
       "        \"geomSd\": 1.0\n",
       "      },\n",
       "      \"unit\": {\n",
       "        \"@id\": \"20aadc24-a391-41cf-b340-3e4529f44bde\",\n",
       "        \"@type\": \"Unit\",\n",
       "        \"name\": \"kg\"\n",
       "      }\n",
       "    },\n",
       "    {\n",
       "      \"@type\": \"Exchange\",\n",
       "      \"amount\": 7.89473684210526e-07,\n",
       "      \"avoidedProduct\": false,\n",
       "      \"description\": \"Literature\",\n",
       "      \"dqEntry\": \"(3;3;5;5;1)\",\n",
       "      \"flow\": {\n",
       "        \"@id\": \"98eb1d16-9d7a-4716-9be4-1449341a832f\",\n",
       "        \"@type\": \"Flow\",\n",
       "        \"categoryPath\": [\n",
       "          \"Elementary flows\",\n",
       "          \"Emission to air\",\n",
       "          \"high population density\"\n",
       "        ],\n",
       "        \"flowType\": \"ELEMENTARY_FLOW\",\n",
       "        \"name\": \"Sodium\",\n",
       "        \"refUnit\": \"kg\"\n",
       "      },\n",
       "      \"flowProperty\": {\n",
       "        \"@id\": \"93a60a56-a3c8-11da-a746-0800200b9a66\",\n",
       "        \"@type\": \"FlowProperty\",\n",
       "        \"categoryPath\": [\n",
       "          \"Technical flow properties\"\n",
       "        ],\n",
       "        \"name\": \"Mass\"\n",
       "      },\n",
       "      \"input\": false,\n",
       "      \"internalId\": 18,\n",
       "      \"uncertainty\": {\n",
       "        \"@type\": \"Uncertainty\",\n",
       "        \"distributionType\": \"LOG_NORMAL_DISTRIBUTION\",\n",
       "        \"geomMean\": 7.89473684210526e-07,\n",
       "        \"geomSd\": 1.2505791921887124\n",
       "      },\n",
       "      \"unit\": {\n",
       "        \"@id\": \"20aadc24-a391-41cf-b340-3e4529f44bde\",\n",
       "        \"@type\": \"Unit\",\n",
       "        \"name\": \"kg\"\n",
       "      }\n",
       "    },\n",
       "    {\n",
       "      \"@type\": \"Exchange\",\n",
       "      \"amount\": 8.42105263157895e-07,\n",
       "      \"avoidedProduct\": false,\n",
       "      \"description\": \"Calculation from ranges\",\n",
       "      \"dqEntry\": \"(1;1;5;5;1)\",\n",
       "      \"flow\": {\n",
       "        \"@id\": \"6dc1b46f-ee89-4495-95c4-b8a637bcd6cb\",\n",
       "        \"@type\": \"Flow\",\n",
       "        \"categoryPath\": [\n",
       "          \"Elementary flows\",\n",
       "          \"Emission to air\",\n",
       "          \"high population density\"\n",
       "        ],\n",
       "        \"flowType\": \"ELEMENTARY_FLOW\",\n",
       "        \"name\": \"Dinitrogen monoxide\",\n",
       "        \"refUnit\": \"kg\"\n",
       "      },\n",
       "      \"flowProperty\": {\n",
       "        \"@id\": \"93a60a56-a3c8-11da-a746-0800200b9a66\",\n",
       "        \"@type\": \"FlowProperty\",\n",
       "        \"categoryPath\": [\n",
       "          \"Technical flow properties\"\n",
       "        ],\n",
       "        \"name\": \"Mass\"\n",
       "      },\n",
       "      \"input\": false,\n",
       "      \"internalId\": 56,\n",
       "      \"uncertainty\": {\n",
       "        \"@type\": \"Uncertainty\",\n",
       "        \"distributionType\": \"LOG_NORMAL_DISTRIBUTION\",\n",
       "        \"geomMean\": 8.42105263157895e-07,\n",
       "        \"geomSd\": 2.07095735133089\n",
       "      },\n",
       "      \"unit\": {\n",
       "        \"@id\": \"20aadc24-a391-41cf-b340-3e4529f44bde\",\n",
       "        \"@type\": \"Unit\",\n",
       "        \"name\": \"kg\"\n",
       "      }\n",
       "    },\n",
       "    {\n",
       "      \"@type\": \"Exchange\",\n",
       "      \"amount\": 0.000513347254874724,\n",
       "      \"avoidedProduct\": false,\n",
       "      \"defaultProvider\": {\n",
       "        \"@id\": \"d56aa113-97cd-3871-bc28-ac7f162cec0e\",\n",
       "        \"@type\": \"Process\",\n",
       "        \"categoryPath\": [\n",
       "          \"D:Electricity, gas, steam and air conditioning supply\",\n",
       "          \"35:Electricity, gas, steam and air conditioning supply\",\n",
       "          \"351:Electric power generation, transmission and distribution\",\n",
       "          \"3510:Electric power generation, transmission and distribution\"\n",
       "        ],\n",
       "        \"location\": \"RAS\",\n",
       "        \"name\": \"market group for electricity, low voltage | electricity, low voltage | Cutoff, U\",\n",
       "        \"processType\": \"UNIT_PROCESS\"\n",
       "      },\n",
       "      \"description\": \"Literature\",\n",
       "      \"dqEntry\": \"(3;3;5;5;1)\",\n",
       "      \"flow\": {\n",
       "        \"@id\": \"d69294d7-8d64-4915-a896-9996a014c410\",\n",
       "        \"@type\": \"Flow\",\n",
       "        \"categoryPath\": [\n",
       "          \"D:Electricity, gas, steam and air conditioning supply\",\n",
       "          \"35:Electricity, gas, steam and air conditioning supply\",\n",
       "          \"351:Electric power generation, transmission and distribution\",\n",
       "          \"3510:Electric power generation, transmission and distribution\"\n",
       "        ],\n",
       "        \"flowType\": \"PRODUCT_FLOW\",\n",
       "        \"name\": \"electricity, low voltage\",\n",
       "        \"refUnit\": \"MJ\"\n",
       "      },\n",
       "      \"flowProperty\": {\n",
       "        \"@id\": \"f6811440-ee37-11de-8a39-0800200c9a66\",\n",
       "        \"@type\": \"FlowProperty\",\n",
       "        \"categoryPath\": [\n",
       "          \"Technical flow properties\"\n",
       "        ],\n",
       "        \"name\": \"Energy\"\n",
       "      },\n",
       "      \"input\": true,\n",
       "      \"internalId\": 9,\n",
       "      \"uncertainty\": {\n",
       "        \"@type\": \"Uncertainty\",\n",
       "        \"distributionType\": \"LOG_NORMAL_DISTRIBUTION\",\n",
       "        \"geomMean\": 0.000513347254874724,\n",
       "        \"geomSd\": 1.0\n",
       "      },\n",
       "      \"unit\": {\n",
       "        \"@id\": \"86ad2244-1f0e-4912-af53-7865283103e4\",\n",
       "        \"@type\": \"Unit\",\n",
       "        \"name\": \"kWh\"\n",
       "      }\n",
       "    },\n",
       "    {\n",
       "      \"@type\": \"Exchange\",\n",
       "      \"amount\": 5.36842105263158e-07,\n",
       "      \"avoidedProdu...</code></pre>"
      ],
      "text/plain": [
       "Process(id='4f582f90-d0ae-3552-be43-70c730e82af0', olca_type='Process', name='heat production, heavy fuel oil, at industrial furnace 1MW | heat, district or industrial, other than natural gas | Cutoff, U', description='Inventory for heat supply.;[This dataset was already contained in the ecoinvent database version 2. It was not individually updated during the transfer to ecoinvent version 3. Life Cycle Impact Assessment results may still have changed, as they are affected by changes in the supply chain, i.e. in other datasets. This dataset was generated following the ecoinvent quality guidelines for version 2. It may have been subject to central changes described in the ecoinvent version 3 change report (http://www.ecoinvent.org/database/ecoinvent-version-3/reports-of-changes/), and the results of the central updates were reviewed extensively. The changes added e.g. consistent water flows and other information throughout the database. The documentation of this dataset can be found in the ecoinvent reports of version 2, which are still available via the ecoinvent website. The change report linked above covers all central changes that were made during the conversion process.]  Heat delivered by the furnace not including losses during distribution in the factory.', version='03.119.004', last_change='2021-01-04T12:23:36.342+01:00', category=Ref(id='157ef931-ad38-378c-bfdb-2585cf1f2c6a', olca_type='Category', name='3530a: Steam and air conditioning supply based on liquid fuels ', description=None, version=None, last_change=None, category_path=['D:Electricity, gas, steam and air conditioning supply', '35:Electricity, gas, steam and air conditioning supply', '353:Steam and air conditioning supply', '3530:Steam and air conditioning supply'], library=None, ref_unit=None, location=None, flow_type=None, process_type=None), tags=None, library=None, allocation_factors=None, default_allocation_method=None, exchanges=[Exchange(id=None, olca_type='Exchange', avoided_product=False, cost_formula=None, cost_value=0.0106, currency=Ref(id='7de74e65-ff97-404f-bf57-5d2a9134fb43', olca_type='Currency', name='Euro', description=None, version=None, last_change=None, category_path=None, library=None, ref_unit=None, location=None, flow_type=None, process_type=None), internal_id=2, flow=Ref(id='71e2f1db-a2c5-44d0-8337-dfff15be974d', olca_type='Flow', name='heat, district or industrial, other than natural gas', description=None, version=None, last_change=None, category_path=['D:Electricity, gas, steam and air conditioning supply', '35:Electricity, gas, steam and air conditioning supply', '351:Electric power generation, transmission and distribution', '3510:Electric power generation, transmission and distribution'], library=None, ref_unit='MJ', location=None, flow_type=<FlowType.PRODUCT_FLOW: 'PRODUCT_FLOW'>, process_type=None), flow_property=Ref(id='f6811440-ee37-11de-8a39-0800200c9a66', olca_type='FlowProperty', name='Energy', description=None, version=None, last_change=None, category_path=['Technical flow properties'], library=None, ref_unit=None, location=None, flow_type=None, process_type=None), input=False, quantitative_reference=True, base_uncertainty=None, default_provider=None, amount=0.5, amount_formula=None, unit=Ref(id='52765a6c-3896-43c2-b2f4-c679acf13efe', olca_type='Unit', name='MJ', description=None, version=None, last_change=None, category_path=None, library=None, ref_unit=None, location=None, flow_type=None, process_type=None), dq_entry=None, uncertainty=None, description='EcoSpold01Location=CH'), Exchange(id=None, olca_type='Exchange', avoided_product=False, cost_formula=None, cost_value=None, currency=None, internal_id=16, flow=Ref(id='2966d161-5281-47d6-86d3-efbb0a4b2110', olca_type='Flow', name='heavy fuel oil', description=None, version=None, last_change=None, category_path=['C:Manufacturing', '19:Manufacture of coke and refined petroleum products', '192:Manufacture of refined petroleum products', '1920:Manufacture of refined petroleum products'], library=None, ref_unit='kg', location=None, flow_type=<FlowType.PRODUCT_FLOW: 'PRODUCT_FLOW'>, process_type=None), flow_property=Ref(id='93a60a56-a3c8-11da-a746-0800200b9a66', olca_type='FlowProperty', name='Mass', description=None, version=None, last_change=None, category_path=['Technical flow properties'], library=None, ref_unit=None, location=None, flow_type=None, process_type=None), input=True, quantitative_reference=None, base_uncertainty=None, default_provider=Ref(id='e2f3fd75-96ed-3d19-8c7f-902d7fdd6146', olca_type='Process', name='market for heavy fuel oil | heavy fuel oil | Cutoff, U', description=None, version=None, last_change=None, category_path=['C:Manufacturing', '19:Manufacture of coke and refined petroleum products', '192:Manufacture of refined petroleum products', '1920:Manufacture of refined petroleum products'], library=None, ref_unit=None, location='ZA', flow_type=None, process_type=<ProcessType.UNIT_PROCESS: 'UNIT_PROCESS'>), amount=0.00212170676239501, amount_formula=None, unit=Ref(id='20aadc24-a391-41cf-b340-3e4529f44bde', olca_type='Unit', name='kg', description=None, version=None, last_change=None, category_path=None, library=None, ref_unit=None, location=None, flow_type=None, process_type=None), dq_entry='(2;3;5;5;1)', uncertainty=Uncertainty(id=None, olca_type='Uncertainty', distribution_type=<UncertaintyType.LOG_NORMAL_DISTRIBUTION: 'LOG_NORMAL_DISTRIBUTION'>, mean=None, mean_formula=None, geom_mean=0.00212170676239501, geom_mean_formula=None, minimum=None, minimum_formula=None, sd=None, sd_formula=None, geom_sd=1.0, geom_sd_formula=None, mode=None, mode_formula=None, maximum=None, maximum_formula=None), description='Literature'), Exchange(id=None, olca_type='Exchange', avoided_product=False, cost_formula=None, cost_value=None, currency=None, internal_id=46, flow=Ref(id='f9749677-9c9f-4678-ab55-c607dfdc2cb9', olca_type='Flow', name='Carbon dioxide, fossil', description=None, version=None, last_change=None, category_path=['Elementary flows', 'Emission to air', 'high population density'], library=None, ref_unit='kg', location=None, flow_type=<FlowType.ELEMENTARY_FLOW: 'ELEMENTARY_FLOW'>, process_type=None), flow_property=Ref(id='93a60a56-a3c8-11da-a746-0800200b9a66', olca_type='FlowProperty', name='Mass', description=None, version=None, last_change=None, category_path=['Technical flow properties'], library=None, ref_unit=None, location=None, flow_type=None, process_type=None), input=False, quantitative_reference=None, base_uncertainty=None, default_provider=None, amount=0.0831578947368421, amount_formula=None, unit=Ref(id='20aadc24-a391-41cf-b340-3e4529f44bde', olca_type='Unit', name='kg', description=None, version=None, last_change=None, category_path=None, library=None, ref_unit=None, location=None, flow_type=None, process_type=None), dq_entry='(3;3;5;5;1)', uncertainty=Uncertainty(id=None, olca_type='Uncertainty', distribution_type=<UncertaintyType.LOG_NORMAL_DISTRIBUTION: 'LOG_NORMAL_DISTRIBUTION'>, mean=None, mean_formula=None, geom_mean=0.0831578947368421, geom_mean_formula=None, minimum=None, minimum_formula=None, sd=None, sd_formula=None, geom_sd=1.0, geom_sd_formula=None, mode=None, mode_formula=None, maximum=None, maximum_formula=None), description='Literature'), Exchange(id=None, olca_type='Exchange', avoided_product=False, cost_formula=None, cost_value=None, currency=None, internal_id=18, flow=Ref(id='98eb1d16-9d7a-4716-9be4-1449341a832f', olca_type='Flow', name='Sodium', description=None, version=None, last_change=None, category_path=['Elementary flows', 'Emission to air', 'high population density'], library=None, ref_unit='kg', location=None, flow_type=<FlowType.ELEMENTARY_FLOW: 'ELEMENTARY_FLOW'>, process_type=None), flow_property=Ref(id='93a60a56-a3c8-11da-a746-0800200b9a66', olca_type='FlowProperty', name='Mass', description=None, version=None, last_change=None, category_path=['Technical flow properties'], library=None, ref_unit=None, location=None, flow_type=None, process_type=None), input=False, quantitative_reference=None, base_uncertainty=None, default_provider=None, amount=7.89473684210526e-07, amount_formula=None, unit=Ref(id='20aadc24-a391-41cf-b340-3e4529f44bde', olca_type='Unit', name='kg', description=None, version=None, last_change=None, category_path=None, library=None, ref_unit=None, location=None, flow_type=None, process_type=None), dq_entry='(3;3;5;5;1)', uncertainty=Uncertainty(id=None, olca_type='Uncertainty', distribution_type=<UncertaintyType.LOG_NORMAL_DISTRIBUTION: 'LOG_NORMAL_DISTRIBUTION'>, mean=None, mean_formula=None, geom_mean=7.89473684210526e-07, geom_mean_formula=None, minimum=None, minimum_formula=None, sd=None, sd_formula=None, geom_sd=1.2505791921887124, geom_sd_formula=None, mode=None, mode_formula=None, maximum=None, maximum_formula=None), description='Literature'), Exchange(id=None, olca_type='Exchange', avoided_product=False, cost_formula=None, cost_value=None, currency=None, internal_id=56, flow=Ref(id='6dc1b46f-ee89-4495-95c4-b8a637bcd6cb', olca_type='Flow', name='Dinitrogen monoxide', description=None, version=None, last_change=None, category_path=['Elementary flows', 'Emission to air', 'high population density'], library=None, ref_unit='kg', location=None, flow_type=<FlowType.ELEMENTARY_FLOW: 'ELEMENTARY_FLOW'>, process_type=None), flow_property=Ref(id='93a60a56-a3c8-11da-a746-0800200b9a66', olca_type='FlowProperty', name='Mass', description=None, version=None, last_change=None, category_path=['Technical flow properties'], library=None, ref_unit=None, location=None, flow_type=None, process_type=None), input=False, quantitative_reference=None, base_uncertainty=None, default_provider=None, amount=8.42105263157895e-07, amount_formula=None, unit=Ref(id='20aadc24-a391-41cf-b340-3e4529f44bde', olca_type='Unit', name='kg', description=None, version=None, last_change=None, category_path=None, library=None, ref_unit=None, location=None, flow_type=None, process_type=None), dq_entry='(1;1;5;5;1)', uncertainty=Uncertainty(id=None, olca_type='Uncertainty', distribution_type=<UncertaintyType.LOG_NORMAL_DISTRIBUTION: 'LOG_NORMAL_DISTRIBUTION'>, mean=None, mean_formula=None, geom_mean=8.42105263157895e-07, geom_mean_formula=None, minimum=None, minimum_formula=None, sd=None, sd_formula=None, geom_sd=2.07095735133089, geom_sd_formula=None, mode=None, mode_formula=None, maximum=None, maximum_formula=None), description='Calculation from ranges'), Exchange(id=None, olca_type='Exchange', avoided_product=False, cost_formula=None, cost_value=None, currency=None, internal_id=9, flow=Ref(id='d69294d7-8d64-4915-a896-9996a014c410', olca_type='Flow', name='electricity, low voltage', description=None, version=None, last_change=None, category_path=['D:Electricity, gas, steam and air conditioning supply', '35:Electricity, gas, steam and air conditioning supply', '351:Electric power generation, transmission and distribution', '3510:Electric power generation, transmission and distribution'], library=None, ref_unit='MJ', location=None, flow_type=<FlowType.PRODUCT_FLOW: 'PRODUCT_FLOW'>, process_type=None), flow_property=Ref(id='f6811440-ee37-11de-8a39-0800200c9a66', olca_type='FlowProperty', name='Energy', description=None, version=None, last_change=None, category_path=['Technical flow properties'], library=None, ref_unit=None, location=None, flow_type=None, process_type=None), input=True, quantitative_reference=None, base_uncertainty=None, default_provider=Ref(id='d56aa113-97cd-3871-bc28-ac7f162cec0e', olca_type='Process', name='market group for electricity, low voltage | electricity, low voltage | Cutoff, U', description=None, version=None, last_change=None, category_path=['D:Electricity, gas, steam and air conditioning supply', '35:Electricity, gas, steam and air conditioning supply', '351:Electric power generation, transmission and distribution', '3510:Electric power generation, transmission and distribution'], library=None, ref_unit=None, location='RAS', flow_type=None, process_type=<ProcessType.UNIT_PROCESS: 'UNIT_PROCESS'>), amount=0.000513347254874724, amount_formula=None, unit=Ref(id='86ad2244-1f0e-4912-af53-7865283103e4', olca_type='Unit', name='kWh', description=None, version=None, last_change=None, category_path=None, library=None, ref_unit=None, location=None, flow_type=None, process_type=None), dq_entry='(3;3;5;5;1)', uncertainty=Uncertainty(id=None, olca_type='Uncertainty', distribution_type=<UncertaintyType.LOG_NORMAL_DISTRIBUTION: 'LOG_NORMAL_DISTRIBUTION'>, mean=None, mean_formula=None, geom_mean=0.000513347254874724, geom_mean_formula=None, minimum=None, minimum_formula=None, sd=None, sd_formula=None, geom_sd=1.0, geom_sd_formula=None, mode=None, mode_formula=None, maximum=None, maximum_formula=None), description='Literature'), Exchange(id=None, olca_type='Exchange', avoided_product=False, cost_formula=None, cost_value=None, currency=None, internal_id=26, flow=Ref(id='f873299d-0675-4fdc-ad01-c5a4b951b583', olca_type='Flow', name='Methanol', description=None, version=None, last_change=None, category_path=['Elementary flows', 'Emission to air', 'high population density'], library=None, ref_unit='kg', location=None, flow_type=<FlowType.ELEMENTARY_FLOW: 'ELEMENTARY_FLOW'>, process_type=None), flow_property=Ref(id='93a60a56-a3c8-11da-a746-0800200b9a66', olca_type='FlowProperty', name='Mass', description=None, version=None, last_change=None, category_path=['Technical flow properties'], library=None, ref_unit=None, location=None, flow_type=None, process_type=None), input=False, quantitative_reference=None, base_uncertainty=None, default_provider=None, amount=5.36842105263158e-07, amount_formula=None, unit=Ref(id='20aadc24-a391-41cf-b340-3e4529f44bde', olca_type='Unit', name='kg', description=None, version=None, last_change=None, category_path=None, library=None, ref_unit=None, location=None, flow_type=None, process_type=None), dq_entry='(3;3;5;5;1)', uncertainty=Uncertainty(id=None, olca_type='Uncertainty', distribution_type=<UncertaintyType.LOG_NORMAL_DISTRIBUTION: 'LOG_NORMAL_DISTRIBUTION'>, mean=None, mean_formula=None, geom_mean=5.36842105263158e-07, geom_mean_formula=None, minimum=None, minimum_formula=None, sd=None, sd_formula=None, geom_sd=1.2505791921887124, geom_sd_formula=None, mode=None, mode_formula=None, maximum=None, maximum_formula=None), description='Literature'), Exchange(id=None, olca_type='Exchange', avoided_product=False, cost_formula=None, cost_value=None, currency=None, internal_id=32, flow=Ref(id='7a59e8d5-cd11-4ee7-b1ca-30979d2b0b3a', olca_type='Flow', name='Chromium VI', description=None, version=None, last_change=None, category_path=['Elementary flows', 'Emission to air', 'high population density'], library=None, ref_unit='kg', location=None, flow_type=<FlowType.ELEMENTARY_FLOW: 'ELEMENTARY_FLOW'>, process_type=None), flow_property=Ref(id='93a60a56-a3c8-11da-a746-0800200b9a66', olca_type='FlowProperty', name='Mass', description=None, version=None, last_change=None, category_path=['Technical flow properties'], library=None, ref_unit=None, location=None, flow_type=None, process_type=None), input=False, quantitative_reference=None, base_uncertainty=None, default_provider=None, amount=5.26315789473684e-11, amount_formula=None, unit=Ref(id='20aadc24-a391-41cf-b340-3e4529f44bde', olca_type='Unit', name='kg', description=None, version=None, last_change=None, category_path=None, library=None, ref_unit=None, location=None, flow_type=None, process_type=None), dq_entry='(3;3;5;5;1)', uncertainty=Uncertainty(id=None, olca_type='Uncertainty', distribution_type=<UncertaintyType.LOG_NORMAL_DISTRIBUTION: 'LOG_NORMAL_DISTRIBUTION'>, mean=None, mean_formula=None, geom_mean=5.26315789473684e-11, geom_mean_formula=None, minimum=None, minimum_formula=None, sd=None, sd_formula=None, geom_sd=3.168493566955497, geom_sd_formula=None, mode=None, mode_formula=None, maximum=None, maximum_formula=None), description='Literature, estimation 1% Cr VI of Cr, basic uncertainity estimated = 10'), Exchange(id=None, olca_type='Exchange', avoided_product=False, cost_formula=None, cost_value=None, currency=None, internal_id=40, flow=Ref(id='5ad58fcc-e9ba-4155-a3c9-e4ffb3065a6f', olca_type='Flow', name='Acetaldehyde', description=None, version=None, last_change=None, category_path=['Elementary flows', 'Emission to air', 'high population density'], library=None, ref_unit='kg', location=None, flow_type=<FlowType.ELEMENTARY_FLOW: 'ELEMENTARY_FLOW'>, process_type=None), flow_property=Ref(id='93a60a56-a3c8-11da-a746-0800200b9a66', olca_type='FlowProperty', name='Mass', description=None, version=None, last_change=None, category_path=['Technical flow properties'], library=None, ref_unit=None, location=None, flow_type=None, process_type=None), input=False, quantitative_reference=None, base_uncertainty=None, default_provider=None, amount=1.57894736842105e-07, amount_formula=None, unit=Ref(id='20aadc24-a391-41cf-b340-3e4529f44bde', olca_type='Unit', name='kg', description=None, version=None, last_change=None, category_path=None, library=None, ref_unit=None, location=None, flow_type=None, process_type=None), dq_entry='(3;3;5;5;1)', uncertainty=Uncertainty(id=None, olca_type='Uncertainty', distribution_type=<UncertaintyType.LOG_NORMAL_DISTRIBUTION: 'LOG_NORMAL_DISTRIBUTION'>, mean=None, mean_formula=None, geom_mean=1.57894736842105e-07, geom_mean_formula=None, minimum=None, minimum_formula=None, sd=None, sd_formula=None, geom_sd=2.45960311115695, geom_sd_formula=None, mode=None, mode_formula=None, maximum=None, maximum_formula=None), description='Literature, basic uncertainty estimated = 6'), Exchange(id=None, olca_type='Exchange', avoided_product=False, cost_formula=None, cost_value=None, currency=None, internal_id=24, flow=Ref(id='230d8a0a-517c-43fe-8357-1818dd12997a', olca_type='Flow', name='Particulates, < 2.5 um', description=None, version=None, last_change=None, category_path=['Elementary flows', 'Emission to air', 'high population density'], library=None, ref_unit='kg', location=None, flow_type=<FlowType.ELEMENTARY_FLOW: 'ELEMENTARY_FLOW'>, process_type=None), flow_property=Ref(id='93a60a56-a3c8-11da-a746-0800200b9a66', olca_type='FlowProperty', name='Mass', description=None, version=None, last_change=None, category_path=['Technical flow properties'], library=None, ref_unit=None, location=None, flow_type=None, process_type=None), input=False, quantitative_reference=None, base_uncertainty=None, default_provider=None, amount=8.84210526315789e-06, amount_formula=None, unit=Ref(id='20aadc24-a391-41cf-b340-3e4529f44bde', olca_type='Unit', name='kg', description=None, version=None, last_change=None, category_path=None, library=None, ref_unit=None, location=None, flow_type=None, process_type=None), dq_entry='(3;3;5;5;1)', uncertainty=Uncertainty(id=None, olca_type='Uncertainty', distribution_type=<UncertaintyType.LOG_NORMAL_DISTRIBUTION: 'LOG_NORMAL_DISTRIBUTION'>, mean=None, mean_formula=None, geom_mean=8.84210526315789e-06, geom_mean_formula=None, minimum=None, minimum_formula=None, sd=None, sd_formula=None, geom_sd=1.7450381821146503, geom_sd_formula=None, mode=None, mode_formula=None, maximum=None, maximum_formula=None), description='Literature'), Exchange(id=None, olca_type='Exchange', avoided_product=False, cost_formula=None, cost_value=None, currency=None, internal_id=5, flow=Ref(id='d69294d7-8d64-4915-a896-9996a014c410', olca_type='Flow', name='electricity, low voltage', description=None, version=None, last_change=None, category_path=['D:Electricity, gas, steam and air conditioning supply', '35:Electricity, gas, steam and air conditioning supply', '351:Electric power generation, transmission and distribution', '3510:Electric power generation, transmission and distribution'], library=None, ref_unit='MJ', location=None, flow_type=<FlowType.PRODUCT_FLOW: 'PRODUCT_FLOW'>, process_type=None), flow_property=Ref(id='f6811440-ee37-11de-8a39-0800200c9a66', olca_type='FlowProperty', name='Energy', description=None, version=None, last_change=None, category_path=['Technical flow properties'], library=None, ref_unit=None, location=None, flow_type=None, process_type=None), input=True, quantitative_reference=None, base_uncertainty=None, default_provider=Ref(id='4cad833c-c986-38ed-9441-c3693417cbcf', olca_type='Process', name='market for electricity, low voltage | electricity, low voltage | Cutoff, U', description=None, version=None, last_change=None, category_path=['D:Electricity, gas, steam and air conditioning supply', '35:Electricity, gas, steam and air conditioning supply', '351:Electric power generation, transmission and distribution', '3510:Electric power generation, transmission and distribution'], library=None, ref_unit=None, location='AU', flow_type=None, process_type=<ProcessType.UNIT_PROCESS: 'UNIT_PROCESS'>), amount=1.14439303561659e-05, amount_formula=None, unit=Ref(id='86ad2244-1f0e-4912-af53-7865283103e4', olca_type='Unit', name='kWh', description=None, version=None, last_change=None, category_path=None, library=None, ref_unit=None, location=None, flow_type=None, process_type=None), dq_entry='(3;3;5;5;1)', uncertainty=Uncertainty(id=None, olca_type='Uncertainty', distribution_type=<UncertaintyType.LOG_NORMAL_DISTRIBUTION: 'LOG_NORMAL_DISTRIBUTION'>, mean=None, mean_formula=None, geom_mean=1.14439303561659e-05, geom_mean_formula=None, minimum=None, minimum_formula=None, sd=None, sd_formula=None, geom_sd=1.0, geom_sd_formula=None, mode=None, mode_formula=None, maximum=None, maximum_formula=None), description='Literature'), Exchange(id=None, olca_type='Exchange', avoided_product=False, cost_formula=None, cost_value=None, currency=None, internal_id=45, flow=Ref(id='34837fe3-4332-493c-86bb-95a207d9c234', olca_type='Flow', name='Hydrocarbons, aliphatic, unsaturated', description=None, version=None, last_change=None, category_path=['Elementary flows', 'Emission to air', 'high population density'], library=None, ref_unit='kg', location=None, flow_type=<FlowType.ELEMENTARY_FLOW: 'ELEMENTARY_FLOW'>, process_type=None), flow_property=Ref(id='93a60a56-a3c8-11da-a746-0800200b9a66', olca_type='FlowProperty', name='Mass', description=None, version=None, last_change=None, category_path=['Technical flow properties'], library=None, ref_unit=None, location=None, flow_type=None, process_type=None), input=False, quantitative_reference=None, base_uncertainty=None, default_provider=None, amount=3.15789473684211e-08, amount_formula=None, unit=Ref(id='20aadc24-a391-41cf-b340-3e4529f44bde', olca_type='Unit', name='kg', description=None, version=None, last_change=None, category_path=None, library=None, ref_unit=None, location=None, flow_type=None, process_type=None), dq_entry='(3;3;5;5;1)', uncertainty=Uncertainty(id=None, olca_type='Uncertainty', distribution_type=<UncertaintyType.LOG_NORMAL_DISTRIBUTION: 'LOG_NORMAL_DISTRIBUTION'>, mean=None, mean_formula=None, geom_mean=3.15789473684211e-08, geom_mean_formula=None, minimum=None, minimum_formula=None, sd=None, sd_formula=None, geom_sd=2.45960311115695, geom_sd_formula=None, mode=None, mode_formula=None, maximum=None, maximum_formula=None), description='Literature, basic uncertainty estimated = 6'), Exchange(id=None, olca_type='Exchange', avoided_product=False, cost_formula=None, cost_value=None, currency=None, internal_id=55, flow=Ref(id='1f130425-11f9-4ec2-8d2f-d282acaacf5c', olca_type='Flow', name='Acetone', description=None, version=None, last_change=None, category_path=['Elementary flows', 'Emission to air', 'high population density'], library=None, ref_unit='kg', location=None, flow_type=<FlowType.ELEMENTARY_FLOW: 'ELEMENTARY_FLOW'>, process_type=None), flow_property=Ref(id='93a60a56-a3c8-11da-a746-0800200b9a66', olca_type='FlowProperty', name='Mass', description=None, version=None, last_change=None, category_path=['Technical flow properties'], library=None, ref_unit=None, location=None, flow_type=None, process_type=None), input=False, quantitative_reference=None, base_uncertainty=None, default_provider=None, amount=1.57894736842105e-07, amount_formula=None, unit=Ref(id='20aadc24-a391-41cf-b340-3e4529f44bde', olca_type='Unit', name='kg', description=None, version=None, last_change=None, category_path=None, library=None, ref_unit=None, location=None, flow_type=None, process_type=None), dq_entry='(3;3;5;5;1)', uncertainty=Uncertainty(id=None, olca_type='Uncertainty', distribution_type=<UncertaintyType.LOG_NORMAL_DISTRIBUTION: 'LOG_NORMAL_DISTRIBUTION'>, mean=None, mean_formula=None, geom_mean=1.57894736842105e-07, geom_mean_formula=None, minimum=None, minimum_formula=None, sd=None, sd_formula=None, geom_sd=2.45960311115695, geom_sd_formula=None, mode=None, mode_formula=None, maximum=None, maximum_formula=None), description='Literature, basic uncertainty estimated = 6'), Exchange(id=None, olca_type='Exchange', avoided_product=False, cost_formula=None, cost_value=None, currency=None, internal_id=41, flow=Ref(id='379a827c-3290-4810-9689-b9e892945836', olca_type='Flow', name='Ethanol', description=None, version=None, last_change=None, category_path=['Elementary flows', 'Emission to air', 'high population density'], library=None, ref_unit='kg', location=None, flow_type=<FlowType.ELEMENTARY_FLOW: 'ELEMENTARY_FLOW'>, process_type=None), flow_property=Ref(id='93a60a56-a3c8-11da-a746-0800200b9a66', olca_type='FlowProperty', name='Mass', description=None, version=None, last_change=None, category_path=['Technical flow properties'], library=None, ref_unit=None, location=None, flow_type=None, process_type=None), input=False, quantitative_reference=None, base_uncertainty=None, default_provider=None, amount=3.15789473684211e-07, amount_formula=None, unit=Ref(id='20aadc24-a391-41cf-b340-3e4529f44bde', olca_type='Unit', name='kg', description=None, version=None, last_change=None, category_path=None, library=None, ref_unit=None, location=None, flow_type=None, process_type=None), dq_entry='(3;3;5;5;1)', uncertainty=Uncertainty(id=None, olca_type='Uncertainty', distribution_type=<UncertaintyType.LOG_NORMAL_DISTRIBUTION: 'LOG_NORMAL_DISTRIBUTION'>, mean=None, mean_formula=None, geom_mean=3.15789473684211e-07, geom_mean_formula=None, minimum=None, minimum_formula=None, sd=None, sd_formula=None, geom_sd=2.45960311115695, geom_sd_formula=None, mode=None, mode_formula=None, maximum=None, maximum_formula=None), description='Literature, basic uncertainty estimated = 6'), Exchange(id=None, olca_type='Exchange', avoided_product=False, cost_formula=None, cost_value=None, currency=None, internal_id=44, flow=Ref(id='1eb1b94c-e9d8-47ab-969b-9cca920157d8', olca_type='Flow', name='Particulates, > 10 um', description=None, version=None, last_change=None, category_path=['Elementary flows', 'Emission to air', 'high population density'], library=None, ref_unit='kg', location=None, flow_type=<FlowType.ELEMENTARY_FLOW: 'ELEMENTARY_FLOW'>, process_type=None), flow_property=Ref(id='93a60a56-a3c8-11da-a746-0800200b9a66', olca_type='FlowProperty', name='Mass', description=None, version=None, last_change=None, category_path=['Technical flow properties'], library=None, ref_unit=None, location=None, flow_type=None, process_type=None), input=False, quantitative_reference=None, base_uncertainty=None, default_provider=None, amount=2.52631578947368e-06, amount_formula=None, unit=Ref(id='20aadc24-a391-41cf-b340-3e4529f44bde', olca_type='Unit', name='kg', description=None, version=None, last_change=None, category_path=None, library=None, ref_unit=None, location=None, flow_type=None, process_type=None), dq_entry='(3;3;5;5;1)', uncertainty=Uncertainty(id=None, olca_type='Uncertainty', distribution_type=<UncertaintyType.LOG_NORMAL_DISTRIBUTION: 'LOG_NORMAL_DISTRIBUTION'>, mean=None, mean_formula=None, geom_mean=2.52631578947368e-06, geom_mean_formula=None, minimum=None, minimum_formula=None, sd=None, sd_formula=None, geom_sd=1.7450381821146503, geom_sd_formula=None, mode=None, mode_formula=None, maximum=None, maximum_formula=None), description='Literature, basic uncertainty estimated = 3'), Exchange(id=None, olca_type='Exchange', avoided_product=False, cost_formula=None, cost_value=None, currency=None, internal_id=47, flow=Ref(id='6edcc2df-88a3-48e1-83d8-ffc38d31c35b', olca_type='Flow', name='Carbon monoxide, fossil', description=None, version=None, last_change=None, category_path=['Elementary flows', 'Emission to air', 'high population density'], library=None, ref_unit='kg', location=None, flow_type=<FlowType.ELEMENTARY_FLOW: 'ELEMENTARY_FLOW'>, process_type=None), flow_property=Ref(id='93a60a56-a3c8-11da-a746-0800200b9a66', olca_type='FlowProperty', name='Mass', description=None, version=None, last_change=None, category_path=['Technical flow properties'], library=None, ref_unit=None, location=None, flow_type=None, process_type=None), input=False, quantitative_reference=None, base_uncertainty=None, default_provider=None, amount=7.36842105263158e-06, amount_formula=None, unit=Ref(id='20aadc24-a391-41cf-b340-3e4529f44bde', olca_type='Unit', name='kg', description=None, version=None, last_change=None, category_path=None, library=None, ref_unit=None, location=None, flow_type=None, process_type=None), dq_entry='(1;1;5;5;1)', uncertainty=Uncertainty(id=None, olca_type='Uncertainty', distribution_type=<UncertaintyType.LOG_NORMAL_DISTRIBUTION: 'LOG_NORMAL_DISTRIBUTION'>, mean=None, mean_formula=None, geom_mean=7.36842105263158e-06, geom_mean_formula=None, minimum=None, minimum_formula=None, sd=None, sd_formula=None, geom_sd=1.4918246976412703, geom_sd_formula=None, mode=None, mode_formula=None, maximum=None, maximum_formula=None), description='Calculation from ranges'), Exchange(id=None, olca_type='Exchange', avoided_product=False, cost_formula=None, cost_value=None, currency=None, internal_id=36, flow=Ref(id='748f22a9-eba4-4726-bef5-92c7442ce189', olca_type='Flow', name='Zinc', description=None, version=None, last_change=None, category_path=['Elementary flows', 'Emission to air', 'high population density'], library=None, ref_unit='kg', location=None, flow_type=<FlowType.ELEMENTARY_FLOW: 'ELEMENTARY_FLOW'>, process_type=None), flow_property=Ref(id='93a60a56-a3c8-11da-a746-0800200b9a66', olca_type='FlowProperty', name='Mass', description=None, version=None, last_change=None, category_path=['Technical flow properties'], library=None, ref_unit=None, location=None, flow_type=None, process_type=None), input=False, quantitative_reference=None, base_uncertainty=None, default_provider=None, amount=5.78947368421053e-08, amount_formula=None, unit=Ref(id='20aadc24-a391-41cf-b340-3e4529f44bde', olca_type='Unit', name='kg', description=None, version=None, last_change=None, category_path=None, library=None, ref_unit=None, location=None, flow_type=None, process_type=None), dq_entry='(3;3;5;5;1)', uncertainty=Uncertainty(id=None, olca_type='Uncertainty', distribution_type=<UncertaintyType.LOG_NORMAL_DISTRIBUTION: 'LOG_NORMAL_DISTRIBUTION'>, mean=None, mean_formula=None, geom_mean=5.78947368421053e-08, geom_mean_formula=None, minimum=None, minimum_formula=None, sd=None, sd_formula=None, geom_sd=2.239439866122061, geom_sd_formula=None, mode=None, mode_formula=None, maximum=None, maximum_formula=None), description='Literature'), Exchange(id=None, olca_type='Exchange', avoided_product=False, cost_formula=None, cost_value=None, currency=None, internal_id=28, flow=Ref(id='32cd0492-c0cb-4898-a2b1-675eedc5b688', olca_type='Flow', name='Iron', description=None, version=None, last_change=None, category_path=['Elementary flows', 'Emission to air', 'high population density'], library=None, ref_unit='kg', location=None, flow_type=<FlowType.ELEMENTARY_FLOW: 'ELEMENTARY_FLOW'>, process_type=None), flow_property=Ref(id='93a60a56-a3c8-11da-a746-0800200b9a66', olca_type='FlowProperty', name='Mass', description=None, version=None, last_change=None, category_path=['Technical flow properties'], library=None, ref_unit=None, location=None, flow_type=None, process_type=None), input=False, quantitative_reference=None, base_uncertainty=None, default_provider=None, amount=8.63157894736842e-07, amount_formula=None, unit=Ref(id='20aadc24-a391-41cf-b340-3e4529f44bde', olca_type='Unit', name='kg', description=None, version=None, last_change=None, category_path=None, library=None, ref_unit=None, location=None, flow_type=None, process_type=None), dq_entry='(3;3;5;5;1)', uncertainty=Uncertainty(id=None, olca_type='Uncertainty', distribution_type=<UncertaintyType.LOG_NORMAL_DISTRIBUTION: 'LOG_NORMAL_DISTRIBUTION'>, mean=None, mean_formula=None, geom_mean=8.63157894736842e-07, geom_mean_formula=None, minimum=None, minimum_formula=None, sd=None, sd_formula=None, geom_sd=2.239439866122061, geom_sd_formula=None, mode=None, mode_formula=None, maximum=None, maximum_formula=None), description='Literature'), Exchange(id=None, olca_type='Exchange', avoided_product=False, cost_formula=None, cost_value=None, currency=None, internal_id=49, flow=Ref(id='9990b51b-7023-4700-bca0-1a32ef921f74', olca_type='Flow', name='Ammonia', description=None, version=None, last_change=None, category_path=['Elementary flows', 'Emission to air', 'high population density'], library=None, ref_unit='kg', location=None, flow_type=<FlowType.ELEMENTARY_FLOW: 'ELEMENTARY_FLOW'>, process_type=None), flow_property=Ref(id='93a60a56-a3c8-11da-a746-0800200b9a66', olca_type='FlowProperty', name='Mass', description=None, version=None, last_change=None, category_path=['Technical flow properties'], library=None, ref_unit=None, location=None, flow_type=None, process_type=None), input=False, quantitative_reference=None, base_uncertainty=None, default_provider=None, amount=1.05263157894737e-08, amount_formula=None, unit=Ref(id='20aadc24-a391-41cf-b340-3e4529f44bde', olca_type='Unit', name='kg', description=None, version=None, last_change=None, category_path=None, library=None, ref_unit=None, location=None, flow_type=None, process_type=None), dq_entry='(1;1;5;5;1)', uncertainty=Uncertainty(id=None, olca_type='Uncertainty', distribution_type=<UncertaintyType.LOG_NORMAL_DISTRIBUTION: 'LOG_NORMAL_DISTRIBUTION'>, mean=None, mean_formula=None, geom_mean=1.05263157894737e-08, geom_mean_formula=None, minimum=None, minimum_formula=None, sd=None, sd_formula=None, geom_sd=1.9703929666467694, geom_sd_formula=None, mode=None, mode_formula=None, maximum=None, maximum_formula=None), description='Literature, calculation from ranges'), Exchange(id=None, olca_type='Exchange', avoided_product=False, cost_formula=None, cost_value=None, currency=None, internal_id=33, flow=Ref(id='257eacb9-96fe-4a3d-961a-f5e6c7823ff0', olca_type='Flow', name='Hydrogen fluoride', description=None, version=None, last_change=None, category_path=['Elementary flows', 'Emission to air', 'high population density'], library=None, ref_unit='kg', location=None, flow_type=<FlowType.ELEMENTARY_FLOW: 'ELEMENTARY_FLOW'>, process_type=None), flow_property=Ref(id='93a60a56-a3c8-11da-a746-0800200b9a66', olca_type='FlowProperty', name='Mass', description=None, version=None, last_change=None, category_path=['Technical flow properties'], library=None, ref_unit=None, location=None, flow_type=None, process_type=None), input=False, quantitative_reference=None, base_uncertainty=None, default_provider=None, amount=5.05263157894737e-08, amount_formula=None, unit=Ref(id='20aadc24-a391-41cf-b340-3e4529f44bde', olca_type='Unit', name='kg', description=None, version=None, last_change=None, category_path=None, library=None, ref_unit=None, location=None, flow_type=None, process_type=None), dq_entry='(3;3;5;5;1)', uncertainty=Uncertainty(id=None, olca_type='Uncertainty', distribution_type=<UncertaintyType.LOG_NORMAL_DISTRIBUTION: 'LOG_NORMAL_DISTRIBUTION'>, mean=None, mean_formula=None, geom_mean=5.05263157894737e-08, geom_mean_formula=None, minimum=None, minimum_formula=None, sd=None, sd_formula=None, geom_sd=1.2505791921887124, geom_sd_formula=None, mode=None, mode_formula=None, maximum=None, maximum_formula=None), description='Literature'), Exchange(id=None, olca_type='Exchange', avoided_product=False, cost_formula=None, cost_value=None, currency=None, internal_id=39, flow=Ref(id='39946c56-cdf6-4a22-9ac9-1cd333b65533', olca_type='Flow', name='Toluene', description=None, version=None, last_change=None, category_path=['Elementary flows', 'Emission to air', 'high population density'], library=None, ref_unit='kg', location=None, flow_type=<FlowType.ELEMENTARY_FLOW: 'ELEMENTARY_FLOW'>, process_type=None), flow_property=Ref(id='93a60a56-a3c8-11da-a746-0800200b9a66', olca_type='FlowProperty', name='Mass', description=None, version=None, last_change=None, category_path=['Technical flow properties'], library=None, ref_unit=None, location=None, flow_type=None, process_type=None), input=False, quantitative_reference=None, base_uncertainty=None, default_provider=None, amount=3.15789473684211e-08, amount_formula=None, unit=Ref(id='20aadc24-a391-41cf-b340-3e4529f44bde', olca_type='Unit', name='kg', description=None, version=None, last_change=None, category_path=None, library=None, ref_unit=None, location=None, flow_type=None, process_type=None), dq_entry='(3;3;5;5;1)', uncertainty=Uncertainty(id=None, olca_type='Uncertainty', distribution_type=<UncertaintyType.LOG_NORMAL_DISTRIBUTION: 'LOG_NORMAL_DISTRIBUTION'>, mean=None, mean_formula=None, geom_mean=3.15789473684211e-08, geom_mean_formula=None, minimum=None, minimum_formula=None, sd=None, sd_formula=None, geom_sd=2.45960311115695, geom_sd_formula=None, mode=None, mode_formula=None, maximum=None, maximum_formula=None), description='Literature, basic uncertainty estimated = 6'), Exchange(id=None, olca_type='Exchange', avoided_product=False, cost_formula=None, cost_value=None, currency=None, internal_id=48, flow=Ref(id='b9b68c0c-053e-41de-ab72-8dfe1c3f5755', olca_type='Flow', name='Acetic acid', description=None, version=None, last_change=None, category_path=['Elementary flows', 'Emission to air', 'high population density'], library=None, ref_unit='kg', location=None, flow_type=<FlowType.ELEMENTARY_FLOW: 'ELEMENTARY_FLOW'>, process_type=None), flow_property=Ref(id='93a60a56-a3c8-11da-a746-0800200b9a66', olca_type='FlowProperty', name='Mass', description=None, version=None, last_change=None, category_path=['Technical flow properties'], library=None, ref_unit=None, location=None, flow_type=None, process_type=None), input=False, quantitative_reference=None, base_uncertainty=None, default_provider=None, amount=6.31578947368421e-07, amount_formula=None, unit=Ref(id='20aadc24-a391-41cf-b340-3e4529f44bde', olca_type='Unit', name='kg', description=None, version=None, last_change=None, category_path=None, library=None, ref_unit=None, location=None, flow_type=None, process_type=None), dq_entry='(3;3;5;5;1)', uncertainty=Uncertainty(id=None, olca_type='Uncertainty', distribution_type=<UncertaintyType.LOG_NORMAL_DISTRIBUTION: 'LOG_NORMAL_DISTRIBUTION'>, mean=None, mean_formula=None, geom_mean=6.31578947368421e-07, geom_mean_formula=None, minimum=None, minimum_formula=None, sd=None, sd_formula=None, geom_sd=2.45960311115695, geom_sd_formula=None, mode=None, mode_formula=None, maximum=None, maximum_formula=None), description='Literature, basic uncertainty estimated = 6'), Exchange(id=None, olca_type='Exchange', avoided_product=False, cost_formula=None, cost_value=None, currency=None, internal_id=14, flow=Ref(id='2966d161-5281-47d6-86d3-efbb0a4b2110', olca_type='Flow', name='heavy fuel oil', description=None, version=None, last_change=None, category_path=['C:Manufacturing', '19:Manufacture of coke and refined petroleum products', '192:Manufacture of refined petroleum products', '1920:Manufacture of refined petroleum products'], library=None, ref_unit='kg', location=None, flow_type=<FlowType.PRODUCT_FLOW: 'PRODUCT_FLOW'>, process_type=None), flow_property=Ref(id='93a60a56-a3c8-11da-a746-0800200b9a66', olca_type='FlowProperty', name='Mass', description=None, version=None, last_change=None, category_path=['Technical flow properties'], library=None, ref_unit=None, location=None, flow_type=None, process_type=None), input=True, quantitative_reference=None, base_uncertainty=None, default_provider=Ref(id='2a2f3696-179e-3bcf-b1ad-1ebc6686e16a', olca_type='Process', name='market for heavy fuel oil | heavy fuel oil | Cutoff, U', description=None, version=None, last_change=None, category_path=['C:Manufacturing', '19:Manufacture of coke and refined petroleum products', '192:Manufacture of refined petroleum products', '1920:Manufacture of refined petroleum products'], library=None, ref_unit=None, location='IN', flow_type=None, process_type=<ProcessType.UNIT_PROCESS: 'UNIT_PROCESS'>), amount=0.00840809839206188, amount_formula=None, unit=Ref(id='20aadc24-a391-41cf-b340-3e4529f44bde', olca_type='Unit', name='kg', description=None, version=None, last_change=None, category_path=None, library=None, ref_unit=None, location=None, flow_type=None, process_type=None), dq_entry='(2;3;5;5;1)', uncertainty=Uncertainty(id=None, olca_type='Uncertainty', distribution_type=<UncertaintyType.LOG_NORMAL_DISTRIBUTION: 'LOG_NORMAL_DISTRIBUTION'>, mean=None, mean_formula=None, geom_mean=0.00840809839206188, geom_mean_formula=None, minimum=None, minimum_formula=None, sd=None, sd_formula=None, geom_sd=1.0, geom_sd_formula=None, mode=None, mode_formula=None, maximum=None, maximum_formula=None), description='Literature'), Exchange(id=None, olca_type='Exchange', avoided_product=False, cost_formula=None, cost_value=None, currency=None, internal_id=7, flow=Ref(id='d69294d7-8d64-4915-a896-9996a014c410', olca_type='Flow', name='electricity, low voltage', description=None, version=None, last_change=None, category_path=['D:Electricity, gas, steam and air conditioning supply', '35:Electricity, gas, steam and air conditioning supply', '351:Electric power generation, transmission and distribution', '3510:Electric power generation, transmission and distribution'], library=None, ref_unit='MJ', location=None, flow_type=<FlowType.PRODUCT_FLOW: 'PRODUCT_FLOW'>, process_type=None), flow_property=Ref(id='f6811440-ee37-11de-8a39-0800200c9a66', olca_type='FlowProperty', name='Energy', description=None, version=None, last_change=None, category_path=['Technical flow properties'], library=None, ref_unit=None, location=None, flow_type=None, process_type=None), input=True, quantitative_reference=None, base_uncertainty=None, default_provider=Ref(id='0d38ac61-c952-3d1e-a4ee-500734f7342f', olca_type='Process', name='market group for electricity, low voltage | electricity, low voltage | Cutoff, U', description=None, version=None, last_change=None, category_path=['D:Electricity, gas, steam and air conditioning supply', '35:Electricity, gas, steam and air conditioning supply', '351:Electric power generation, transmission and distribution', '3510:Electric power generation, transmission and distribution'], library=None, ref_unit=None, location='Canada without Quebec', flow_type=None, process_type=<ProcessType.UNIT_PROCESS: 'UNIT_PROCESS'>), amount=1.63048418885122e-05, amount_formula=None, unit=Ref(id='86ad2244-1f0e-4912-af53-7865283103e4', olca_type='Unit', name='kWh', description=None, version=None, last_change=None, category_path=None, library=None, ref_unit=None, location=None, flow_type=None, process_type=None), dq_entry='(3;3;5;5;1)', uncertainty=Uncertainty(id=None, olca_type='Uncertainty', distribution_type=<UncertaintyType.LOG_NORMAL_DISTRIBUTION: 'LOG_NORMAL_DISTRIBUTION'>, mean=None, mean_formula=None, geom_mean=1.63048418885122e-05, geom_mean_formula=None, minimum=None, minimum_formula=None, sd=None, sd_formula=None, geom_sd=1.0, geom_sd_formula=None, mode=None, mode_formula=None, maximum=None, maximum_formula=None), description='Literature'), Exchange(id=None, olca_type='Exchange', avoided_product=False, cost_formula=None, cost_value=None, currency=None, internal_id=30, flow=Ref(id='afcbd980-14c2-4e1d-a0aa-5f6464e5c76b', olca_type='Flow', name='Hydrogen chloride', description=None, version=None, last_change=None, category_path=['Elementary flows', 'Emission to air', 'high population density'], library=None, ref_unit='kg', location=None, flow_type=<FlowType.ELEMENTARY_FLOW: 'ELEMENTARY_FLOW'>, process_type=None), flow_property=Ref(id='93a60a56-a3c8-11da-a746-0800200b9a66', olca_type='FlowProperty', name='Mass', description=None, version=None, last_change=None, category_path=['Technical flow properties'], library=None, ref_unit=None, location=None, flow_type=None, process_type=None), input=False, quantitative_reference=None, base_uncertainty=None, default_provider=None, amount=1.51578947368421e-06, amount_formula=None, unit=Ref(id='20aadc24-a391-41cf-b340-3e4529f44bde', olca_type='Unit', name='kg', description=None, version=None, last_change=None, category_path=None, library=None, ref_unit=None, location=None, flow_type=None, process_type=None), dq_entry='(3;3;5;5;1)', uncertainty=Uncertainty(id=None, olca_type='Uncertainty', distribution_type=<UncertaintyType.LOG_NORMAL_DISTRIBUTION: 'LOG_NORMAL_DISTRIBUTION'>, mean=None, mean_formula=None, geom_mean=1.51578947368421e-06, geom_mean_formula=None, minimum=None, minimum_formula=None, sd=None, sd_formula=None, geom_sd=1.2505791921887124, geom_sd_formula=None, mode=None, mode_formula=None, maximum=None, maximum_formula=None), description='Literature'), Exchange(id=None, olca_type='Exchange', avoided_product=False, cost_formula=None, cost_value=None, currency=None, internal_id=27, flow=Ref(id='20664d0e-24e3-4daa-8c5c-2ade6e0c2723', olca_type='Flow', name='Formaldehyde', description=None, version=None, last_change=None, category_path=['Elementary flows', 'Emission to air', 'high population density'], library=None, ref_unit='kg', location=None, flow_type=<FlowType.ELEMENTARY_FLOW: 'ELEMENTARY_FLOW'>, process_type=None), flow_property=Ref(id='93a60a56-a3c8-11da-a746-0800200b9a66', olca_type='FlowProperty', name='Mass', description=None, version=None, last_change=None, category_path=['Technical flow properties'], library=None, ref_unit=None, location=None, flow_type=None, process_type=None), input=False, quantitative_reference=None, base_uncertainty=None, default_provider=None, amount=4.73684210526316e-07, amount_formula=None, unit=Ref(id='20aadc24-a391-41cf-b340-3e4529f44bde', olca_type='Unit', name='kg', description=None, version=None, last_change=None, category_path=None, library=None, ref_unit=None, location=None, flow_type=None, process_type=None), dq_entry='(3;3;5;5;1)', uncertainty=Uncertainty(id=None, olca_type='Uncertainty', distribution_type=<UncertaintyType.LOG_NORMAL_DISTRIBUTION: 'LOG_NORMAL_DISTRIBUTION'>, mean=None, mean_formula=None, geom_mean=4.73684210526316e-07, geom_mean_formula=None, minimum=None, minimum_formula=None, sd=None, sd_formula=None, geom_sd=2.45960311115695, geom_sd_formula=None, mode=None, mode_formula=None, maximum=None, maximum_formula=None), description='Literature, basic uncertainty estimated = 6'), Exchange(id=None, olca_type='Exchange', avoided_product=False, cost_formula=None, cost_value=None, currency=None, internal_id=34, flow=Ref(id='6a903634-c97f-4c49-a7c0-88f0e6ac7a23', olca_type='Flow', name='Lead', description=None, version=None, last_change=None, category_path=['Elementary flows', 'Emission to air', 'high population density'], library=None, ref_unit='kg', location=None, flow_type=<FlowType.ELEMENTARY_FLOW: 'ELEMENTARY_FLOW'>, process_type=None), flow_property=Ref(id='93a60a56-a3c8-11da-a746-0800200b9a66', olca_type='FlowProperty', name='Mass', description=None, version=None, last_change=None, category_path=['Technical flow properties'], library=None, ref_unit=None, location=None, flow_type=None, process_type=None), input=False, quantitative_reference=None, base_uncertainty=None, default_provider=None, amount=1.52631578947368e-07, amount_formula=None, unit=Ref(id='20aadc24-a391-41cf-b340-3e4529f44bde', olca_type='Unit', name='kg', description=None, version=None, last_change=None, category_path=None, library=None, ref_unit=None, location=None, flow_type=None, process_type=None), dq_entry='(3;3;5;5;1)', uncertainty=Uncertainty(id=None, olca_type='Uncertainty', distribution_type=<UncertaintyType.LOG_NORMAL_DISTRIBUTION: 'LOG_NORMAL_DISTRIBUTION'>, mean=None, mean_formula=None, geom_mean=1.52631578947368e-07, geom_mean_formula=None, minimum=None, minimum_formula=None, sd=None, sd_formula=None, geom_sd=2.239439866122061, geom_sd_formula=None, mode=None, mode_formula=None, maximum=None, maximum_formula=None), description='Literature'), Exchange(id=None, olca_type='Exchange', avoided_product=False, cost_formula=None, cost_value=None, currency=None, internal_id=42, flow=Ref(id='f4d0a2c8-efef-4188-85da-5801097389a2', olca_type='Flow', name='Arsenic', description=None, version=None, last_change=None, category_path=['Elementary flows', 'Emission to air', 'high population density'], library=None, ref_unit='kg', location=None, flow_type=<FlowType.ELEMENTARY_FLOW: 'ELEMENTARY_FLOW'>, process_type=None), flow_property=Ref(id='93a60a56-a3c8-11da-a746-0800200b9a66', olca_type='FlowProperty', name='Mass', description=None, version=None, last_change=None, category_path=['Technical flow properties'], library=None, ref_unit=None, location=None, flow_type=None, process_type=None), input=False, quantitative_reference=None, base_uncertainty=None, default_provider=None, amount=1.36842105263158e-08, amount_formula=None, unit=Ref(id='20aadc24-a391-41cf-b340-3e4529f44bde', olca_type='Unit', name='kg', description=None, version=None, last_change=None, category_path=None, library=None, ref_unit=None, location=None, flow_type=None, process_type=None), dq_entry='(3;3;5;5;1)', uncertainty=Uncertainty(id=None, olca_type='Uncertainty', distribution_type=<UncertaintyType.LOG_NORMAL_DISTRIBUTION: 'LOG_NORMAL_DISTRIBUTION'>, mean=None, mean_formula=None, geom_mean=1.36842105263158e-08, geom_mean_formula=None, minimum=None, minimum_formula=None, sd=None, sd_formula=None, geom_sd=2.239439866122061, geom_sd_formula=None, mode=None, mode_formula=None, maximum=None, maximum_formula=None), description='Literature'), Exchange(id=None, olca_type='Exchange', avoided_product=False, cost_formula=None, cost_value=None, currency=None, internal_id=23, flow=Ref(id='88cde01c-df69-40bb-9b14-6eac71bea5b8', olca_type='Flow', name='Copper', description=None, version=None, last_change=None, category_path=['Elementary flows', 'Emission to air', 'high population density'], library=None, ref_unit='kg', location=None, flow_type=<FlowType.ELEMENTARY_FLOW: 'ELEMENTARY_FLOW'>, process_type=None), flow_property=Ref(id='93a60a56-a3c8-11da-a746-0800200b9a66', olca_type='FlowProperty', name='Mass', description=None, version=None, last_change=None, category_path=['Technical flow properties'], library=None, ref_unit=None, location=None, flow_type=None, process_type=None), input=False, quantitative_reference=None, base_uncertainty=None, default_provider=None, amount=1.68421052631579e-08, amount_formula=None, unit=Ref(id='20aadc24-a391-41cf-b340-3e4529f44bde', olca_type='Unit', name='kg', description=None, version=None, last_change=None, category_path=None, library=None, ref_unit=None, location=None, flow_type=None, process_type=None), dq_entry='(3;3;5;5;1)', uncertainty=Uncertainty(id=None, olca_type='Uncertainty', distribution_type=<UncertaintyType.LOG_NORMAL_DISTRIBUTION: 'LOG_NORMAL_DISTRIBUTION'>, mean=None, mean_formula=None, geom_mean=1.68421052631579e-08, geom_mean_formula=None, minimum=None, minimum_formula=None, sd=None, sd_formula=None, geom_sd=2.239439866122061, geom_sd_formula=None, mode=None, mode_formula=None, maximum=None, maximum_formula=None), description='Literature'), Exchange(id=None, olca_type='Exchange', avoided_product=False, cost_formula=None, cost_value=None, currency=None, internal_id=51, flow=Ref(id='7705f0e1-5b14-44f4-b330-1245b5c7fc08', olca_type='Flow', name='Chromium', description=None, version=None, last_change=None, category_path=['Elementary flows', 'Emission to air', 'high population density'], library=None, ref_unit='kg', location=None, flow_type=<FlowType.ELEMENTARY_FLOW: 'ELEMENTARY_FLOW'>, process_type=None), flow_property=Ref(id='93a60a56-a3c8-11da-a746-0800200b9a66', olca_type='FlowProperty', name='Mass', description=None, version=None, last_change=None, category_path=['Technical flow properties'], library=None, ref_unit=None, location=None, flow_type=None, process_type=None), input=False, quantitative_reference=None, base_uncertainty=None, default_provider=None, amount=5.21052631578947e-09, amount_formula=None, unit=Ref(id='20aadc24-a391-41cf-b340-3e4529f44bde', olca_type='Unit', name='kg', description=None, version=None, last_change=None, category_path=None, library=None, ref_unit=None, location=None, flow_type=None, process_type=None), dq_entry='(3;3;5;5;1)', uncertainty=Uncertainty(id=None, olca_type='Uncertainty', distribution_type=<UncertaintyType.LOG_NORMAL_DISTRIBUTION: 'LOG_NORMAL_DISTRIBUTION'>, mean=None, mean_formula=None, geom_mean=5.21052631578947e-09, geom_mean_formula=None, minimum=None, minimum_formula=None, sd=None, sd_formula=None, geom_sd=2.239439866122061, geom_sd_formula=None, mode=None, mode_formula=None, maximum=None, maximum_formula=None), description='Literature'), Exchange(id=None, olca_type='Exchange', avoided_product=False, cost_formula=None, cost_value=None, currency=None, internal_id=13, flow=Ref(id='2966d161-5281-47d6-86d3-efbb0a4b2110', olca_type='Flow', name='heavy fuel oil', description=None, version=None, last_change=None, category_path=['C:Manufacturing', '19:Manufacture of coke and refined petroleum products', '192:Manufacture of refined petroleum products', '1920:Manufacture of refined petroleum products'], library=None, ref_unit='kg', location=None, flow_type=<FlowType.PRODUCT_FLOW: 'PRODUCT_FLOW'>, process_type=None), flow_property=Ref(id='93a60a56-a3c8-11da-a746-0800200b9a66', olca_type='FlowProperty', name='Mass', description=None, version=None, last_change=None, category_path=['Technical flow properties'], library=None, ref_unit=None, location=None, flow_type=None, process_type=None), input=True, quantitative_reference=None, base_uncertainty=None, default_provider=Ref(id='8f0cc788-94d9-33e5-bd68-e7aedb86cd36', olca_type='Process', name='market for heavy fuel oil | heavy fuel oil | Cutoff, U', description=None, version=None, last_change=None, category_path=['C:Manufacturing', '19:Manufacture of coke and refined petroleum products', '192:Manufacture of refined petroleum products', '1920:Manufacture of refined petroleum products'], library=None, ref_unit=None, location='CO', flow_type=None, process_type=<ProcessType.UNIT_PROCESS: 'UNIT_PROCESS'>), amount=0.00284021995991295, amount_formula=None, unit=Ref(id='20aadc24-a391-41cf-b340-3e4529f44bde', olca_type='Unit', name='kg', description=None, version=None, last_change=None, category_path=None, library=None, ref_unit=None, location=None, flow_type=None, process_type=None), dq_entry='(2;3;5;5;1)', uncertainty=Uncertainty(id=None, olca_type='Uncertainty', distribution_type=<UncertaintyType.LOG_NORMAL_DISTRIBUTION: 'LOG_NORMAL_DISTRIBUTION'>, mean=None, mean_formula=None, geom_mean=0.00284021995991295, geom_mean_formula=None, minimum=None, minimum_formula=None, sd=None, sd_formula=None, geom_sd=1.0, geom_sd_formula=None, mode=None, mode_formula=None, maximum=None, maximum_formula=None), description='Literature'), Exchange(id=None, olca_type='Exchange', avoided_product=False, cost_formula=None, cost_value=None, currency=None, internal_id=6, flow=Ref(id='d69294d7-8d64-4915-a896-9996a014c410', olca_type='Flow', name='electricity, low voltage', description=None, version=None, last_change=None, category_path=['D:Electricity, gas, steam and air conditioning supply', '35:Electricity, gas, steam and air conditioning supply', '351:Electric power generation, transmission and distribution', '3510:Electric power generation, transmission and distribution'], library=None, ref_unit='MJ', location=None, flow_type=<FlowType.PRODUCT_FLOW: 'PRODUCT_FLOW'>, process_type=None), flow_property=Ref(id='f6811440-ee37-11de-8a39-0800200c9a66', olca_type='FlowProperty', name='Energy', description=None, version=None, last_change=None, category_path=['Technical flow properties'], library=None, ref_unit=None, location=None, flow_type=None, process_type=None), input=True, quantitative_reference=None, base_uncertainty=None, default_provider=Ref(id='186df5aa-fd40-3da6-b4b9-92990a5d2c4a', olca_type='Process', name='market for electricity, low voltage | electricity, low voltage | Cutoff, U', description=None, version=None, last_change=None, category_path=['D:Electricity, gas, steam and air conditioning supply', '35:Electricity, gas, steam and air conditioning supply', '351:Electric power generation, transmission and distribution', '3510:Electric power generation, transmission and distribution'], library=None, ref_unit=None, location='NZ', flow_type=None, process_type=<ProcessType.UNIT_PROCESS: 'UNIT_PROCESS'>), amount=2.09125441243551e-06, amount_formula=None, unit=Ref(id='86ad2244-1f0e-4912-af53-7865283103e4', olca_type='Unit', name='kWh', description=None, version=None, last_change=None, category_path=None, library=None, ref_unit=None, location=None, flow_type=None, process_type=None), dq_entry='(3;3;5;5;1)', uncertainty=Uncertainty(id=None, olca_type='Uncertainty', distribution_type=<UncertaintyType.LOG_NORMAL_DISTRIBUTION: 'LOG_NORMAL_DISTRIBUTION'>, mean=None, mean_formula=None, geom_mean=2.09125441243551e-06, geom_mean_formula=None, minimum=None, minimum_formula=None, sd=None, sd_formula=None, geom_sd=1.0, geom_sd_formula=None, mode=None, mode_formula=None, maximum=None, maximum_formula=None), description='Literature'), Exchange(id=None, olca_type='Exchange', avoided_product=False, cost_formula=None, cost_value=None, currency=None, internal_id=15, flow=Ref(id='2966d161-5281-47d6-86d3-efbb0a4b2110', olca_type='Flow', name='heavy fuel oil', description=None, version=None, last_change=None, category_path=['C:Manufacturing', '19:Manufacture of coke and refined petroleum products', '192:Manufacture of refined petroleum products', '1920:Manufacture of refined petroleum products'], library=None, ref_unit='kg', location=None, flow_type=<FlowType.PRODUCT_FLOW: 'PRODUCT_FLOW'>, process_type=None), flow_property=Ref(id='93a60a56-a3c8-11da-a746-0800200b9a66', olca_type='FlowProperty', name='Mass', description=None, version=None, last_change=None, category_path=['Technical flow properties'], library=None, ref_unit=None, location=None, flow_type=None, process_type=None), input=True, quantitative_reference=None, base_uncertainty=None, default_provider=Ref(id='fed68027-fb35-3253-aacb-ce63a129d3aa', olca_type='Process', name='market for heavy fuel oil | heavy fuel oil | Cutoff, U', description=None, version=None, last_change=None, category_path=['C:Manufacturing', '19:Manufacture of coke and refined petroleum products', '192:Manufacture of refined petroleum products', '1920:Manufacture of refined petroleum products'], library=None, ref_unit=None, location='PE', flow_type=None, process_type=<ProcessType.UNIT_PROCESS: 'UNIT_PROCESS'>), amount=0.00165389721087766, amount_formula=None, unit=Ref(id='20aadc24-a391-41cf-b340-3e4529f44bde', olca_type='Unit', name='kg', description=None, version=None, last_change=None, category_path=None, library=None, ref_unit=None, location=None, flow_type=None, process_type=None), dq_entry='(2;3;5;5;1)', uncertainty=Uncertainty(id=None, olca_type='Uncertainty', distribution_type=<UncertaintyType.LOG_NORMAL_DISTRIBUTION: 'LOG_NORMAL_DISTRIBUTION'>, mean=None, mean_formula=None, geom_mean=0.00165389721087766, geom_mean_formula=None, minimum=None, minimum_formula=None, sd=None, sd_formula=None, geom_sd=1.0, geom_sd_formula=None, mode=None, mode_formula=None, maximum=None, maximum_formula=None), description='Literature'), Exchange(id=None, olca_type='Exchange', avoided_product=False, cost_formula=None, cost_value=None, currency=None, internal_id=3, flow=Ref(id='21663725-f3b4-4d6a-a45a-baf3cb343a6a', olca_type='Flow', name='chimney', description=None, version=None, last_change=None, category_path=['F:Construction', '43:Specialized construction activities', '439:Other specialized construction activities', '4390:Other specialized construction activities'], library=None, ref_unit='m', location=None, flow_type=<FlowType.PRODUCT_FLOW: 'PRODUCT_FLOW'>, process_type=None), flow_property=Ref(id='838aaa23-0117-11db-92e3-0800200c9a66', olca_type='FlowProperty', name='Length', description=None, version=None, last_change=None, category_path=['Technical flow properties'], library=None, ref_unit=None, location=None, flow_type=None, process_type=None), input=True, quantitative_reference=None, base_uncertainty=None, default_provider=Ref(id='b30ed71f-4764-3ccd-80e5-b7ae4fb7c4ad', olca_type='Process', name='market for chimney | chimney | Cutoff, U', description=None, version=None, last_change=None, category_path=['F:Construction', '43:Specialized construction activities', '439:Other specialized construction activities', '4390:Other specialized construction activities'], library=None, ref_unit=None, location='GLO', flow_type=None, process_type=<ProcessType.UNIT_PROCESS: 'UNIT_PROCESS'>), amount=3.65494736842105e-08, amount_formula=None, unit=Ref(id='3d314eab-ef11-4ff3-a35e-9bc5cd858694', olca_type='Unit', name='m', description=None, version=None, last_change=None, category_path=None, library=None, ref_unit=None, location=None, flow_type=None, process_type=None), dq_entry='(3;3;5;5;1)', uncertainty=Uncertainty(id=None, olca_type='Uncertainty', distribution_type=<UncertaintyType.LOG_NORMAL_DISTRIBUTION: 'LOG_NORMAL_DISTRIBUTION'>, mean=None, mean_formula=None, geom_mean=3.65494736842105e-08, geom_mean_formula=None, minimum=None, minimum_formula=None, sd=None, sd_formula=None, geom_sd=1.7450381821146503, geom_sd_formula=None, mode=None, mode_formula=None, maximum=None, maximum_formula=None), description='EcoSpold01Location=CH'), Exchange(id=None, olca_type='Exchange', avoided_product=False, cost_formula=None, cost_value=None, currency=None, internal_id=20, flow=Ref(id='a79be2ee-ac83-4328-a136-a34ba1f99089', olca_type='Flow', name='Selenium', description=None, version=None, last_change=None, category_path=['Elementary flows', 'Emission to air', 'high population density'], library=None, ref_unit='kg', location=None, flow_type=<FlowType.ELEMENTARY_FLOW: 'ELEMENTARY_FLOW'>, process_type=None), flow_property=Ref(id='93a60a56-a3c8-11da-a746-0800200b9a66', olca_type='FlowProperty', name='Mass', description=None, version=None, last_change=None, category_path=['Technical flow properties'], library=None, ref_unit=None, location=None, flow_type=None, process_type=None), input=False, quantitative_reference=None, base_uncertainty=None, default_provider=None, amount=1.26315789473684e-08, amount_formula=None, unit=Ref(id='20aadc24-a391-41cf-b340-3e4529f44bde', olca_type='Unit', name='kg', description=None, version=None, last_change=None, category_path=None, library=None, ref_unit=None, location=None, flow_type=None, process_type=None), dq_entry='(3;3;5;5;1)', uncertainty=Uncertainty(id=None, olca_type='Uncertainty', distribution_type=<UncertaintyType.LOG_NORMAL_DISTRIBUTION: 'LOG_NORMAL_DISTRIBUTION'>, mean=None, mean_formula=None, geom_mean=1.26315789473684e-08, geom_mean_formula=None, minimum=None, minimum_formula=None, sd=None, sd_formula=None, geom_sd=2.239439866122061, geom_sd_formula=None, mode=None, mode_formula=None, maximum=None, maximum_formula=None), description='Literature'), Exchange(id=None, olca_type='Exchange', avoided_product=False, cost_formula=None, cost_value=None, currency=None, internal_id=50, flow=Ref(id='a912f450-5233-489b-a2e9-8c029fab480f', olca_type='Flow', name='Calcium', description=None, version=None, last_change=None, category_path=['Elementary flows', 'Emission to air', 'high population density'], library=None, ref_unit='kg', location=None, flow_type=<FlowType.ELEMENTARY_FLOW: 'ELEMENTARY_FLOW'>, process_type=None), flow_property=Ref(id='93a60a56-a3c8-11da-a746-0800200b9a66', olca_type='FlowProperty', name='Mass', description=None, version=None, last_change=None, category_path=['Technical flow properties'], library=None, ref_unit=None, location=None, flow_type=None, process_type=None), input=False, quantitative_reference=None, base_uncertainty=None, default_provider=None, amount=1.15789473684211e-07, amount_formula=None, unit=Ref(id='20aadc24-a391-41cf-b340-3e4529f44bde', olca_type='Unit', name='kg', description=None, version=None, last_change=None, category_path=None, library=None, ref_unit=None, location=None, flow_type=None, process_type=None), dq_entry='(3;3;5;5;1)', uncertainty=Uncertainty(id=None, olca_type='Uncertainty', distribution_type=<UncertaintyType.LOG_NORMAL_DISTRIBUTION: 'LOG_NORMAL_DISTRIBUTION'>, mean=None, mean_formula=None, geom_mean=1.15789473684211e-07, geom_mean_formula=None, minimum=None, minimum_formula=None, sd=None, sd_formula=None, geom_sd=1.2505791921887124, geom_sd_formula=None, mode=None, mode_formula=None, maximum=None, maximum_formula=None), description='Literature'), Exchange(id=None, olca_type='Exchange', avoided_product=False, cost_formula=None, cost_value=None, currency=None, internal_id=29, flow=Ref(id='c26d4716-ce1e-43da-a662-cd9498b1e8bc', olca_type='Flow', name='Molybdenum', description=None, version=None, last_change=None, category_path=['Elementary flows', 'Emission to air', 'high population density'], library=None, ref_unit='kg', location=None, flow_type=<FlowType.ELEMENTARY_FLOW: 'ELEMENTARY_FLOW'>, process_type=None), flow_property=Ref(id='93a60a56-a3c8-11da-a746-0800200b9a66', olca_type='FlowProperty', name='Mass', description=None, version=None, last_change=None, category_path=['Technical flow properties'], library=None, ref_unit=None, location=None, flow_type=None, process_type=None), input=False, quantitative_reference=None, base_uncertainty=None, default_provider=None, amount=8.42105263157895e-09, amount_formula=None, unit=Ref(id='20aadc24-a391-41cf-b340-3e4529f44bde', olca_type='Unit', name='kg', description=None, version=None, last_change=None, category_path=None, library=None, ref_unit=None, location=None, flow_type=None, process_type=None), dq_entry='(3;3;5;5;1)', uncertainty=Uncertainty(id=None, olca_type='Uncertainty', distribution_type=<UncertaintyType.LOG_NORMAL_DISTRIBUTION: 'LOG_NORMAL_DISTRIBUTION'>, mean=None, mean_formula=None, geom_mean=8.42105263157895e-09, geom_mean_formula=None, minimum=None, minimum_formula=None, sd=None, sd_formula=None, geom_sd=1.0, geom_sd_formula=None, mode=None, mode_formula=None, maximum=None, maximum_formula=None), description='Literature'), Exchange(id=None, olca_type='Exchange', avoided_product=False, cost_formula=None, cost_value=None, currency=None, internal_id=8, flow=Ref(id='d69294d7-8d64-4915-a896-9996a014c410', olca_type='Flow', name='electricity, low voltage', description=None, version=None, last_change=None, category_path=['D:Electricity, gas, steam and air conditioning supply', '35:Electricity, gas, steam and air conditioning supply', '351:Electric power generation, transmission and distribution', '3510:Electric power generation, transmission and distribution'], library=None, ref_unit='MJ', location=None, flow_type=<FlowType.PRODUCT_FLOW: 'PRODUCT_FLOW'>, process_type=None), flow_property=Ref(id='f6811440-ee37-11de-8a39-0800200c9a66', olca_type='FlowProperty', name='Energy', description=None, version=None, last_change=None, category_path=['Technical flow properties'], library=None, ref_unit=None, location=None, flow_type=None, process_type=None), input=True, quantitative_reference=None, base_uncertainty=None, default_provider=Ref(id='fa7f8277-db33-3704-bf78-9498adb5047e', olca_type='Process', name='market group for electricity, low voltage | electricity, low voltage | Cutoff, U', description=None, version=None, last_change=None, category_path=['D:Electricity, gas, steam and air conditioning supply', '35:Electricity, gas, steam and air conditioning supply', '351:Electric power generation, transmission and distribution', '3510:Electric power generation, transmission and distribution'], library=None, ref_unit=None, location='RAF', flow_type=None, process_type=<ProcessType.UNIT_PROCESS: 'UNIT_PROCESS'>), amount=3.38827657494677e-05, amount_formula=None, unit=Ref(id='86ad2244-1f0e-4912-af53-7865283103e4', olca_type='Unit', name='kWh', description=None, version=None, last_change=None, category_path=None, library=None, ref_unit=None, location=None, flow_type=None, process_type=None), dq_entry='(3;3;5;5;1)', uncertainty=Uncertainty(id=None, olca_type='Uncertainty', distribution_type=<UncertaintyType.LOG_NORMAL_DISTRIBUTION: 'LOG_NORMAL_DISTRIBUTION'>, mean=None, mean_formula=None, geom_mean=3.38827657494677e-05, geom_mean_formula=None, minimum=None, minimum_formula=None, sd=None, sd_formula=None, geom_sd=1.0, geom_sd_formula=None, mode=None, mode_formula=None, maximum=None, maximum_formula=None), description='Literature'), Exchange(id=None, olca_type='Exchange', avoided_product=False, cost_formula=None, cost_value=None, currency=None, internal_id=54, flow=Ref(id='2cbb504a-ce2f-40e9-9d38-e130e95a1242', olca_type='Flow', name='Benzo(a)pyrene', description=None, version=None, last_change=None, category_path=['Elementary flows', 'Emission to air', 'high population density'], library=None, ref_unit='kg', location=None, flow_type=<FlowType.ELEMENTARY_FLOW: 'ELEMENTARY_FLOW'>, process_type=None), flow_property=Ref(id='93a60a56-a3c8-11da-a746-0800200b9a66', olca_type='FlowProperty', name='Mass', description=None, version=None, last_change=None, category_path=['Technical flow properties'], library=None, ref_unit=None, location=None, flow_type=None, process_type=None), input=False, quantitative_reference=None, base_uncertainty=None, default_provider=None, amount=2.94736842105263e-11, amount_formula=None, unit=Ref(id='20aadc24-a391-41cf-b340-3e4529f44bde', olca_type='Unit', name='kg', description=None, version=None, last_change=None, category_path=None, library=None, ref_unit=None, location=None, flow_type=None, process_type=None), dq_entry='(3;3;5;5;1)', uncertainty=Uncertainty(id=None, olca_type='Uncertainty', distribution_type=<UncertaintyType.LOG_NORMAL_DISTRIBUTION: 'LOG_NORMAL_DISTRIBUTION'>, mean=None, mean_formula=None, geom_mean=2.94736842105263e-11, geom_mean_formula=None, minimum=None, minimum_formula=None, sd=None, sd_formula=None, geom_sd=2.45960311115695, geom_sd_formula=None, mode=None, mode_formula=None, maximum=None, maximum_formula=None), description='Literature, basic uncertainty estimated = 6'), Exchange(id=None, olca_type='Exchange', avoided_product=False, cost_formula=None, cost_value=None, currency=None, internal_id=43, flow=Ref(id='8c52f40c-69b7-4538-8923-b371523c71f5', olca_type='Flow', name='Sulfur dioxide', description=None, version=None, last_change=None, category_path=['Elementary flows', 'Emission to air', 'high population density'], library=None, ref_unit='kg', location=None, flow_type=<FlowType.ELEMENTARY_FLOW: 'ELEMENTARY_FLOW'>, process_type=None), flow_property=Ref(id='93a60a56-a3c8-11da-a746-0800200b9a66', olca_type='FlowProperty', name='Mass', description=None, version=None, last_change=None, category_path=['Technical flow properties'], library=None, ref_unit=None, location=None, flow_type=None, process_type=None), input=False, quantitative_reference=None, base_uncertainty=None, default_provider=None, amount=0.000414736842105263, amount_formula=None, unit=Ref(id='20aadc24-a391-41cf-b340-3e4529f44bde', olca_type='Unit', name='kg', description=None, version=None, last_change=None, category_path=None, library=None, ref_unit=None, location=None, flow_type=None, process_type=None), dq_entry='(1;1;5;5;1)', uncertainty=Uncertainty(id=None, olca_type='Uncertainty', distribution_type=<UncertaintyType.LOG_NORMAL_DISTRIBUTION: 'LOG_NORMAL_DISTRIBUTION'>, mean=None, mean_formula=None, geom_mean=0.000414736842105263, geom_mean_formula=None, minimum=None, minimum_formula=None, sd=None, sd_formula=None, geom_sd=2.9905135096377626, geom_sd_formula=None, mode=None, mode_formula=None, maximum=None, maximum_formula=None), description='Calculation from ranges'), Exchange(id=None, olca_type='Exchange', avoided_product=False, cost_formula=None, cost_value=None, currency=None, internal_id=53, flow=Ref(id='98c66fdb-091d-46e9-a533-686f821e8f6a', olca_type='Flow', name='Propane', description=None, version=None, last_change=None, category_path=['Elementary flows', 'Emission to air', 'high population density'], library=None, ref_unit='kg', location=None, flow_type=<FlowType.ELEMENTARY_FLOW: 'ELEMENTARY_FLOW'>, process_type=None), flow_property=Ref(id='93a60a56-a3c8-11da-a746-0800200b9a66', olca_type='FlowProperty', name='Mass', description=None, version=None, last_change=None, category_path=['Technical flow properties'], library=None, ref_unit=None, location=None, flow_type=None, process_type=None), input=False, quantitative_reference=None, base_uncertainty=None, default_provider=None, amount=3.15789473684211e-08, amount_formula=None, unit=Ref(id='20aadc24-a391-41cf-b340-3e4529f44bde', olca_type='Unit', name='kg', description=None, version=None, last_change=None, category_path=None, library=None, ref_unit=None, location=None, flow_type=None, process_type=None), dq_entry='(3;3;5;5;1)', uncertainty=Uncertainty(id=None, olca_type='Uncertainty', distribution_type=<UncertaintyType.LOG_NORMAL_DISTRIBUTION: 'LOG_NORMAL_DISTRIBUTION'>, mean=None, mean_formula=None, geom_mean=3.15789473684211e-08, geom_mean_formula=None, minimum=None, minimum_formula=None, sd=None, sd_formula=None, geom_sd=2.45960311115695, geom_sd_formula=None, mode=None, mode_formula=None, maximum=None, maximum_formula=None), description='Literature, basic uncertainty estimated = 6'), Exchange(id=None, olca_type='Exchange', avoided_product=False, cost_formula=None, cost_value=None, currency=None, internal_id=17, flow=Ref(id='ca04300a-8338-4601-ba7c-66c10a4f6322', olca_type='Flow', name='Cobalt', description=None, version=None, last_change=None, category_path=['Elementary flows', 'Emission to air', 'high population density'], library=None, ref_unit='kg', location=None, flow_type=<FlowType.ELEMENTARY_FLOW: 'ELEMENTARY_FLOW'>, process_type=None), flow_property=Ref(id='93a60a56-a3c8-11da-a746-0800200b9a66', olca_type='FlowProperty', name='Mass', description=None, version=None, last_change=None, category_path=['Technical flow properties'], library=None, ref_unit=None, location=None, flow_type=None, process_type=None), input=False, quantitative_reference=None, base_uncertainty=None, default_provider=None, amount=3.47368421052632e-08, amount_formula=None, unit=Ref(id='20aadc24-a391-41cf-b340-3e4529f44bde', olca_type='Unit', name='kg', description=None, version=None, last_change=None, category_path=None, library=None, ref_unit=None, location=None, flow_type=None, process_type=None), dq_entry='(3;3;5;5;1)', uncertainty=Uncertainty(id=None, olca_type='Uncertainty', distribution_type=<UncertaintyType.LOG_NORMAL_DISTRIBUTION: 'LOG_NORMAL_DISTRIBUTION'>, mean=None, mean_formula=None, geom_mean=3.47368421052632e-08, geom_mean_formula=None, minimum=None, minimum_formula=None, sd=None, sd_formula=None, geom_sd=2.239439866122061, geom_sd_formula=None, mode=None, mode_formula=None, maximum=None, maximum_formula=None), description='Literature'), Exchange(id=None, olca_type='Exchange', avoided_product=False, cost_formula=None, cost_value=None, currency=None, internal_id=25, flow=Ref(id='ccb169c3-8aae-4727-89bb-a7dd122946f3', olca_type='Flow', name='Particulates, > 2.5 um, and < 10um', description=None, version=None, last_change=None, category_path=['Elementary flows', 'Emission to air', 'high population density'], library=None, ref_unit='kg', location=None, flow_type=<FlowType.ELEMENTARY_FLOW: 'ELEMENTARY_FLOW'>, process_type=None), flow_property=Ref(id='93a60a56-a3c8-11da-a746-0800200b9a66', olca_type='FlowProperty', name='Mass', description=None, version=None, last_change=None, category_path=['Technical flow properties'], library=None, ref_unit=None, location=None, flow_type=None, process_type=None), input=False, quantitative_reference=None, base_uncertainty=None, default_provider=None, amount=1.26315789473684e-06, amount_formula=None, unit=Ref(id='20aadc24-a391-41cf-b340-3e4529f44bde', olca_type='Unit', name='kg', description=None, version=None, last_change=None, category_path=None, library=None, ref_unit=None, location=None, flow_type=None, process_type=None), dq_entry='(3;3;5;5;1)', uncertainty=Uncertainty(id=None, olca_type='Uncertainty', distribution_type=<UncertaintyType.LOG_NORMAL_DISTRIBUTION: 'LOG_NORMAL_DISTRIBUTION'>, mean=None, mean_formula=None, geom_mean=1.26315789473684e-06, geom_mean_formula=None, minimum=None, minimum_formula=None, sd=None, sd_formula=None, geom_sd=1.7450381821146503, geom_sd_formula=None, mode=None, mode_formula=None, maximum=None, maximum_formula=None), description='Literature, basic uncertainty estimated = 3'), Exchange(id=None, olca_type='Exchange', avoided_product=False, cost_formula=None, cost_value=None, currency=None, internal_id=37, flow=Ref(id='e43a270f-4f88-4789-a0b8-7aba56677743', olca_type='Flow', name='Nickel', description=None, version=None, last_change=None, category_path=['Elementary flows', 'Emission to air', 'high population density'], library=None, ref_unit='kg', location=None, flow_type=<FlowType.ELEMENTARY_FLOW: 'ELEMENTARY_FLOW'>, process_type=None), flow_property=Ref(id='93a60a56-a3c8-11da-a746-0800200b9a66', olca_type='FlowProperty', name='Mass', description=None, version=None, last_change=None, category_path=['Technical flow properties'], library=None, ref_unit=None, location=None, flow_type=None, process_type=None), input=False, quantitative_reference=None, base_uncertainty=None, default_provider=None, amount=5.1578947368421e-07, amount_formula=None, unit=Ref(id='20aadc24-a391-41cf-b340-3e4529f44bde', olca_type='Unit', name='kg', description=None, version=None, last_change=None, category_path=None, library=None, ref_unit=None, location=None, flow_type=None, process_type=None), dq_entry='(3;3;5;5;1)', uncertainty=Uncertainty(id=None, olca_type='Uncertainty', distribution_type=<UncertaintyType.LOG_NORMAL_DISTRIBUTION: 'LOG_NORMAL_DISTRIBUTION'>, mean=None, mean_formula=None, geom_mean=5.1578947368421e-07, geom_mean_formula=None, minimum=None, minimum_formula=None, sd=None, sd_formula=None, geom_sd=2.239439866122061, geom_sd_formula=None, mode=None, mode_formula=None, maximum=None, maximum_formula=None), description='Literature'), Exchange(id=None, olca_type='Exchange', avoided_product=False, cost_formula=None, cost_value=None, currency=None, internal_id=52, flow=Ref(id='5f7aad3d-566c-4d0d-ad59-e765f971aa0f', olca_type='Flow', name='Methane, fossil', description=None, version=None, last_change=None, category_path=['Elementary flows', 'Emission to air', 'high population density'], library=None, ref_unit='kg', location=None, flow_type=<FlowType.ELEMENTARY_FLOW: 'ELEMENTARY_FLOW'>, process_type=None), flow_property=Ref(id='93a60a56-a3c8-11da-a746-0800200b9a66', olca_type='FlowProperty', name='Mass', description=None, version=None, last_change=None, category_path=['Technical flow properties'], library=None, ref_unit=None, location=None, flow_type=None, process_type=None), input=False, quantitative_reference=None, base_uncertainty=None, default_provider=None, amount=3.15789473684211e-06, amount_formula=None, unit=Ref(id='20aadc24-a391-41cf-b340-3e4529f44bde', olca_type='Unit', name='kg', description=None, version=None, last_change=None, category_path=None, library=None, ref_unit=None, location=None, flow_type=None, process_type=None), dq_entry='(3;3;5;5;1)', uncertainty=Uncertainty(id=None, olca_type='Uncertainty', distribution_type=<UncertaintyType.LOG_NORMAL_DISTRIBUTION: 'LOG_NORMAL_DISTRIBUTION'>, mean=None, mean_formula=None, geom_mean=3.15789473684211e-06, geom_mean_formula=None, minimum=None, minimum_formula=None, sd=None, sd_formula=None, geom_sd=2.45960311115695, geom_sd_formula=None, mode=None, mode_formula=None, maximum=None, maximum_formula=None), description='Literature, basic uncertainty estimated = 6'), Exchange(id=None, olca_type='Exchange', avoided_product=False, cost_formula=None, cost_value=None, currency=None, internal_id=4, flow=Ref(id='9eb12779-1ac9-4b9a-8545-3dc3b14761ed', olca_type='Flow', name='oil storage, 3000l', description=None, version=None, last_change=None, category_path=['C:Manufacturing', '25:Manufacture of fabricated metal products, except machinery and equipment', '251:Manufacture of structural metal products, tanks, reservoirs and steam generators', '2512:Manufacture of tanks, reservoirs and containers of metal'], library=None, ref_unit='Item(s)', location=None, flow_type=<FlowType.PRODUCT_FLOW: 'PRODUCT_FLOW'>, process_type=None), flow_property=Ref(id='01846770-4cfe-4a25-8ad9-919d8d378345', olca_type='FlowProperty', name='Number of items', description=None, version=None, last_change=None, category_path=['Technical flow properties'], library=None, ref_unit=None, location=None, flow_type=None, process_type=None), input=True, quantitative_reference=None, base_uncertainty=None, default_provider=Ref(id='7928046a-c7b6-3a59-a589-0b73181eb4ac', olca_type='Process', name='market for oil storage, 3000l | oil storage, 3000l | Cutoff, U', description=None, version=None, last_change=None, category_path=['C:Manufacturing', '25:Manufacture of fabricated metal products, except machinery and equipment', '251:Manufacture of structural metal products, tanks, reservoirs and steam generators', '2512:Manufacture of tanks, reservoirs and containers of metal'], library=None, ref_unit=None, location='GLO', flow_type=None, process_type=<ProcessType.UNIT_PROCESS: 'UNIT_PROCESS'>), amount=3.89863157894737e-08, amount_formula=None, unit=Ref(id='6dabe201-aaac-4509-92f0-d00c26cb72ab', olca_type='Unit', name='Item(s)', description=None, version=None, last_change=None, category_path=None, library=None, ref_unit=None, location=None, flow_type=None, process_type=None), dq_entry='(3;3;5;5;1)', uncertainty=Uncertainty(id=None, olca_type='Uncertainty', distribution_type=<UncertaintyType.LOG_NORMAL_DISTRIBUTION: 'LOG_NORMAL_DISTRIBUTION'>, mean=None, mean_formula=None, geom_mean=3.89863157894737e-08, geom_mean_formula=None, minimum=None, minimum_formula=None, sd=None, sd_formula=None, geom_sd=1.7450381821146503, geom_sd_formula=None, mode=None, mode_formula=None, maximum=None, maximum_formula=None), description='EcoSpold01Location=CH'), Exchange(id=None, olca_type='Exchange', avoided_product=False, cost_formula=None, cost_value=None, currency=None, internal_id=11, flow=Ref(id='d69294d7-8d64-4915-a896-9996a014c410', olca_type='Flow', name='electricity, low voltage', description=None, version=None, last_change=None, category_path=['D:Electricity, gas, steam and air conditioning supply', '35:Electricity, gas, steam and air conditioning supply', '351:Electric power generation, transmission and distribution', '3510:Electric power generation, transmission and distribution'], library=None, ref_unit='MJ', location=None, flow_type=<FlowType.PRODUCT_FLOW: 'PRODUCT_FLOW'>, process_type=None), flow_property=Ref(id='f6811440-ee37-11de-8a39-0800200c9a66', olca_type='FlowProperty', name='Energy', description=None, version=None, last_change=None, category_path=['Technical flow properties'], library=None, ref_unit=None, location=None, flow_type=None, process_type=None), input=True, quantitative_reference=None, base_uncertainty=None, default_provider=Ref(id='fe27f5c7-aabc-39d5-a8fc-7ee5d900e5b8', olca_type='Process', name='market group for electricity, low voltage | electricity, low voltage | Cutoff, U', description=None, version=None, last_change=None, category_path=['D:Electricity, gas, steam and air conditioning supply', '35:Electricity, gas, steam and air conditioning supply', '351:Electric power generation, transmission and distribution', '3510:Electric power generation, transmission and distribution'], library=None, ref_unit=None, location='US', flow_type=None, process_type=<ProcessType.UNIT_PROCESS: 'UNIT_PROCESS'>), amount=0.0002152085071902, amount_formula=None, unit=Ref(id='86ad2244-1f0e-4912-af53-7865283103e4', olca_type='Unit', name='kWh', description=None, version=None, last_change=None, category_path=None, library=None, ref_unit=None, location=None, flow_type=None, process_type=None), dq_entry='(3;3;5;5;1)', uncertainty=Uncertainty(id=None, olca_type='Uncertainty', distribution_type=<UncertaintyType.LOG_NORMAL_DISTRIBUTION: 'LOG_NORMAL_DISTRIBUTION'>, mean=None, mean_formula=None, geom_mean=0.0002152085071902, geom_mean_formula=None, minimum=None, minimum_formula=None, sd=None, sd_formula=None, geom_sd=1.0, geom_sd_formula=None, mode=None, mode_formula=None, maximum=None, maximum_formula=None), description='Literature'), Exchange(id=None, olca_type='Exchange', avoided_product=False, cost_formula=None, cost_value=None, currency=None, internal_id=21, flow=Ref(id='9d1efa17-070a-4602-a65f-daf5056b0647', olca_type='Flow', name='PAH, polycyclic aromatic hydrocarbons', description=None, version=None, last_change=None, category_path=['Elementary flows', 'Emission to air', 'high population density'], library=None, ref_unit='kg', location=None, flow_type=<FlowType.ELEMENTARY_FLOW: 'ELEMENTARY_FLOW'>, process_type=None), flow_property=Ref(id='93a60a56-a3c8-11da-a746-0800200b9a66', olca_type='FlowProperty', name='Mass', description=None, version=None, last_change=None, category_path=['Technical flow properties'], library=None, ref_unit=None, location=None, flow_type=None, process_type=None), input=False, quantitative_reference=None, base_uncertainty=None, default_provider=None, amount=6.10526315789474e-10, amount_formula=None, unit=Ref(id='20aadc24-a391-41cf-b340-3e4529f44bde', olca_type='Unit', name='kg', description=None, version=None, last_change=None, category_path=None, library=None, ref_unit=None, location=None, flow_type=None, process_type=None), dq_entry='(3;3;5;5;1)', uncertainty=Uncertainty(id=None, olca_type='Uncertainty', distribution_type=<UncertaintyType.LOG_NORMAL_DISTRIBUTION: 'LOG_NORMAL_DISTRIBUTION'>, mean=None, mean_formula=None, geom_mean=6.10526315789474e-10, geom_mean_formula=None, minimum=None, minimum_formula=None, sd=None, sd_formula=None, geom_sd=1.7450381821146503, geom_sd_formula=None, mode=None, mode_formula=None, maximum=None, maximum_formula=None), description='Literature'), Exchange(id=None, olca_type='Exchange', avoided_product=False, cost_formula=None, cost_value=None, currency=None, internal_id=1, flow=Ref(id='971337d4-7826-4ec6-bfef-5e5c6dd517be', olca_type='Flow', name='industrial furnace, 1MW, oil', description=None, version=None, last_change=None, category_path=['C:Manufacturing', '28:Manufacture of machinery and equipment n.e.c.', '281:Manufacture of general-purpose machinery', '2815:Manufacture of ovens, furnaces and furnace burners', '2815a: Manufacture of furnaces and boilers for liquid fuels'], library=None, ref_unit='Item(s)', location=None, flow_type=<FlowType.PRODUCT_FLOW: 'PRODUCT_FLOW'>, process_type=None), flow_property=Ref(id='01846770-4cfe-4a25-8ad9-919d8d378345', olca_type='FlowProperty', name='Number of items', description=None, version=None, last_change=None, category_path=['Technical flow properties'], library=None, ref_unit=None, location=None, flow_type=None, process_type=None), input=True, quantitative_reference=None, base_uncertainty=None, default_provider=Ref(id='91529300-46f6-3395-b676-aaeed2345468', olca_type='Process', name='market for industrial furnace, 1MW, oil | industrial furnace, 1MW, oil | Cutoff, U', description=None, version=None, last_change=None, category_path=['C:Manufacturing', '28:Manufacture of machinery and equipment n.e.c.', '281:Manufacture of general-purpose machinery', '2815:Manufacture of ovens, furnaces and furnace burners', '2815a: Manufacture of furnaces and boilers for liquid fuels'], library=None, ref_unit=None, location='GLO', flow_type=None, process_type=<ProcessType.UNIT_PROCESS: 'UNIT_PROCESS'>), amount=2.924e-09, amount_formula=None, unit=Ref(id='6dabe201-aaac-4509-92f0-d00c26cb72ab', olca_type='Unit', name='Item(s)', description=None, version=None, last_change=None, category_path=None, library=None, ref_unit=None, location=None, flow_type=None, process_type=None), dq_entry='(3;3;5;5;1)', uncertainty=Uncertainty(id=None, olca_type='Uncertainty', distribution_type=<UncertaintyType.LOG_NORMAL_DISTRIBUTION: 'LOG_NORMAL_DISTRIBUTION'>, mean=None, mean_formula=None, geom_mean=2.924e-09, geom_mean_formula=None, minimum=None, minimum_formula=None, sd=None, sd_formula=None, geom_sd=1.7450381821146503, geom_sd_formula=None, mode=None, mode_formula=None, maximum=None, maximum_formula=None), description='Estimation 5000h use per year'), Exchange(id=None, olca_type='Exchange', avoided_product=False, cost_formula=None, cost_value=None, currency=None, internal_id=22, flow=Ref(id='8b5d5c1d-c786-4367-94f0-fae42cd3ac0a', olca_type='Flow', name='Hydrocarbons, aromatic', description=None, version=None, last_change=None, category_path=['Elementary flows', 'Emission to air', 'high population density'], library=None, ref_unit='kg', location=None, flow_type=<FlowType.ELEMENTARY_FLOW: 'ELEMENTARY_FLOW'>, process_type=None), flow_property=Ref(id='93a60a56-a3c8-11da-a746-0800200b9a66', olca_type='FlowProperty', name='Mass', description=None, version=None, last_change=None, category_path=['Technical flow properties'], library=None, ref_unit=None, location=None, flow_type=None, process_type=None), input=False, quantitative_reference=None, base_uncertainty=None, default_provider=None, amount=1.57894736842105e-07, amount_formula=None, unit=Ref(id='20aadc24-a391-41cf-b340-3e4529f44bde', olca_type='Unit', name='kg', description=None, version=None, last_change=None, category_path=None, library=None, ref_unit=None, location=None, flow_type=None, process_type=None), dq_entry='(3;3;5;5;1)', uncertainty=Uncertainty(id=None, olca_type='Uncertainty', distribution_type=<UncertaintyType.LOG_NORMAL_DISTRIBUTION: 'LOG_NORMAL_DISTRIBUTION'>, mean=None, mean_formula=None, geom_mean=1.57894736842105e-07, geom_mean_formula=None, minimum=None, minimum_formula=None, sd=None, sd_formula=None, geom_sd=2.45960311115695, geom_sd_formula=None, mode=None, mode_formula=None, maximum=None, maximum_formula=None), description='Literature, basic uncertainty estimated = 6'), Exchange(id=None, olca_type='Exchange', avoided_product=False, cost_formula=None, cost_value=None, currency=None, internal_id=10, flow=Ref(id='d69294d7-8d64-4915-a896-9996a014c410', olca_type='Flow', name='electricity, low voltage', description=None, version=None, last_change=None, category_path=['D:Electricity, gas, steam and air conditioning supply', '35:Electricity, gas, steam and air conditioning supply', '351:Electric power generation, transmission and distribution', '3510:Electric power generation, transmission and distribution'], library=None, ref_unit='MJ', location=None, flow_type=<FlowType.PRODUCT_FLOW: 'PRODUCT_FLOW'>, process_type=None), flow_property=Ref(id='f6811440-ee37-11de-8a39-0800200c9a66', olca_type='FlowProperty', name='Energy', description=None, version=None, last_change=None, category_path=['Technical flow properties'], library=None, ref_unit=None, location=None, flow_type=None, process_type=None), input=True, quantitative_reference=None, base_uncertainty=None, default_provider=Ref(id='bd1e2006-c133-374d-b01f-280b4fe57a35', olca_type='Process', name='market group for electricity, low voltage | electricity, low voltage | Cutoff, U', description=None, version=None, last_change=None, category_path=['D:Electricity, gas, steam and air conditioning supply', '35:Electricity, gas, steam and air conditioning supply', '351:Electric power generation, transmission and distribution', '3510:Electric power generation, transmission and distribution'], library=None, ref_unit=None, location='RLA', flow_type=None, process_type=<ProcessType.UNIT_PROCESS: 'UNIT_PROCESS'>), amount=8.28898665811267e-05, amount_formula=None, unit=Ref(id='86ad2244-1f0e-4912-af53-7865283103e4', olca_type='Unit', name='kWh', description=None, version=None, last_change=None, category_path=None, library=None, ref_unit=None, location=None, flow_type=None, process_type=None), dq_entry='(3;3;5;5;1)', uncertainty=Uncertainty(id=None, olca_type='Uncertainty', distribution_type=<UncertaintyType.LOG_NORMAL_DISTRIBUTION: 'LOG_NORMAL_DISTRIBUTION'>, mean=None, mean_formula=None, geom_mean=8.28898665811267e-05, geom_mean_formula=None, minimum=None, minimum_formula=None, sd=None, sd_formula=None, geom_sd=1.0, geom_sd_formula=None, mode=None, mode_formula=None, maximum=None, maximum_formula=None), description='Literature'), Exchange(id=None, olca_type='Exchange', avoided_product=False, cost_formula=None, cost_value=None, currency=None, internal_id=35, flow=Ref(id='2cba713d-ab0b-44cb-babb-f8cac262554f', olca_type='Flow', name='Vanadium', description=None, version=None, last_change=None, category_path=['Elementary flows', 'Emission to air', 'high population density'], library=None, ref_unit='kg', location=None, flow_type=<FlowType.ELEMENTARY_FLOW: 'ELEMENTARY_FLOW'>, process_type=None), flow_property=Ref(id='93a60a56-a3c8-11da-a746-0800200b9a66', olca_type='FlowProperty', name='Mass', description=None, version=None, last_change=None, category_path=['Technical flow properties'], library=None, ref_unit=None, location=None, flow_type=None, process_type=None), input=False, quantitative_reference=None, base_uncertainty=None, default_provider=None, amount=1.05263157894737e-06, amount_formula=None, unit=Ref(id='20aadc24-a391-41cf-b340-3e4529f44bde', olca_type='Unit', name='kg', description=None, version=None, last_change=None, category_path=None, library=None, ref_unit=None, location=None, flow_type=None, process_type=None), dq_entry='(3;3;5;5;1)', uncertainty=Uncertainty(id=None, olca_type='Uncertainty', distribution_type=<UncertaintyType.LOG_NORMAL_DISTRIBUTION: 'LOG_NORMAL_DISTRIBUTION'>, mean=None, mean_formula=None, geom_mean=1.05263157894737e-06, geom_mean_formula=None, minimum=None, minimum_formula=None, sd=None, sd_formula=None, geom_sd=2.239439866122061, geom_sd_formula=None, mode=None, mode_formula=None, maximum=None, maximum_formula=None), description='Literature'), Exchange(id=None, olca_type='Exchange', avoided_product=False, cost_formula=None, cost_value=None, currency=None, internal_id=38, flow=Ref(id='bfa26b15-5340-441e-acb4-0bb19a4028d3', olca_type='Flow', name='Hydrocarbons, aliphatic, alkanes, unspecified', description=None, version=None, last_change=None, category_path=['Elementary flows', 'Emission to air', 'high population density'], library=None, ref_unit='kg', location=None, flow_type=<FlowType.ELEMENTARY_FLOW: 'ELEMENTARY_FLOW'>, process_type=None), flow_property=Ref(id='93a60a56-a3c8-11da-a746-0800200b9a66', olca_type='FlowProperty', name='Mass', description=None, version=None, last_change=None, category_path=['Technical flow properties'], library=None, ref_unit=None, location=None, flow_type=None, process_type=None), input=False, quantitative_reference=None, base_uncertainty=None, default_provider=None, amount=6.31578947368421e-07, amount_formula=None, unit=Ref(id='20aadc24-a391-41cf-b340-3e4529f44bde', olca_type='Unit', name='kg', description=None, version=None, last_change=None, category_path=None, library=None, ref_unit=None, location=None, flow_type=None, process_type=None), dq_entry='(3;3;5;5;1)', uncertainty=Uncertainty(id=None, olca_type='Uncertainty', distribution_type=<UncertaintyType.LOG_NORMAL_DISTRIBUTION: 'LOG_NORMAL_DISTRIBUTION'>, mean=None, mean_formula=None, geom_mean=6.31578947368421e-07, geom_mean_formula=None, minimum=None, minimum_formula=None, sd=None, sd_formula=None, geom_sd=2.45960311115695, geom_sd_formula=None, mode=None, mode_formula=None, maximum=None, maximum_formula=None), description='Literature, basic uncertainty estimated = 6'), Exchange(id=None, olca_type='Exchange', avoided_product=False, cost_formula=None, cost_value=None, currency=None, internal_id=12, flow=Ref(id='2966d161-5281-47d6-86d3-efbb0a4b2110', olca_type='Flow', name='heavy fuel oil', description=None, version=None, last_change=None, category_path=['C:Manufacturing', '19:Manufacture of coke and refined petroleum products', '192:Manufacture of refined petroleum products', '1920:Manufacture of refined petroleum products'], library=None, ref_unit='kg', location=None, flow_type=<FlowType.PRODUCT_FLOW: 'PRODUCT_FLOW'>, process_type=None), flow_property=Ref(id='93a60a56-a3c8-11da-a746-0800200b9a66', olca_type='FlowProperty', name='Mass', description=None, version=None, last_change=None, category_path=['Technical flow properties'], library=None, ref_unit=None, location=None, flow_type=None, process_type=None), input=True, quantitative_reference=None, base_uncertainty=None, default_provider=Ref(id='5ec317a5-8691-3758-a344-47bec2297124', olca_type='Process', name='market for heavy fuel oil | heavy fuel oil | Cutoff, U', description=None, version=None, last_change=None, category_path=['C:Manufacturing', '19:Manufacture of coke and refined petroleum products', '192:Manufacture of refined petroleum products', '1920:Manufacture of refined petroleum products'], library=None, ref_unit=None, location='BR', flow_type=None, process_type=<ProcessType.UNIT_PROCESS: 'UNIT_PROCESS'>), amount=0.0109023934642262, amount_formula=None, unit=Ref(id='20aadc24-a391-41cf-b340-3e4529f44bde', olca_type='Unit', name='kg', description=None, version=None, last_change=None, category_path=None, library=None, ref_unit=None, location=None, flow_type=None, process_type=None), dq_entry='(2;3;5;5;1)', uncertainty=Uncertainty(id=None, olca_type='Uncertainty', distribution_type=<UncertaintyType.LOG_NORMAL_DISTRIBUTION: 'LOG_NORMAL_DISTRIBUTION'>, mean=None, mean_formula=None, geom_mean=0.0109023934642262, geom_mean_formula=None, minimum=None, minimum_formula=None, sd=None, sd_formula=None, geom_sd=1.0, geom_sd_formula=None, mode=None, mode_formula=None, maximum=None, maximum_formula=None), description='Literature'), Exchange(id=None, olca_type='Exchange', avoided_product=False, cost_formula=None, cost_value=None, currency=None, internal_id=19, flow=Ref(id='a850e6de-a007-432f-be7f-ce6e2cf1f2ae', olca_type='Flow', name='Mercury', description=None, version=None, last_change=None, category_path=['Elementary flows', 'Emission to air', 'high population density'], library=None, ref_unit='kg', location=None, flow_type=<FlowType.ELEMENTARY_FLOW: 'ELEMENTARY_FLOW'>, process_type=None), flow_property=Ref(id='93a60a56-a3c8-11da-a746-0800200b9a66', olca_type='FlowProperty', name='Mass', description=None, version=None, last_change=None, category_path=['Technical flow properties'], library=None, ref_unit=None, location=None, flow_type=None, process_type=None), input=False, quantitative_reference=None, base_uncertainty=None, default_provider=None, amount=1.57894736842105e-10, amount_formula=None, unit=Ref(id='20aadc24-a391-41cf-b340-3e4529f44bde', olca_type='Unit', name='kg', description=None, version=None, last_change=None, category_path=None, library=None, ref_unit=None, location=None, flow_type=None, process_type=None), dq_entry='(3;3;5;5;1)', uncertainty=Uncertainty(id=None, olca_type='Uncertainty', distribution_type=<UncertaintyType.LOG_NORMAL_DISTRIBUTION: 'LOG_NORMAL_DISTRIBUTION'>, mean=None, mean_formula=None, geom_mean=1.57894736842105e-10, geom_mean_formula=None, minimum=None, minimum_formula=None, sd=None, sd_formula=None, geom_sd=2.239439866122061, geom_sd_formula=None, mode=None, mode_formula=None, maximum=None, maximum_formula=None), description='Literature'), Exchange(id=None, olca_type='Exchange', avoided_product=False, cost_formula=None, cost_value=None, currency=None, internal_id=31, flow=Ref(id='d068f3e2-b033-417b-a359-ca4f25da9731', olca_type='Flow', name='Nitrogen oxides', description=None, version=None, last_change=None, category_path=['Elementary flows', 'Emission to air', 'high population density'], library=None, ref_unit='kg', location=None, flow_type=<FlowType.ELEMENTARY_FLOW: 'ELEMENTARY_FLOW'>, process_type=None), flow_property=Ref(id='93a60a56-a3c8-11da-a746-0800200b9a66', olca_type='FlowProperty', name='Mass', description=None, version=None, last_change=None, category_path=['Technical flow properties'], library=None, ref_unit=None, location=None, flow_type=None, process_type=None), input=False, quantitative_reference=None, base_uncertainty=None, default_provider=None, amount=0.000105263157894737, amount_formula=None, unit=Ref(id='20aadc24-a391-41cf-b340-3e4529f44bde', olca_type='Unit', name='kg', description=None, version=None, last_change=None, category_path=None, library=None, ref_unit=None, location=None, flow_type=None, process_type=None), dq_entry='(1;1;5;5;1)', uncertainty=Uncertainty(id=None, olca_type='Uncertainty', distribution_type=<UncertaintyType.LOG_NORMAL_DISTRIBUTION: 'LOG_NORMAL_DISTRIBUTION'>, mean=None, mean_formula=None, geom_mean=0.000105263157894737, geom_mean_formula=None, minimum=None, minimum_formula=None, sd=None, sd_formula=None, geom_sd=2.239439866122061, geom_sd_formula=None, mode=None, mode_formula=None, maximum=None, maximum_formula=None), description='Calculation from ranges')], last_internal_id=56, location=Ref(id='f1965a85-7bc2-35d2-afe2-2023aa5ab50d', olca_type='Location', name='Rest-of-World', description=None, version=None, last_change=None, category_path=None, library=None, ref_unit=None, location=None, flow_type=None, process_type=None), parameters=None, process_documentation=ProcessDocumentation(id=None, olca_type='ProcessDocumentation', time_description='Estimation for efficiency of furnaces used in 2000.', valid_until='2020-12-31+01:00', valid_from='2000-01-01+01:00', technology_description='Non-modulating furnace, efficiency 95%.', data_collection_description=None, completeness_description=None, data_selection_description=None, review_details=None, data_treatment_description='none This dataset has been copied from an original dataset covering the geography Europe without Switzerland. The uncertainty has been adjusted accordingly.', inventory_method_description=None, modeling_constants_description=None, reviewer=None, sampling_description='Data published in literature', sources=None, restrictions_description=None, copyright=True, creation_date='2010-07-28T18:24:06+02:00', data_documentor=Ref(id='c4597934-ecac-422c-b431-382e85fdcb83', olca_type='Actor', name='[System]', description=None, version=None, last_change=None, category_path=None, library=None, ref_unit=None, location=None, flow_type=None, process_type=None), data_generator=Ref(id='7771deb8-4a40-4409-8bc4-df0882e8dde6', olca_type='Actor', name='Niels Jungbluth', description=None, version=None, last_change=None, category_path=None, library=None, ref_unit=None, location=None, flow_type=None, process_type=None), data_set_owner=None, intended_application=None, project_description=None, publication=Ref(id='923e7058-2c3e-45fa-a7c6-5382cf60b420', olca_type='Source', name='Jungbluth, N.2007', description=None, version=None, last_change=None, category_path=None, library=None, ref_unit=None, location=None, flow_type=None, process_type=None), geography_description='Assumption for operation in Europe.'), process_type=<ProcessType.UNIT_PROCESS: 'UNIT_PROCESS'>, dq_system=None, exchange_dq_system=Ref(id='e7ac7cf6-5457-453e-99f9-d889826fffe8', olca_type='DQSystem', name='ecoinvent data quality system', description=None, version=None, last_change=None, category_path=None, library=None, ref_unit=None, location=None, flow_type=None, process_type=None), social_dq_system=None, dq_entry=None, infrastructure_process=False, social_aspects=None)"
      ]
     },
     "execution_count": 49,
     "metadata": {},
     "output_type": "execute_result"
    }
   ],
   "source": [
    "test_process"
   ]
  },
  {
   "cell_type": "code",
   "execution_count": 21,
   "metadata": {},
   "outputs": [
    {
     "data": {
      "text/plain": [
       "'heat production, heavy fuel oil, at industrial furnace 1MW | heat, district or industrial, other than natural gas | Cutoff, U'"
      ]
     },
     "execution_count": 21,
     "metadata": {},
     "output_type": "execute_result"
    }
   ],
   "source": [
    "process_list_all[0]"
   ]
  },
  {
   "cell_type": "code",
   "execution_count": 23,
   "metadata": {},
   "outputs": [
    {
     "data": {
      "text/plain": [
       "<generator object Client.get_descriptors at 0x7fe25038d660>"
      ]
     },
     "execution_count": 23,
     "metadata": {},
     "output_type": "execute_result"
    }
   ],
   "source": [
    "exchange_descriptor = client.get_descriptors(olca.Exchange)\n",
    "exchange_list_all = []\n",
    "for exchange in exchange_descriptor:\n",
    "    exchange_list_all.append(exchange_descriptor.)\n"
   ]
  },
  {
   "cell_type": "code",
   "execution_count": 5,
   "metadata": {},
   "outputs": [
    {
     "ename": "TypeError",
     "evalue": "flow_of() missing 2 required positional arguments: 'flow_type' and 'flow_property'",
     "output_type": "error",
     "traceback": [
      "\u001b[0;31m---------------------------------------------------------------------------\u001b[0m",
      "\u001b[0;31mTypeError\u001b[0m                                 Traceback (most recent call last)",
      "\u001b[0;32m/var/folders/pk/3tmwrq6541738k97y1cxd07w0000gn/T/ipykernel_2280/2210559646.py\u001b[0m in \u001b[0;36m<module>\u001b[0;34m\u001b[0m\n\u001b[0;32m----> 1\u001b[0;31m \u001b[0molca\u001b[0m\u001b[0;34m.\u001b[0m\u001b[0mflow_of\u001b[0m\u001b[0;34m(\u001b[0m\u001b[0mnew_process\u001b[0m\u001b[0;34m)\u001b[0m\u001b[0;34m\u001b[0m\u001b[0;34m\u001b[0m\u001b[0m\n\u001b[0m",
      "\u001b[0;31mTypeError\u001b[0m: flow_of() missing 2 required positional arguments: 'flow_type' and 'flow_property'"
     ]
    }
   ],
   "source": [
    "olca.flow_of(new_process)"
   ]
  },
  {
   "cell_type": "code",
   "execution_count": 23,
   "metadata": {},
   "outputs": [
    {
     "ename": "TypeError",
     "evalue": "input_of() missing 1 required positional argument: 'flow'",
     "output_type": "error",
     "traceback": [
      "\u001b[0;31m---------------------------------------------------------------------------\u001b[0m",
      "\u001b[0;31mTypeError\u001b[0m                                 Traceback (most recent call last)",
      "\u001b[0;32m/var/folders/pk/3tmwrq6541738k97y1cxd07w0000gn/T/ipykernel_52945/2391809957.py\u001b[0m in \u001b[0;36m<module>\u001b[0;34m\u001b[0m\n\u001b[0;32m----> 1\u001b[0;31m \u001b[0molca\u001b[0m\u001b[0;34m.\u001b[0m\u001b[0minput_of\u001b[0m\u001b[0;34m(\u001b[0m\u001b[0mnew_process\u001b[0m\u001b[0;34m)\u001b[0m\u001b[0;34m\u001b[0m\u001b[0;34m\u001b[0m\u001b[0m\n\u001b[0m",
      "\u001b[0;31mTypeError\u001b[0m: input_of() missing 1 required positional argument: 'flow'"
     ]
    }
   ],
   "source": [
    "olca.input_of(new_process)"
   ]
  },
  {
   "cell_type": "code",
   "execution_count": null,
   "metadata": {},
   "outputs": [],
   "source": [
    "process_to_search_df = pd.read_excel('List_of_Materials_ecoinvent.xlsx', header=None)"
   ]
  },
  {
   "cell_type": "code",
   "execution_count": null,
   "metadata": {},
   "outputs": [],
   "source": [
    "# # Search specific process databases with key word(s)\n",
    "# # Note that the search is blankspace-sensitive\n",
    "# def process_search(process_to_search_df):\n",
    "#     search_process_list = []\n",
    "#     for i in range(len(process_to_search_df)):\n",
    "#         search_process_df = processes_df[processes_df['name'].str.contains(process_to_search_df.iloc[i, 0], regex=False)]# TODO: change keywords\n",
    "#         search_process.append(search_process_df)\n",
    "#     return search_process_list\n",
    "# large_df = pd.concat(process_search(process_to_search_df), ignore_index=True)"
   ]
  },
  {
   "cell_type": "code",
   "execution_count": null,
   "metadata": {},
   "outputs": [],
   "source": [
    "# Get all flow dataset in database\n",
    "flow_descriptor = client.get_descriptors(olca.Flow)\n",
    "flow_list = []\n",
    "id_list = []\n",
    "\n",
    "for flow in flow_descriptor:\n",
    "    flow_list.append(flow.name)\n",
    "    id_list.append(flow.id)\n",
    "flows_df = pd.DataFrame(list(zip(flow_list,\n",
    "                                   id_list)),\n",
    "                               columns=['name', 'id'])\n",
    "# flows_df"
   ]
  },
  {
   "cell_type": "markdown",
   "metadata": {},
   "source": [
    "Note that the fields ``database`` and ``code`` are added automatically for us.\n",
    "\n",
    "There are only a few methods for an activity. We can see the activity key (combination of database and code):"
   ]
  },
  {
   "cell_type": "code",
   "execution_count": null,
   "metadata": {},
   "outputs": [],
   "source": [
    "# Search specific flow databases with key word(s)\n",
    "# Note that the search is blankspace-sensitive\n",
    "search_flow_df = flows_df[flows_df['name'].str.contains(r'oil(?!$)')] # TODO: change keywords\n",
    "search_flow_df.reset_index(drop=True, inplace=True)\n",
    "\n",
    "# search_flow_df"
   ]
  },
  {
   "cell_type": "code",
   "execution_count": 20,
   "metadata": {},
   "outputs": [
    {
     "name": "stdout",
     "output_type": "stream",
     "text": [
      "Creating product system of: heat production, heavy fuel oil, at industrial furnace 1MW | heat, district or industrial, other than natural gas | Cutoff, U | RoW\n",
      "Remaining number of product systems to be created: 1\n",
      "Creating product system of: heat production, heavy fuel oil, at industrial furnace 1MW | heat, district or industrial, other than natural gas | Cutoff, U | Europe without Switzerland\n",
      "Remaining number of product systems to be created: 0\n"
     ]
    },
    {
     "data": {
      "text/html": [
       "<div>\n",
       "<style scoped>\n",
       "    .dataframe tbody tr th:only-of-type {\n",
       "        vertical-align: middle;\n",
       "    }\n",
       "\n",
       "    .dataframe tbody tr th {\n",
       "        vertical-align: top;\n",
       "    }\n",
       "\n",
       "    .dataframe thead th {\n",
       "        text-align: right;\n",
       "    }\n",
       "</style>\n",
       "<table border=\"1\" class=\"dataframe\">\n",
       "  <thead>\n",
       "    <tr style=\"text-align: right;\">\n",
       "      <th></th>\n",
       "      <th>product_system_name</th>\n",
       "      <th>product_system_id</th>\n",
       "      <th>product_system_location</th>\n",
       "    </tr>\n",
       "  </thead>\n",
       "  <tbody>\n",
       "    <tr>\n",
       "      <th>0</th>\n",
       "      <td>heat production, heavy fuel oil, at industrial...</td>\n",
       "      <td>dafb09af-1dae-414a-bc34-7fec7b7b6277</td>\n",
       "      <td>RoW</td>\n",
       "    </tr>\n",
       "    <tr>\n",
       "      <th>1</th>\n",
       "      <td>heat production, heavy fuel oil, at industrial...</td>\n",
       "      <td>0d651f5c-9b3c-484d-a0fe-9dfbf3a20995</td>\n",
       "      <td>Europe without Switzerland</td>\n",
       "    </tr>\n",
       "  </tbody>\n",
       "</table>\n",
       "</div>"
      ],
      "text/plain": [
       "                                 product_system_name  \\\n",
       "0  heat production, heavy fuel oil, at industrial...   \n",
       "1  heat production, heavy fuel oil, at industrial...   \n",
       "\n",
       "                      product_system_id     product_system_location  \n",
       "0  dafb09af-1dae-414a-bc34-7fec7b7b6277                         RoW  \n",
       "1  0d651f5c-9b3c-484d-a0fe-9dfbf3a20995  Europe without Switzerland  "
      ]
     },
     "execution_count": 20,
     "metadata": {},
     "output_type": "execute_result"
    }
   ],
   "source": [
    "# Create product systems for selected processes\n",
    "search_list_processID = list(search_process_df['id'])\n",
    "product_system_ids = []\n",
    "product_system_names = []\n",
    "product_system_locations = pd.Series(search_process_df['location'])\n",
    "\n",
    "# for i in range(len(search_list_processID)):\n",
    "for i in range(2): # for test\n",
    "    print('Creating product system of: '+search_process_df['name'][i]+' | '+product_system_locations[i])\n",
    "    product_system = client.create_product_system(search_list_processID[i], default_providers='prefer', preferred_type='UNIT_PROCESS') #TODO: preferred_type can be changed to \"SYSTEM_PROCESS\" if needed\n",
    "    product_system_ids.append(product_system.id)\n",
    "    ps = client.find(olca.ProductSystem, search_process_df['name'][i])\n",
    "    product_system_names.append(ps.name)\n",
    "    # print('Remaining number of product systems to be created: '+str(len(search_list_processID)-i-1))\n",
    "    print('Remaining number of product systems to be created: '+str(2-i-1)) # for test\n",
    "\n",
    "product_system_df = pd.DataFrame(list(zip(product_system_names, product_system_ids)), \n",
    "                    columns=['product_system_name', 'product_system_id'])\n",
    "\n",
    "product_system_df.assign(product_system_location=product_system_locations)"
   ]
  },
  {
   "cell_type": "code",
   "execution_count": 15,
   "metadata": {},
   "outputs": [],
   "source": [
    "setup = olca.CalculationSetup()\n",
    "setup.calculation_type = olca.CalculationType.SIMPLE_CALCULATION # TODO: Can choose SIMPLE_CALCULATION, CONTRIBUTION_ANALYSIS, UPSTREAM_ANALYSIS, REGIONALIZED_CALCULATION, MONTE_CARLO_SIMULATION\n",
    "setup.impact_method = client.find(olca.ImpactMethod, 'IPCC 2013') # TODO: choose impact method accordingly\n",
    "\n",
    "# amount is the amount of the functional unit (fu) of the system that\n",
    "# should be used in the calculation; unit, flow property, etc. of the fu\n",
    "# can be also defined; by default openLCA will take the settings of the\n",
    "# reference flow of the product system\n",
    "setup.amount = 1.0"
   ]
  },
  {
   "cell_type": "code",
   "execution_count": 16,
   "metadata": {},
   "outputs": [
    {
     "name": "stdout",
     "output_type": "stream",
     "text": [
      "Working on heat production, heavy fuel oil, at industrial furnace 1MW | heat, district or industrial, other than natural gas | Cutoff, U | RoW | 1a7e3029-b37c-47b7-aa2d-cd93d774657a\n",
      "1a7e3029-b37c-47b7-aa2d-cd93d774657a\n"
     ]
    },
    {
     "name": "stderr",
     "output_type": "stream",
     "text": [
      "ERROR:root:calculation failed: 500: Failed to call method public org.openlca.ipc.RpcResponse org.openlca.ipc.handlers.Calculator.calculate(org.openlca.ipc.RpcRequest): null\n",
      "ERROR:root:Excel export to calc_result/RoW_calc_result.xlsx failed: 501: The Excel export is currently only implemented for calculation results\n"
     ]
    },
    {
     "name": "stdout",
     "output_type": "stream",
     "text": [
      "Remaining number of processes to be calculated: 1\n",
      "Working on heat production, heavy fuel oil, at industrial furnace 1MW | heat, district or industrial, other than natural gas | Cutoff, U | Europe without Switzerland | fe437ddb-2072-4682-869a-052746bbdc9a\n",
      "fe437ddb-2072-4682-869a-052746bbdc9a\n"
     ]
    },
    {
     "name": "stderr",
     "output_type": "stream",
     "text": [
      "ERROR:root:calculation failed: 500: Failed to call method public org.openlca.ipc.RpcResponse org.openlca.ipc.handlers.Calculator.calculate(org.openlca.ipc.RpcRequest): null\n",
      "ERROR:root:Excel export to calc_result/Europe without Switzerland_calc_result.xlsx failed: 501: The Excel export is currently only implemented for calculation results\n"
     ]
    },
    {
     "name": "stdout",
     "output_type": "stream",
     "text": [
      "Remaining number of processes to be calculated: 0\n"
     ]
    }
   ],
   "source": [
    "# for ps in range(len(product_system_names)):\n",
    "for ps in range(2): # for test\n",
    "    \n",
    "    print('Working on '+product_system_names[ps]+' | '+product_system_locations[ps]+' | '+product_system_ids[ps])\n",
    "\n",
    "    setup.product_system = client.get(olca.ProductSystem, uid=product_system_ids[ps])\n",
    "\n",
    "    print(setup.product_system.id)\n",
    "\n",
    "    calc_result = client.calculate(setup)\n",
    "\n",
    "    client.excel_export(calc_result, 'calc_result/'+product_system_locations[ps]+'_'+'calc_result.xlsx')\n",
    "\n",
    "    print('Remaining number of processes to be calculated: '+str(len(product_system_names)-ps-1))"
   ]
  },
  {
   "cell_type": "code",
   "execution_count": null,
   "metadata": {},
   "outputs": [],
   "source": [
    "GWP100a_df = pd.DataFrame()\n",
    "# for i in range(len(product_system_locations)):\n",
    "for i in range(2): # for test\n",
    "    filename_xlsx = 'calc_result/'+product_system_locations[i]+'_calc_result.xlsx'\n",
    "    # filename_xlsx = 'calc_result/'+product_system_locations[0]+'_calc_result.xlsx' # for test\n",
    "    results_db = pd.ExcelFile(filename_xlsx)\n",
    "    impact_df = results_db.parse('Impacts')\n",
    "    setup_df = results_db.parse('Calculation setup')\n",
    "\n",
    "    new_header = impact_df.iloc[0] #grab the first row for the header\n",
    "    impact_df = impact_df[1:] #take the data less the header row\n",
    "    impact_df.columns = new_header #set the header row as the df header\n",
    "\n",
    "    GWP100a_series = pd.Series(impact_df.iloc[2, 2:])\n",
    "    GWP100a_series['Process'] = search_process_df['name'][i]\n",
    "    GWP100a_series['location_extended'] = setup_df.iloc[3, 2]\n",
    "\n",
    "    GWP100a_df[product_system_locations[i]] = GWP100a_series\n",
    "\n",
    "GWP100a_df.T.to_excel('GWP100a_summary.xlsx')\n"
   ]
  },
  {
   "cell_type": "code",
   "execution_count": null,
   "metadata": {},
   "outputs": [],
   "source": [
    "process"
   ]
  }
 ],
 "metadata": {
  "interpreter": {
   "hash": "35e6b958be813515be18ceffa6a3de8dd486f229a9d767053d882fcecf37648f"
  },
  "kernelspec": {
   "display_name": "Python 3.9.7 64-bit ('suscons': conda)",
   "name": "python3"
  },
  "language_info": {
   "codemirror_mode": {
    "name": "ipython",
    "version": 3
   },
   "file_extension": ".py",
   "mimetype": "text/x-python",
   "name": "python",
   "nbconvert_exporter": "python",
   "pygments_lexer": "ipython3",
   "version": "3.9.7"
  },
  "orig_nbformat": 4
 },
 "nbformat": 4,
 "nbformat_minor": 2
}
