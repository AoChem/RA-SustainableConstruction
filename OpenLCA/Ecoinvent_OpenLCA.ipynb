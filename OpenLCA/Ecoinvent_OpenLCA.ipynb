{
 "cells": [
  {
   "cell_type": "code",
   "execution_count": null,
   "metadata": {},
   "outputs": [],
   "source": [
    "'''\n",
    "This script is used for interacting with OpenLCA.\n",
    "Codes are developed by Ao Chen @ETH-ML.\n",
    "Connect to IPC server in OpenLCA software before running. (Port: 8080)\n",
    "'''\n",
    "\n",
    "from notebook.services.config import ConfigManager\n",
    "cm = ConfigManager()\n",
    "cm.update('notebook', {'highlight_selected_word': {\n",
    "    'highlight_across_all_cells': True,\n",
    "    'only_cells_in_scroll': False,\n",
    "    'delay': 500,\n",
    "    'code_cells_only': True,\n",
    "}})\n",
    "\n",
    "import olca\n",
    "import uuid\n",
    "import math\n",
    "import pandas as pd\n",
    "from datetime import datetime, date\n",
    "\n",
    "from matplotlib import pyplot as plt\n",
    "import matplotlib.mlab as mlab\n",
    "from matplotlib import rcParams\n",
    "import matplotlib.patches as mpatches\n",
    "import seaborn as sns\n",
    "\n",
    "params = {'mathtext.default': 'regular' }\n",
    "\n",
    "client = olca.Client(8080)\n",
    "client"
   ]
  },
  {
   "cell_type": "code",
   "execution_count": null,
   "metadata": {},
   "outputs": [],
   "source": [
    "def get_all_process(client):\n",
    "    # Get all process dataset in dataframe\n",
    "    Process_descriptor = client.get_descriptors(olca.Process)\n",
    "    Process_list = []\n",
    "    ID_list = []\n",
    "    Location_list = []\n",
    "\n",
    "    for process in Process_descriptor:\n",
    "        Process_list.append(process.name)\n",
    "        ID_list.append(process.id)\n",
    "        Location_list.append(process.location)\n",
    "    Processes_df = pd.DataFrame(list(zip(Process_list,\n",
    "                                    ID_list, Location_list)),\n",
    "                                columns=['name', 'id', 'location'])\n",
    "    return Processes_df"
   ]
  },
  {
   "cell_type": "code",
   "execution_count": null,
   "metadata": {},
   "outputs": [],
   "source": [
    "Processes_df = get_all_process(client)"
   ]
  },
  {
   "cell_type": "code",
   "execution_count": null,
   "metadata": {},
   "outputs": [],
   "source": [
    "List = [Processes_df.iloc[p] for p in range(len(Processes_df)) if 'heat production' in Processes_df.iloc[p]['name']]"
   ]
  },
  {
   "cell_type": "code",
   "execution_count": null,
   "metadata": {},
   "outputs": [],
   "source": [
    "List[1]['id']"
   ]
  },
  {
   "cell_type": "code",
   "execution_count": null,
   "metadata": {},
   "outputs": [],
   "source": [
    "List = [['a', 1], ['b']]"
   ]
  },
  {
   "cell_type": "code",
   "execution_count": null,
   "metadata": {},
   "outputs": [],
   "source": [
    "Dict = {'a':{'c':[1, 3], 'd':1}, 'b':2}"
   ]
  },
  {
   "cell_type": "code",
   "execution_count": null,
   "metadata": {},
   "outputs": [],
   "source": [
    "Dict = {}"
   ]
  },
  {
   "cell_type": "code",
   "execution_count": null,
   "metadata": {},
   "outputs": [],
   "source": [
    "Dict{'a'} = "
   ]
  },
  {
   "cell_type": "code",
   "execution_count": null,
   "metadata": {},
   "outputs": [],
   "source": [
    "Dict['a']['d']"
   ]
  },
  {
   "cell_type": "code",
   "execution_count": null,
   "metadata": {},
   "outputs": [],
   "source": [
    "flat_list = [item for sublist in List for item in sublist]"
   ]
  },
  {
   "cell_type": "code",
   "execution_count": 55,
   "metadata": {},
   "outputs": [],
   "source": [
    "class LCA_Calculation():\n",
    "    def __init__(self, Processes_df, Impact_method, Result_path, Excel_path='', Process_list_target=None):\n",
    "        self.Processes_df = Processes_df\n",
    "        self.Impact_method = Impact_method\n",
    "        self.Result_path = Result_path\n",
    "        self.Excel_path = Excel_path\n",
    "        self.Process_list_target = Process_list_target\n",
    "\n",
    "        if not os.path.exists(self.Result_path):\n",
    "            os.makedirs(self.Result_path)\n",
    "    \n",
    "    def create_calc_product_system(self, search_process_list, Created_PS_refProcess):\n",
    "        product_system_ids = []\n",
    "        product_system_names = []\n",
    "        product_system_locations = []\n",
    "        # for j in range(len(search_process_list)):\n",
    "        for j in range(1): # for test\n",
    "            # Create product systems for selected processes\n",
    "            search_process_ID = search_process_list[j]['id']\n",
    "            search_process_name = search_process_list[j]['name']\n",
    "            search_process_location = search_process_list[j]['location']\n",
    "            if search_process_ID not in Created_PS_refProcess.keys():\n",
    "                print('Creating product system of: '+search_process_name+' | '+search_process_location)\n",
    "                product_system = client.create_product_system(search_process_ID, default_providers='prefer', preferred_type='UNIT_PROCESS') #TODO: preferred_type can be changed to \"SYSTEM_PROCESS\" if needed\n",
    "                product_system_ids.append(product_system.id)\n",
    "                product_system_names.append(search_process_name)\n",
    "                product_system_locations.append(search_process_location)\n",
    "                Created_PS_refProcess[search_process_ID] = {'Process': [search_process_name, search_process_location, search_process_ID], 'Product_system': product_system.id}\n",
    "            else:\n",
    "                print('This product system has been created before.')\n",
    "                product_system_ids.append(Created_PS_refProcess[search_process_ID]['Product_system'])\n",
    "                product_system_names.append(Created_PS_refProcess[search_process_ID]['Process'][0])\n",
    "                product_system_locations.append(Created_PS_refProcess[search_process_ID]['Process'][1])\n",
    "            \n",
    "            # print('Remaining number of product systems to be created: '+str(len(search_process_list)-i-1))\n",
    "            print('Remaining number of product systems to be created: '+str(2-j-1)) # for test\n",
    "\n",
    "        product_system_df = pd.DataFrame(list(zip(product_system_names, product_system_ids, product_system_locations)), \n",
    "                                columns=['name', 'id', 'location'])\n",
    "        \n",
    "        setup = olca.CalculationSetup()\n",
    "        setup.calculation_type = olca.CalculationType.SIMPLE_CALCULATION # TODO: Can choose SIMPLE_CALCULATION, CONTRIBUTION_ANALYSIS, UPSTREAM_ANALYSIS, REGIONALIZED_CALCULATION, MONTE_CARLO_SIMULATION\n",
    "        setup.impact_method = client.find(olca.ImpactMethod, self.Impact_method) # TODO: choose impact method accordingly\n",
    "        setup.amount = 1.0\n",
    "        # amount is the amount of the functional unit (fu) of the system that should be used in the calculation; unit, flow property, etc. of the fu\n",
    "        # can be also defined; by default openLCA will take the settings of the reference flow of the product system\n",
    "\n",
    "        calc_result = {}\n",
    "        # for j in range(len(product_system_df)):\n",
    "        for j in range(1): # for test\n",
    "            key = product_system_names[j]+' | '+product_system_locations[j]+' | '+product_system_ids[j]\n",
    "            print('Calculating '+key)\n",
    "            setup.product_system = client.get(olca.ProductSystem, uid=product_system_ids[j])\n",
    "            calc_result[key] = client.calculate(setup)\n",
    "            # client.excel_export(calc_result, 'calc_result/'+product_system_locations[j]+'_'+'calc_result.xlsx')\n",
    "            print('Remaining number of processes to be calculated: '+str(len(product_system_names)-j-1))\n",
    "\n",
    "        keys = list(calc_result.keys())\n",
    "        result_list = []\n",
    "        \n",
    "        for j in range(len(calc_result)):\n",
    "            key = keys[j]\n",
    "            result = calc_result[key]\n",
    "            for k in range(len(result.impact_results)):\n",
    "                GWP_result = result.impact_results[k]\n",
    "                if 'GWP 100a' in GWP_result.impact_category.name:\n",
    "                    GWP100a_value = GWP_result.value\n",
    "            # GWP_category = GWP100a_result.impact_category\n",
    "            # if GWP_category.name != 'climate change - GWP 100a':\n",
    "            #     print('ERROR: This results is recording '+GWP_category.name+'.')\n",
    "            # GWP100a_value = GWP100a_result.value\n",
    "            result_list.append([GWP100a_value, key])\n",
    "        result_df = pd.DataFrame(result_list, columns=['GWP100a', 'key'])\n",
    "        result_df[['Activity', 'Product', 'Cutoff', 'Location', 'id']] = result_df.key.str.split('|', expand=True)\n",
    "        result_df = result_df.drop(columns='key')\n",
    "        return result_df\n",
    "        \n",
    "    def cal_from_excel(self, Created_PS_refProcess={}):\n",
    "        material_df = pd.read_excel(self.Excel_path, header=None)\n",
    "        material_df[['Activity', 'Product', 'Cutoff']] = material_df[0].str.split('|', 2, expand=True)\n",
    "        material_df['Activity'] = material_df['Activity'].str.strip()\n",
    "\n",
    "        # for i in range(len(material_df)):\n",
    "        for i in range(1): # for test\n",
    "            search_process_list = [Processes_df.iloc[p] for p in range(len(self.Processes_df)) if material_df['Activity'][i] in self.Processes_df.iloc[p]['name']] # search for processes with specific name\n",
    "            result_df = self.create_calc_product_system(search_process_list, Created_PS_refProcess)\n",
    "            result_df.to_csv(self.Result_path+'/Summary_'+material_df['Activity'][i]+'.csv', index=None)\n",
    "        \n",
    "        return Created_PS_refProcess\n",
    "\n",
    "    def cal_from_list(self, Created_PS_refProcess={}):\n",
    "        for i in range(len(self.Process_list_target['include'])):\n",
    "            search_process_list = [Processes_df.iloc[p] for p in range(len(self.Processes_df)) if self.Process_list_target['include'][i] in self.Processes_df.iloc[p]['name'] and not self.Process_list_target['not_include'][i] in self.Processes_df.iloc[p]['name']] # search for processes with specific name\n",
    "            result_df = self.create_calc_product_system(search_process_list, Created_PS_refProcess)\n",
    "            result_df.to_csv(self.Result_path+'/Summary_'+self.Process_list_target['include'][i]+'.csv', index=None)\n",
    "        \n",
    "        return Created_PS_refProcess"
   ]
  },
  {
   "cell_type": "code",
   "execution_count": 48,
   "metadata": {},
   "outputs": [
    {
     "data": {
      "text/plain": [
       "2"
      ]
     },
     "execution_count": 48,
     "metadata": {},
     "output_type": "execute_result"
    }
   ],
   "source": [
    "len(Created_PS_refProcess)"
   ]
  },
  {
   "cell_type": "code",
   "execution_count": 56,
   "metadata": {},
   "outputs": [
    {
     "name": "stdout",
     "output_type": "stream",
     "text": [
      "This product system has been created before.\n",
      "Remaining number of product systems to be created: 1\n",
      "Calculating autoclaved aerated concrete block production | autoclaved aerated concrete block | Cutoff, U | CH | c1ff205d-bda1-43fa-80d6-aad4a6faaf04\n",
      "Remaining number of processes to be calculated: 0\n",
      "This product system has been created before.\n",
      "Remaining number of product systems to be created: 1\n",
      "Calculating market for electricity, medium voltage | electricity, medium voltage | Cutoff, U | OM | 2f9e0c8e-02b4-4d11-bb60-d53f425246bb\n",
      "Remaining number of processes to be calculated: 0\n"
     ]
    }
   ],
   "source": [
    "Impact_method = 'IPCC 2013 no LT'\n",
    "Today = date.today().strftime(\"%b_%d_%Y\")\n",
    "Result_path = Today+'_calc_results_GWP100a_test'\n",
    "\n",
    "Excel_path = 'List_of_Materials_ecoinvent.xlsx' # optional\n",
    "Process_list_target = {\n",
    "    'include': ['market for electricity, medium voltage'], # key words you want to include\n",
    "    'not_include': ['municipal waste'] # key words you do not want to include\n",
    "} # optional, \n",
    "  # if you want to search different activities, put your keywords accordingly in the second, third, ... \n",
    "  # position in the list and remember to include an empty element '' when there's no 'not_include' keyword.\n",
    "\n",
    "instance1 = LCA_Calculation(Processes_df, Impact_method, Result_path, Excel_path=Excel_path, Process_list_target=Process_list_target)\n",
    "Created_PS_refProcess = instance1.cal_from_excel(Created_PS_refProcess=Created_PS_refProcess) # input Excel\n",
    "Created_PS_refProcess = instance1.cal_from_list(Created_PS_refProcess=Created_PS_refProcess) # input list (in fact a dict)\n",
    "\n",
    "# TODO: change names above as you need\n",
    "# if you see `ERROR 500`, Failed to call method public org.openlca.ipc.RpcResponse org.openlca.ipc.handlers.Calculator.calculate(org.openlca.ipc.RpcRequest)`,\n",
    "# try to increase max. memory usage in OpenLCA then restart OpenLCA and Jupyter kernel."
   ]
  },
  {
   "cell_type": "code",
   "execution_count": 38,
   "metadata": {},
   "outputs": [
    {
     "data": {
      "text/html": [
       "<div>\n",
       "<style scoped>\n",
       "    .dataframe tbody tr th:only-of-type {\n",
       "        vertical-align: middle;\n",
       "    }\n",
       "\n",
       "    .dataframe tbody tr th {\n",
       "        vertical-align: top;\n",
       "    }\n",
       "\n",
       "    .dataframe thead th {\n",
       "        text-align: right;\n",
       "    }\n",
       "</style>\n",
       "<table border=\"1\" class=\"dataframe\">\n",
       "  <thead>\n",
       "    <tr style=\"text-align: right;\">\n",
       "      <th></th>\n",
       "      <th>GWP100a</th>\n",
       "      <th>Activity</th>\n",
       "      <th>Product</th>\n",
       "      <th>Cutoff</th>\n",
       "      <th>Location</th>\n",
       "      <th>id</th>\n",
       "    </tr>\n",
       "  </thead>\n",
       "  <tbody>\n",
       "    <tr>\n",
       "      <th>0</th>\n",
       "      <td>0.348967</td>\n",
       "      <td>autoclaved aerated concrete block production</td>\n",
       "      <td>autoclaved aerated concrete block</td>\n",
       "      <td>Cutoff, U</td>\n",
       "      <td>CH</td>\n",
       "      <td>c1ff205d-bda1-43fa-80d6-aad4a6faaf04</td>\n",
       "    </tr>\n",
       "  </tbody>\n",
       "</table>\n",
       "</div>"
      ],
      "text/plain": [
       "    GWP100a                                       Activity  \\\n",
       "0  0.348967  autoclaved aerated concrete block production    \n",
       "\n",
       "                               Product       Cutoff Location  \\\n",
       "0   autoclaved aerated concrete block    Cutoff, U       CH    \n",
       "\n",
       "                                      id  \n",
       "0   c1ff205d-bda1-43fa-80d6-aad4a6faaf04  "
      ]
     },
     "execution_count": 38,
     "metadata": {},
     "output_type": "execute_result"
    }
   ],
   "source": [
    "result_df"
   ]
  },
  {
   "cell_type": "code",
   "execution_count": 54,
   "metadata": {},
   "outputs": [
    {
     "data": {
      "text/plain": [
       "4"
      ]
     },
     "execution_count": 54,
     "metadata": {},
     "output_type": "execute_result"
    }
   ],
   "source": [
    "key = list(calc_result.keys())[0]\n",
    "test_result = calc_result[key]\n",
    "for i in range(len(test_result.impact_results)):\n",
    "    test_GWP_result = test_result.impact_results[i]\n",
    "    if 'GWP 100a' in test_GWP_result.impact_category.name:\n",
    "        GWP100a_value = test_GWP_result.value\n"
   ]
  },
  {
   "cell_type": "code",
   "execution_count": 23,
   "metadata": {},
   "outputs": [],
   "source": [
    "test_GWP_result = test_result.impact_results[1]"
   ]
  },
  {
   "cell_type": "code",
   "execution_count": 37,
   "metadata": {},
   "outputs": [
    {
     "data": {
      "text/html": [
       "<pre><code class=\"language-json\">{\n",
       "  \"@id\": \"80c009aa-8eff-3a7e-b049-ec78d1d6583d\",\n",
       "  \"@type\": \"ImpactCategory\",\n",
       "  \"name\": \"climate change - GWP 100a\",\n",
       "  \"refUnit\": \"kg CO2-Eq\"\n",
       "}</code></pre>"
      ],
      "text/plain": [
       "Ref(id='80c009aa-8eff-3a7e-b049-ec78d1d6583d', olca_type='ImpactCategory', name='climate change - GWP 100a', description=None, version=None, last_change=None, category_path=None, library=None, ref_unit='kg CO2-Eq', location=None, flow_type=None, process_type=None)"
      ]
     },
     "execution_count": 37,
     "metadata": {},
     "output_type": "execute_result"
    }
   ],
   "source": [
    "test_GWP_result.impact_category"
   ]
  },
  {
   "cell_type": "code",
   "execution_count": null,
   "metadata": {},
   "outputs": [],
   "source": [
    "test_GWP_category = test_GWP_result.impact_category"
   ]
  },
  {
   "cell_type": "code",
   "execution_count": null,
   "metadata": {},
   "outputs": [],
   "source": [
    "test_GWP_category.name"
   ]
  },
  {
   "cell_type": "code",
   "execution_count": null,
   "metadata": {},
   "outputs": [],
   "source": [
    "# Get all process dataset in database\n",
    "process_descriptor = client.get_descriptors(olca.Process)\n",
    "process_list = []\n",
    "id_list = []\n",
    "location_list = []\n",
    "\n",
    "for process in process_descriptor:\n",
    "    process_list.append(process.name)\n",
    "    id_list.append(process.id)\n",
    "    location_list.append(process.location)\n",
    "processes_df = pd.DataFrame(list(zip(process_list,\n",
    "                                   id_list, location_list)),\n",
    "                               columns=['name', 'id', 'location'])\n",
    "# processes_df"
   ]
  },
  {
   "cell_type": "code",
   "execution_count": null,
   "metadata": {},
   "outputs": [],
   "source": [
    "def search_process(processes_df):\n",
    "    '''\n",
    "    Search specific flow databases with key word(s)\n",
    "    '''\n",
    "    search_process_df = processes_df[processes_df['name'].str.contains(r'heat production, heavy fuel oil, at industrial(?!$)')] # TODO: change keywords\n",
    "    search_process_df.reset_index(drop=True, inplace=True)\n",
    "    return search_process_df"
   ]
  },
  {
   "cell_type": "code",
   "execution_count": null,
   "metadata": {},
   "outputs": [],
   "source": [
    "test_process = client.get(olca.Process, uid='4f582f90-d0ae-3552-be43-70c730e82af0')"
   ]
  },
  {
   "cell_type": "code",
   "execution_count": null,
   "metadata": {},
   "outputs": [],
   "source": [
    "test_exchange = test_process.exchanges[0]"
   ]
  },
  {
   "cell_type": "code",
   "execution_count": null,
   "metadata": {},
   "outputs": [],
   "source": [
    "test_exchange.amount"
   ]
  },
  {
   "cell_type": "code",
   "execution_count": null,
   "metadata": {},
   "outputs": [],
   "source": [
    "test_amount = []"
   ]
  },
  {
   "cell_type": "code",
   "execution_count": null,
   "metadata": {},
   "outputs": [],
   "source": [
    "test_amount.append(test_exchange.amount)"
   ]
  },
  {
   "cell_type": "code",
   "execution_count": null,
   "metadata": {},
   "outputs": [],
   "source": [
    "test_exchange.amount = 0.5"
   ]
  },
  {
   "cell_type": "code",
   "execution_count": null,
   "metadata": {},
   "outputs": [],
   "source": [
    "test_amount.append(test_exchange.amount)"
   ]
  },
  {
   "cell_type": "code",
   "execution_count": null,
   "metadata": {},
   "outputs": [],
   "source": [
    "test_process"
   ]
  },
  {
   "cell_type": "code",
   "execution_count": null,
   "metadata": {},
   "outputs": [],
   "source": [
    "process_list_all[0]"
   ]
  },
  {
   "cell_type": "code",
   "execution_count": null,
   "metadata": {},
   "outputs": [],
   "source": [
    "process_to_search_df = pd.read_excel('List_of_Materials_ecoinvent.xlsx', header=None)"
   ]
  },
  {
   "cell_type": "code",
   "execution_count": null,
   "metadata": {},
   "outputs": [],
   "source": [
    "# Create product systems for selected processes\n",
    "search_list_processID = list(search_process_df['id'])\n",
    "product_system_ids = []\n",
    "product_system_names = []\n",
    "product_system_locations = pd.Series(search_process_df['location'])\n",
    "\n",
    "# for i in range(len(search_list_processID)):\n",
    "for i in range(2): # for test\n",
    "    print('Creating product system of: '+search_process_df['name'][i]+' | '+product_system_locations[i])\n",
    "    product_system = client.create_product_system(search_list_processID[i], default_providers='prefer', preferred_type='UNIT_PROCESS') #TODO: preferred_type can be changed to \"SYSTEM_PROCESS\" if needed\n",
    "    product_system_ids.append(product_system.id)\n",
    "    ps = client.find(olca.ProductSystem, search_process_df['name'][i])\n",
    "    product_system_names.append(ps.name)\n",
    "    # print('Remaining number of product systems to be created: '+str(len(search_list_processID)-i-1))\n",
    "    print('Remaining number of product systems to be created: '+str(2-i-1)) # for test\n",
    "\n",
    "product_system_df = pd.DataFrame(list(zip(product_system_names, product_system_ids)), \n",
    "                    columns=['product_system_name', 'product_system_id'])\n",
    "\n",
    "product_system_df.assign(product_system_location=product_system_locations)"
   ]
  },
  {
   "cell_type": "code",
   "execution_count": null,
   "metadata": {},
   "outputs": [],
   "source": [
    "setup = olca.CalculationSetup()\n",
    "setup.calculation_type = olca.CalculationType.SIMPLE_CALCULATION # TODO: Can choose SIMPLE_CALCULATION, CONTRIBUTION_ANALYSIS, UPSTREAM_ANALYSIS, REGIONALIZED_CALCULATION, MONTE_CARLO_SIMULATION\n",
    "setup.impact_method = client.find(olca.ImpactMethod, 'IPCC 2013') # TODO: choose impact method accordingly\n",
    "\n",
    "# amount is the amount of the functional unit (fu) of the system that\n",
    "# should be used in the calculation; unit, flow property, etc. of the fu\n",
    "# can be also defined; by default openLCA will take the settings of the\n",
    "# reference flow of the product system\n",
    "setup.amount = 1.0"
   ]
  },
  {
   "cell_type": "code",
   "execution_count": null,
   "metadata": {},
   "outputs": [],
   "source": [
    "# for ps in range(len(product_system_names)):\n",
    "for ps in range(2): # for test\n",
    "    \n",
    "    print('Working on '+product_system_names[ps]+' | '+product_system_locations[ps]+' | '+product_system_ids[ps])\n",
    "\n",
    "    setup.product_system = client.get(olca.ProductSystem, uid=product_system_ids[ps])\n",
    "\n",
    "    print(setup.product_system.id)\n",
    "\n",
    "    calc_result = client.calculate(setup)\n",
    "\n",
    "    client.excel_export(calc_result, 'calc_result/'+product_system_locations[ps]+'_'+'calc_result.xlsx')\n",
    "\n",
    "    print('Remaining number of processes to be calculated: '+str(len(product_system_names)-ps-1))"
   ]
  },
  {
   "cell_type": "code",
   "execution_count": null,
   "metadata": {},
   "outputs": [],
   "source": [
    "GWP100a_df = pd.DataFrame()\n",
    "# for i in range(len(product_system_locations)):\n",
    "for i in range(2): # for test\n",
    "    filename_xlsx = 'calc_result/'+product_system_locations[i]+'_calc_result.xlsx'\n",
    "    # filename_xlsx = 'calc_result/'+product_system_locations[0]+'_calc_result.xlsx' # for test\n",
    "    results_db = pd.ExcelFile(filename_xlsx)\n",
    "    impact_df = results_db.parse('Impacts')\n",
    "    setup_df = results_db.parse('Calculation setup')\n",
    "\n",
    "    new_header = impact_df.iloc[0] #grab the first row for the header\n",
    "    impact_df = impact_df[1:] #take the data less the header row\n",
    "    impact_df.columns = new_header #set the header row as the df header\n",
    "\n",
    "    GWP100a_series = pd.Series(impact_df.iloc[2, 2:])\n",
    "    GWP100a_series['Process'] = search_process_df['name'][i]\n",
    "    GWP100a_series['location_extended'] = setup_df.iloc[3, 2]\n",
    "\n",
    "    GWP100a_df[product_system_locations[i]] = GWP100a_series\n",
    "\n",
    "GWP100a_df.T.to_excel('GWP100a_summary.xlsx')\n"
   ]
  },
  {
   "cell_type": "code",
   "execution_count": null,
   "metadata": {},
   "outputs": [],
   "source": [
    "process"
   ]
  }
 ],
 "metadata": {
  "interpreter": {
   "hash": "35e6b958be813515be18ceffa6a3de8dd486f229a9d767053d882fcecf37648f"
  },
  "kernelspec": {
   "display_name": "Python 3.9.7 64-bit ('suscons': conda)",
   "name": "python3"
  },
  "language_info": {
   "codemirror_mode": {
    "name": "ipython",
    "version": 3
   },
   "file_extension": ".py",
   "mimetype": "text/x-python",
   "name": "python",
   "nbconvert_exporter": "python",
   "pygments_lexer": "ipython3",
   "version": "3.9.7"
  },
  "orig_nbformat": 4
 },
 "nbformat": 4,
 "nbformat_minor": 2
}
