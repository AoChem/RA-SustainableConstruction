{
 "cells": [
  {
   "cell_type": "code",
   "execution_count": null,
   "metadata": {},
   "outputs": [],
   "source": [
    "# This script is used for interacting with OpenLCA.\n",
    "# Codes are adapted from Julian Rickert @GreenDelta by Ao Chen @ETH.\n",
    "# Connect to IPC server in OpenLCA software before running. (Port: 8080)\n",
    "from notebook.services.config import ConfigManager\n",
    "cm = ConfigManager()\n",
    "cm.update('notebook', {'highlight_selected_word': {\n",
    "    'highlight_across_all_cells': True,\n",
    "    'only_cells_in_scroll': False,\n",
    "    'delay': 500,\n",
    "    'code_cells_only': True,\n",
    "}})\n",
    "\n",
    "\n",
    "import pandas as pd\n",
    "import olca\n",
    "import uuid\n",
    "import math\n",
    "from datetime import datetime\n",
    "\n",
    "from matplotlib import pyplot as plt\n",
    "import matplotlib.mlab as mlab\n",
    "from matplotlib import rcParams\n",
    "import matplotlib.patches as mpatches\n",
    "import seaborn as sns\n",
    "\n",
    "params = {'mathtext.default': 'regular' }\n",
    "\n",
    "client = olca.Client(8080)\n",
    "client"
   ]
  },
  {
   "cell_type": "code",
   "execution_count": null,
   "metadata": {},
   "outputs": [],
   "source": [
    "# Get all process dataset in database\n",
    "process_descriptor = client.get_descriptors(olca.Process)\n",
    "process_list = []\n",
    "id_list = []\n",
    "\n",
    "for process in process_descriptor:\n",
    "    process_list.append(process.name)\n",
    "    id_list.append(process.id)\n",
    "processes_df = pd.DataFrame(list(zip(process_list,\n",
    "                                   id_list)),\n",
    "                               columns=['name', 'id'])\n",
    "processes_df"
   ]
  },
  {
   "cell_type": "code",
   "execution_count": null,
   "metadata": {},
   "outputs": [],
   "source": [
    "# Search specific process databases with key word(s)\n",
    "# Note that the search is blankspace-sensitive\n",
    "search_process_df = processes_df[processes_df['name'].str.contains(r'high voltage, production mix(?!$)')] # TODO: change keywords\n",
    "search_process_df.reset_index(drop=True, inplace=True)\n",
    "\n",
    "search_process_df"
   ]
  },
  {
   "cell_type": "code",
   "execution_count": null,
   "metadata": {},
   "outputs": [],
   "source": [
    "# Get all flow dataset in database\n",
    "flow_descriptor = client.get_descriptors(olca.Flow)\n",
    "flow_list = []\n",
    "id_list = []\n",
    "\n",
    "for flow in flow_descriptor:\n",
    "    flow_list.append(flow.name)\n",
    "    id_list.append(flow.id)\n",
    "flows_df = pd.DataFrame(list(zip(flow_list,\n",
    "                                   id_list)),\n",
    "                               columns=['name', 'id'])\n",
    "# flows_df"
   ]
  },
  {
   "cell_type": "code",
   "execution_count": null,
   "metadata": {},
   "outputs": [],
   "source": [
    "# Search specific flow databases with key word(s)\n",
    "# Note that the search is blankspace-sensitive\n",
    "search_flow_df = flows_df[flows_df['name'].str.contains(r'oil(?!$)')] # TODO: change keywords\n",
    "search_flow_df.reset_index(drop=True, inplace=True)\n",
    "\n",
    "# search_flow_df"
   ]
  },
  {
   "cell_type": "code",
   "execution_count": null,
   "metadata": {},
   "outputs": [],
   "source": [
    "# Create product systems for selected processes\n",
    "search_list_processID = list(search_process_df['id'])\n",
    "product_system_ids = []\n",
    "product_system_names = []\n",
    "for i in range(len(search_list_processID)):\n",
    "    product_system = client.create_product_system(search_list_processID[i], default_providers='prefer', preferred_type='UNIT_PROCESS')\n",
    "    product_system_ids.append(product_system.id)\n",
    "    ps = client.find(olca.ProductSystem, search_process_df['name'][i])\n",
    "    product_system_names.append(ps.name)\n",
    "\n",
    "product_system_df = pd.DataFrame(list(zip(product_system_names, product_system_ids)), \n",
    "                    columns=['product system name', 'product system id'])\n",
    "product_system_df   "
   ]
  },
  {
   "cell_type": "code",
   "execution_count": null,
   "metadata": {},
   "outputs": [],
   "source": [
    "setup = olca.CalculationSetup()\n",
    "setup.calculation_type = olca.CalculationType.CONTRIBUTION_ANALYSIS\n",
    "setup.impact_method = client.find(olca.ImpactMethod, 'IPCC 2013')\n",
    "\n",
    "# amount is the amount of the functional unit (fu) of the system that\n",
    "# should be used in the calculation; unit, flow property, etc. of the fu\n",
    "# can be also defined; by default openLCA will take the settings of the\n",
    "# reference flow of the product system\n",
    "setup.amount = 1.0"
   ]
  },
  {
   "cell_type": "code",
   "execution_count": null,
   "metadata": {},
   "outputs": [],
   "source": [
    "setup"
   ]
  },
  {
   "cell_type": "code",
   "execution_count": null,
   "metadata": {},
   "outputs": [],
   "source": [
    "for ps in range(len(product_system_names)):\n",
    "    setup.product_system = client.find(olca.ProductSystem, product_system_names[ps])\n",
    "\n",
    "    calc_result = client.calculate(setup)\n",
    "\n",
    "    client.excel_export(calc_result, 'calc_result.xlsx')\n",
    "\n",
    "    print('Remaining number of processes to be calculated: '+str(ps))"
   ]
  },
  {
   "cell_type": "code",
   "execution_count": null,
   "metadata": {},
   "outputs": [],
   "source": [
    "import pandas as pd\n",
    "\n",
    "filename_xlsx = 'calc_result.xlsx'\n",
    "result_db = pd.ExcelFile(filename_xlsx)\n",
    "impact_contributions_df = result_db.parse('Process impact contributions')"
   ]
  },
  {
   "cell_type": "code",
   "execution_count": null,
   "metadata": {},
   "outputs": [],
   "source": [
    "impact_contributions_df.iloc[2]"
   ]
  },
  {
   "cell_type": "code",
   "execution_count": null,
   "metadata": {},
   "outputs": [],
   "source": []
  }
 ],
 "metadata": {
  "interpreter": {
   "hash": "35e6b958be813515be18ceffa6a3de8dd486f229a9d767053d882fcecf37648f"
  },
  "kernelspec": {
   "display_name": "Python 3.9.7 64-bit ('suscons': conda)",
   "name": "python3"
  },
  "language_info": {
   "codemirror_mode": {
    "name": "ipython",
    "version": 3
   },
   "file_extension": ".py",
   "mimetype": "text/x-python",
   "name": "python",
   "nbconvert_exporter": "python",
   "pygments_lexer": "ipython3",
   "version": "3.9.7"
  },
  "orig_nbformat": 4
 },
 "nbformat": 4,
 "nbformat_minor": 2
}
