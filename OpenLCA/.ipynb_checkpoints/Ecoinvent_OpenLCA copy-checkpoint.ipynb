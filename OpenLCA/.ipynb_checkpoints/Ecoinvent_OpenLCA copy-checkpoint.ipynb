{
 "cells": [
  {
   "cell_type": "code",
   "execution_count": 1,
   "metadata": {},
   "outputs": [
    {
     "data": {
      "text/plain": [
       "<olca.ipc.Client at 0x7fcb96ff4040>"
      ]
     },
     "execution_count": 1,
     "metadata": {},
     "output_type": "execute_result"
    }
   ],
   "source": [
    "'''\n",
    "This script is used for interacting with OpenLCA.\n",
    "Codes are developed by Ao Chen @ETH-ML.\n",
    "Connect to IPC server in OpenLCA software before running. (Port: 8080)\n",
    "TODO: if you're running this script in your machine for the first time, run `product_system_reader.ipynb` first!\n",
    "Search for TODO in the notebook to see how to run this notebook as needed. \n",
    "'''\n",
    "\n",
    "from notebook.services.config import ConfigManager\n",
    "cm = ConfigManager()\n",
    "cm.update('notebook', {'highlight_selected_word': {\n",
    "    'highlight_across_all_cells': True,\n",
    "    'only_cells_in_scroll': False,\n",
    "    'delay': 500,\n",
    "    'code_cells_only': True,\n",
    "}})\n",
    "\n",
    "import os\n",
    "import csv\n",
    "import copy\n",
    "import json\n",
    "import olca\n",
    "import uuid\n",
    "import math\n",
    "import logging\n",
    "import traceback\n",
    "import numpy as np\n",
    "import pandas as pd\n",
    "from datetime import datetime, date\n",
    "\n",
    "from matplotlib import pyplot as plt\n",
    "import matplotlib.mlab as mlab\n",
    "from matplotlib import rcParams\n",
    "import matplotlib.patches as mpatches\n",
    "import seaborn as sns\n",
    "\n",
    "params = {'mathtext.default': 'regular' }\n",
    "\n",
    "client = olca.Client(8080)\n",
    "client"
   ]
  },
  {
   "cell_type": "code",
   "execution_count": 2,
   "metadata": {
    "code_folding": [
     0
    ]
   },
   "outputs": [],
   "source": [
    "def get_all_process(client):\n",
    "    # Get all process dataset in dataframe\n",
    "    Process_descriptor = client.get_descriptors(olca.Process)\n",
    "    Process_list = []\n",
    "    ID_list = []\n",
    "    Location_list = []\n",
    "\n",
    "    for process in Process_descriptor:\n",
    "        Process_list.append(process.name)\n",
    "        ID_list.append(process.id)\n",
    "        Location_list.append(process.location)\n",
    "    Processes_df = pd.DataFrame(list(zip(Process_list,\n",
    "                                    ID_list, Location_list)),\n",
    "                                columns=['name', 'id', 'location'])\n",
    "    return Processes_df"
   ]
  },
  {
   "cell_type": "code",
   "execution_count": 3,
   "metadata": {},
   "outputs": [],
   "source": [
    "Processes_df = get_all_process(client)"
   ]
  },
  {
   "cell_type": "code",
   "execution_count": 4,
   "metadata": {},
   "outputs": [
    {
     "data": {
      "text/html": [
       "<div>\n",
       "<style scoped>\n",
       "    .dataframe tbody tr th:only-of-type {\n",
       "        vertical-align: middle;\n",
       "    }\n",
       "\n",
       "    .dataframe tbody tr th {\n",
       "        vertical-align: top;\n",
       "    }\n",
       "\n",
       "    .dataframe thead th {\n",
       "        text-align: right;\n",
       "    }\n",
       "</style>\n",
       "<table border=\"1\" class=\"dataframe\">\n",
       "  <thead>\n",
       "    <tr style=\"text-align: right;\">\n",
       "      <th></th>\n",
       "      <th>name</th>\n",
       "      <th>id</th>\n",
       "      <th>location</th>\n",
       "    </tr>\n",
       "  </thead>\n",
       "  <tbody>\n",
       "    <tr>\n",
       "      <th>0</th>\n",
       "      <td>heat production, heavy fuel oil, at industrial...</td>\n",
       "      <td>4f582f90-d0ae-3552-be43-70c730e82af0</td>\n",
       "      <td>RoW</td>\n",
       "    </tr>\n",
       "    <tr>\n",
       "      <th>1</th>\n",
       "      <td>containerboard production, fluting medium, rec...</td>\n",
       "      <td>fdffa34a-17fa-3676-9941-0a8a2bc5f5ac</td>\n",
       "      <td>RoW</td>\n",
       "    </tr>\n",
       "    <tr>\n",
       "      <th>2</th>\n",
       "      <td>market for wood chips, dry, measured as dry ma...</td>\n",
       "      <td>35ca5293-f067-326c-ae45-920013c734c7</td>\n",
       "      <td>RER</td>\n",
       "    </tr>\n",
       "    <tr>\n",
       "      <th>3</th>\n",
       "      <td>treatment of waste glass, unsanitary landfill,...</td>\n",
       "      <td>ab082ee7-7469-3a1f-8e8f-f71328b9e842</td>\n",
       "      <td>GLO</td>\n",
       "    </tr>\n",
       "    <tr>\n",
       "      <th>4</th>\n",
       "      <td>heat and power co-generation, natural gas, con...</td>\n",
       "      <td>3c7c0ba3-acd4-3e19-be88-8fff9dc87788</td>\n",
       "      <td>SE</td>\n",
       "    </tr>\n",
       "  </tbody>\n",
       "</table>\n",
       "</div>"
      ],
      "text/plain": [
       "                                                name  \\\n",
       "0  heat production, heavy fuel oil, at industrial...   \n",
       "1  containerboard production, fluting medium, rec...   \n",
       "2  market for wood chips, dry, measured as dry ma...   \n",
       "3  treatment of waste glass, unsanitary landfill,...   \n",
       "4  heat and power co-generation, natural gas, con...   \n",
       "\n",
       "                                     id location  \n",
       "0  4f582f90-d0ae-3552-be43-70c730e82af0      RoW  \n",
       "1  fdffa34a-17fa-3676-9941-0a8a2bc5f5ac      RoW  \n",
       "2  35ca5293-f067-326c-ae45-920013c734c7      RER  \n",
       "3  ab082ee7-7469-3a1f-8e8f-f71328b9e842      GLO  \n",
       "4  3c7c0ba3-acd4-3e19-be88-8fff9dc87788       SE  "
      ]
     },
     "execution_count": 4,
     "metadata": {},
     "output_type": "execute_result"
    }
   ],
   "source": [
    "Processes_df.head()"
   ]
  },
  {
   "cell_type": "code",
   "execution_count": 5,
   "metadata": {
    "code_folding": [
     1,
     116
    ]
   },
   "outputs": [],
   "source": [
    "class LCA_Calculation():\n",
    "    def __init__(self, Processes_df, Impact_method, Result_path, Excel_path='', Process_list_target=''):\n",
    "        self.Processes_df = Processes_df\n",
    "        self.Impact_method = Impact_method\n",
    "        self.Result_path = Result_path\n",
    "        self.Excel_path = Excel_path\n",
    "        self.Process_list_target = Process_list_target\n",
    "\n",
    "        if not os.path.exists(self.Result_path):\n",
    "            os.makedirs(self.Result_path)\n",
    "    \n",
    "    def create_calc_product_system(self, search_process_list, Created_PS_refProcess, cached_path, isSA=False):\n",
    "        product_system_ids = []\n",
    "        product_system_names = []\n",
    "        product_system_locations = []\n",
    "        \n",
    "        orig_json_len = len(Created_PS_refProcess)\n",
    "\n",
    "        for j in range(len(search_process_list)):\n",
    "        # for j in range(2): # for test\n",
    "            # Create product systems for selected processes\n",
    "            search_process_ID = search_process_list[j]['id']\n",
    "            search_process_name = search_process_list[j]['name']\n",
    "            search_process_location = search_process_list[j]['location']\n",
    "            if search_process_ID not in Created_PS_refProcess.keys():\n",
    "                print('Creating product system of: '+search_process_name+' | '+search_process_location)\n",
    "                try:\n",
    "                    product_system = client.create_product_system(search_process_ID, default_providers='prefer', preferred_type='UNIT_PROCESS') #TODO: preferred_type can be changed to \"SYSTEM_PROCESS\" if needed\n",
    "                except Exception as e:\n",
    "                    print('Failed to create product system of '+search_process_ID)\n",
    "                    logging.error(traceback.format_exc())\n",
    "                product_system_ids.append(product_system.id)\n",
    "                product_system_names.append(search_process_name)\n",
    "                product_system_locations.append(search_process_location)\n",
    "                Created_PS_refProcess[search_process_ID] = {'Process': [search_process_name, search_process_location, search_process_ID], 'Product_system': product_system.id}\n",
    "            else:\n",
    "                print('Product system of '+'\"'+Created_PS_refProcess[search_process_ID]['Process'][0]+' | '+Created_PS_refProcess[search_process_ID]['Process'][1]+'\"'+' has been created before.')\n",
    "                print('ID: '+Created_PS_refProcess[search_process_ID]['Product_system'])\n",
    "                product_system_ids.append(Created_PS_refProcess[search_process_ID]['Product_system'])\n",
    "                product_system_names.append(Created_PS_refProcess[search_process_ID]['Process'][0])\n",
    "                product_system_locations.append(Created_PS_refProcess[search_process_ID]['Process'][1])\n",
    "\n",
    "        product_system_df = pd.DataFrame(list(zip(product_system_names, product_system_ids, product_system_locations)), \n",
    "                                columns=['name', 'id', 'location'])\n",
    "        \n",
    "        if len(Created_PS_refProcess) > orig_json_len:\n",
    "            Created_PS_refProcess_file = open(\"Created_PS_refProcess.json\", \"w\")\n",
    "            json.dump(Created_PS_refProcess, Created_PS_refProcess_file)\n",
    "            Created_PS_refProcess_file.close()\n",
    "\n",
    "        setup = olca.CalculationSetup()\n",
    "        setup.calculation_type = olca.CalculationType.SIMPLE_CALCULATION # TODO: Can choose SIMPLE_CALCULATION, CONTRIBUTION_ANALYSIS, UPSTREAM_ANALYSIS, REGIONALIZED_CALCULATION, MONTE_CARLO_SIMULATION\n",
    "        setup.impact_method = client.find(olca.ImpactMethod, self.Impact_method)\n",
    "        setup.amount = 1.0\n",
    "        # amount is the amount of the functional unit (fu) of the system that should be used in the calculation; unit, flow property, etc. of the fu\n",
    "        # can be also defined; by default openLCA will take the settings of the reference flow of the product system\n",
    "\n",
    "        calc_result = {}\n",
    "        result_list_cache = []\n",
    "        field_cache = ['GWP100a', 'location']\n",
    "        result_list = []\n",
    "        for j in range(len(product_system_df)):\n",
    "        # for j in range(2): # for test\n",
    "            key = product_system_names[j]+' | '+product_system_locations[j]+' | '+product_system_ids[j]\n",
    "            print('Calculating '+key)\n",
    "            try:\n",
    "                setup.product_system = client.get(olca.ProductSystem, uid=product_system_ids[j])\n",
    "                calc_result[key] = client.calculate(setup)\n",
    "                # client.excel_export(calc_result, 'calc_result/'+product_system_locations[j]+'_'+'calc_result.xlsx')\n",
    "                result = calc_result[key]\n",
    "                if result.impact_results is not None:\n",
    "                    for k in range(len(result.impact_results)):\n",
    "                        GWP_result = result.impact_results[k]\n",
    "                        if 'GWP 100a' in GWP_result.impact_category.name:\n",
    "                            GWP100a_value = GWP_result.value\n",
    "                    result_list_cache.append([GWP100a_value, product_system_locations[j]])\n",
    "                    result_list.append([GWP100a_value, key])\n",
    "                    with open(cached_path, 'w') as f:\n",
    "                        write = csv.writer(f)\n",
    "                        write.writerow(field_cache)\n",
    "                        write.writerows(result_list_cache)\n",
    "                        print('Results cached.')\n",
    "                else:\n",
    "                    print('No impact results: '+key)\n",
    "            except Exception as e:\n",
    "                print('Failed to calculate product system: '+product_system_ids[j])\n",
    "                logging.error(traceback.format_exc())\n",
    "            print('Remaining number of processes to be calculated: '+str(len(product_system_df)-j-1))\n",
    "\n",
    "        try:\n",
    "            result_df = pd.DataFrame(result_list, columns=['GWP100a', 'key'])\n",
    "            result_df[['Activity', 'Product', 'Cutoff', 'Location', 'ps_id']] = result_df.key.str.split('|', expand=True)\n",
    "            result_df = result_df.drop(columns='key')\n",
    "        except Exception as e:\n",
    "            result_df = ''\n",
    "            print('No results are written in result_df.')\n",
    "            logging.error(traceback.format_exc())\n",
    "\n",
    "        return result_df\n",
    "        \n",
    "    def cal_from_excel(self, Created_PS_refProcess={}):\n",
    "        result_collector = []\n",
    "        if len(self.Excel_path) > 0:\n",
    "            material_df = pd.read_excel(self.Excel_path, header=None)\n",
    "            material_df[['Activity', 'Product', 'Cutoff']] = material_df[0].str.split('|', 2, expand=True)\n",
    "            material_df['Activity'] = material_df['Activity'].str.strip()\n",
    "\n",
    "            for i in range(len(material_df)):\n",
    "            # for i in range(2): # for test\n",
    "                search_process_list = [Processes_df.iloc[p] for p in range(len(self.Processes_df)) if material_df['Activity'][i] in self.Processes_df.iloc[p]['name']] # search for processes with specific name\n",
    "                cached_path = self.Result_path+'/Summary_'+material_df['Activity'][i]+'_cached.csv'\n",
    "                result_df = self.create_calc_product_system(search_process_list, Created_PS_refProcess, cached_path)\n",
    "                if len(result_df) != 0:\n",
    "                    result_df[['GWP100a', 'Location']].to_csv(self.Result_path+'/Summary_'+material_df['Activity'][i]+'.csv', index=None)\n",
    "                else:\n",
    "                    print('No results are written in result_df. Check log in output.')\n",
    "                result_collector.append(result_df)\n",
    "            return Created_PS_refProcess, result_collector\n",
    "        else:\n",
    "            print('Warning: Excel path is not valid.')\n",
    "            return Created_PS_refProcess, result_collector\n",
    "\n",
    "    def cal_from_list(self, Created_PS_refProcess={}):\n",
    "        result_collector = []\n",
    "        if len(self.Process_list_target) > 0:\n",
    "            for i in range(len(self.Process_list_target['include'])):\n",
    "                if self.Process_list_target['not_include'][i] == '':\n",
    "                    search_process_list = [Processes_df.iloc[p] for p in range(len(self.Processes_df)) if self.Process_list_target['include'][i] in self.Processes_df.iloc[p]['name']] # search for processes with specific name\n",
    "                else:\n",
    "                    search_process_list = [Processes_df.iloc[p] for p in range(len(self.Processes_df)) if self.Process_list_target['include'][i] in self.Processes_df.iloc[p]['name'] and not self.Process_list_target['not_include'][i] in self.Processes_df.iloc[p]['name']] # search for processes with specific name\n",
    "                cached_path = self.Result_path+'/Summary_'+self.Process_list_target['include'][i]+'_cached.csv'\n",
    "                result_df = self.create_calc_product_system(search_process_list, Created_PS_refProcess, cached_path)\n",
    "                if len(result_df) != 0:\n",
    "                    result_df[['GWP100a', 'Location']].to_csv(self.Result_path+'/Summary_'+self.Process_list_target['include'][i]+'.csv', index=None)\n",
    "                else:\n",
    "                    print('No results are written in result_df. Check log in output.')\n",
    "                result_collector.append(result_df)\n",
    "            return Created_PS_refProcess, result_collector\n",
    "        else:\n",
    "            print('Warning: Process list input is not valid.')\n",
    "            return Created_PS_refProcess, result_collector"
   ]
  },
  {
   "cell_type": "code",
   "execution_count": 6,
   "metadata": {},
   "outputs": [],
   "source": [
    "Impact_method = 'IPCC 2013 no LT' # TODO: change impact method as you need\n",
    "Today = date.today().strftime(\"%d_%b_%Y\") # day, month, year\n",
    "Result_path = Today+'_GWP_100a' # TODO: change result path as you need\n",
    "\n",
    "# Excel_path = ''\n",
    "Excel_path = 'List_of_Materials_ecoinvent.xlsx' # optional, \n",
    "# TODO: if no Excel would be input, Excel_path = '', \n",
    "# otherwise, change Excel name (relative path, put the excel file under the same directory as this notebook)\n",
    "\n",
    "# Process_list_target = ''\n",
    "Process_list_target = {\n",
    "    'include': ['electricity, high voltage, production mix'], # key words you want to include\n",
    "    'not_include': [''] # key words you do not want to include\n",
    "} # optional, \n",
    "# TODO: if no list would be input, Process_list_target = ''\n",
    "# if you want to search different activities, put your keywords accordingly in the second, third, ... position \n",
    "# in the list and remember to include an empty element '' when there's no 'not_include' keyword.\n",
    "\n",
    "Created_PS_refProcess = json.load(open(\"Created_PS_refProcess.json\", \"r\")) \n",
    "# The read json file stores the processes that are calculated and their attached product system.\n",
    "# So this file should be varied from machine to machine. If there're no product systems created before in \n",
    "# your OpenLCA database, the json file should contain an empty dictionary.\n",
    "\n",
    "instance1 = LCA_Calculation(Processes_df, Impact_method, Result_path, Excel_path=Excel_path, Process_list_target=Process_list_target)\n",
    "\n",
    "# Created_PS_refProcess, result_collector = instance1.cal_from_excel(Created_PS_refProcess=Created_PS_refProcess) \n",
    "# Created_PS_refProcess, result_collector = instance1.cal_from_list(Created_PS_refProcess=Created_PS_refProcess) \n",
    "\n",
    "# TODO: if you see `ERROR 500`, Failed to call method public org.openlca.ipc.RpcResponse org.openlca.ipc.handlers.Calculator.calculate(org.openlca.ipc.RpcRequest)`,\n",
    "# try to increase max. memory usage in OpenLCA then restart OpenLCA and Jupyter kernel."
   ]
  },
  {
   "cell_type": "code",
   "execution_count": 22,
   "metadata": {},
   "outputs": [
    {
     "data": {
      "text/plain": [
       "dict_keys(['ab'])"
      ]
     },
     "execution_count": 22,
     "metadata": {},
     "output_type": "execute_result"
    }
   ],
   "source": [
    "test_dict = {'a':{'ab': 1234}, 'b':{'ba': 2345}}\n",
    "test_dict['a'].keys()"
   ]
  },
  {
   "cell_type": "code",
   "execution_count": 55,
   "metadata": {},
   "outputs": [
    {
     "name": "stdout",
     "output_type": "stream",
     "text": [
      "input flow: market for oil storage, 3000l | oil storage, 3000l | Cutoff, U\n",
      "initial amount:3.89863157894737e-08\n",
      "new amount: 1.949315789473685e-08\n",
      "Creating new product system...\n",
      "Calculating...\n",
      "Results cached.\n",
      "input amount recovered to initial value.\n",
      "Remaining number of SA variations: 6\n",
      "new amount: 2.3391789473684218e-08\n",
      "Creating new product system...\n",
      "Calculating...\n",
      "Results cached.\n",
      "input amount recovered to initial value.\n",
      "Remaining number of SA variations: 5\n",
      "Remaining number of input flows to be varied: 14\n",
      "input flow: market for electricity, low voltage | electricity, low voltage | Cutoff, U\n",
      "initial amount:2.09125441243551e-06\n",
      "new amount: 1.045627206217755e-06\n",
      "Creating new product system...\n",
      "Calculating...\n"
     ]
    },
    {
     "ename": "KeyboardInterrupt",
     "evalue": "",
     "output_type": "error",
     "traceback": [
      "\u001b[0;31m---------------------------------------------------------------------------\u001b[0m",
      "\u001b[0;31mKeyboardInterrupt\u001b[0m                         Traceback (most recent call last)",
      "\u001b[0;32m/var/folders/pk/3tmwrq6541738k97y1cxd07w0000gn/T/ipykernel_23525/3913751395.py\u001b[0m in \u001b[0;36m<module>\u001b[0;34m\u001b[0m\n\u001b[1;32m     77\u001b[0m                     \u001b[0mprint\u001b[0m\u001b[0;34m(\u001b[0m\u001b[0;34m'Calculating...'\u001b[0m\u001b[0;34m)\u001b[0m\u001b[0;34m\u001b[0m\u001b[0;34m\u001b[0m\u001b[0m\n\u001b[1;32m     78\u001b[0m                     \u001b[0msetup\u001b[0m\u001b[0;34m.\u001b[0m\u001b[0mproduct_system\u001b[0m \u001b[0;34m=\u001b[0m \u001b[0mclient\u001b[0m\u001b[0;34m.\u001b[0m\u001b[0mget\u001b[0m\u001b[0;34m(\u001b[0m\u001b[0molca\u001b[0m\u001b[0;34m.\u001b[0m\u001b[0mProductSystem\u001b[0m\u001b[0;34m,\u001b[0m \u001b[0muid\u001b[0m\u001b[0;34m=\u001b[0m\u001b[0mproduct_system\u001b[0m\u001b[0;34m.\u001b[0m\u001b[0mid\u001b[0m\u001b[0;34m)\u001b[0m\u001b[0;34m\u001b[0m\u001b[0;34m\u001b[0m\u001b[0m\n\u001b[0;32m---> 79\u001b[0;31m                     \u001b[0mresult\u001b[0m \u001b[0;34m=\u001b[0m \u001b[0mclient\u001b[0m\u001b[0;34m.\u001b[0m\u001b[0mcalculate\u001b[0m\u001b[0;34m(\u001b[0m\u001b[0msetup\u001b[0m\u001b[0;34m)\u001b[0m\u001b[0;34m\u001b[0m\u001b[0;34m\u001b[0m\u001b[0m\n\u001b[0m\u001b[1;32m     80\u001b[0m                     \u001b[0;31m# client.excel_export(calc_result, 'calc_result/'+product_system_locations[j]+'_'+'calc_result.xlsx')\u001b[0m\u001b[0;34m\u001b[0m\u001b[0;34m\u001b[0m\u001b[0m\n\u001b[1;32m     81\u001b[0m                     \u001b[0;32mif\u001b[0m \u001b[0mresult\u001b[0m\u001b[0;34m.\u001b[0m\u001b[0mimpact_results\u001b[0m \u001b[0;32mis\u001b[0m \u001b[0;32mnot\u001b[0m \u001b[0;32mNone\u001b[0m\u001b[0;34m:\u001b[0m\u001b[0;34m\u001b[0m\u001b[0;34m\u001b[0m\u001b[0m\n",
      "\u001b[0;32m~/opt/miniconda3/envs/suscons/lib/python3.9/site-packages/olca/ipc.py\u001b[0m in \u001b[0;36mcalculate\u001b[0;34m(self, setup)\u001b[0m\n\u001b[1;32m    264\u001b[0m         \u001b[0;31m`\u001b[0m\u001b[0;31m`\u001b[0m\u001b[0;31m`\u001b[0m\u001b[0;34m\u001b[0m\u001b[0;34m\u001b[0m\u001b[0m\n\u001b[1;32m    265\u001b[0m         \"\"\"\n\u001b[0;32m--> 266\u001b[0;31m         \u001b[0mresp\u001b[0m\u001b[0;34m,\u001b[0m \u001b[0merr\u001b[0m \u001b[0;34m=\u001b[0m \u001b[0mself\u001b[0m\u001b[0;34m.\u001b[0m\u001b[0m__post\u001b[0m\u001b[0;34m(\u001b[0m\u001b[0;34m'calculate'\u001b[0m\u001b[0;34m,\u001b[0m \u001b[0msetup\u001b[0m\u001b[0;34m.\u001b[0m\u001b[0mto_json\u001b[0m\u001b[0;34m(\u001b[0m\u001b[0;34m)\u001b[0m\u001b[0;34m)\u001b[0m\u001b[0;34m\u001b[0m\u001b[0;34m\u001b[0m\u001b[0m\n\u001b[0m\u001b[1;32m    267\u001b[0m         \u001b[0;32mif\u001b[0m \u001b[0merr\u001b[0m\u001b[0;34m:\u001b[0m\u001b[0;34m\u001b[0m\u001b[0;34m\u001b[0m\u001b[0m\n\u001b[1;32m    268\u001b[0m             \u001b[0mlog\u001b[0m\u001b[0;34m.\u001b[0m\u001b[0merror\u001b[0m\u001b[0;34m(\u001b[0m\u001b[0;34m'calculation failed: %s'\u001b[0m\u001b[0;34m,\u001b[0m \u001b[0merr\u001b[0m\u001b[0;34m)\u001b[0m\u001b[0;34m\u001b[0m\u001b[0;34m\u001b[0m\u001b[0m\n",
      "\u001b[0;31mKeyboardInterrupt\u001b[0m: "
     ]
    }
   ],
   "source": [
    "isSA = True\n",
    "SA_dict = {}\n",
    "field_cache = ['GWP100a', 'InputFlow', 'Amount', 'InitialValue', 'ProcessLocation', 'ProcessName']\n",
    "search_process_list = [Processes_df[Processes_df['id']=='4f582f90-d0ae-3552-be43-70c730e82af0'].iloc[0]]\n",
    "Impact_method = 'IPCC 2013 no LT'\n",
    "setup = olca.CalculationSetup()\n",
    "setup.calculation_type = olca.CalculationType.SIMPLE_CALCULATION # TODO: Can choose SIMPLE_CALCULATION, CONTRIBUTION_ANALYSIS, UPSTREAM_ANALYSIS, REGIONALIZED_CALCULATION, MONTE_CARLO_SIMULATION\n",
    "setup.impact_method = client.find(olca.ImpactMethod, Impact_method)\n",
    "setup.amount = 1.0\n",
    "\n",
    "try:\n",
    "    SA_dict = json.load(open(\"SA_record.json\", \"r\"))\n",
    "except FileNotFoundError as e:\n",
    "    json.dump(SA_dict, open(\"SA_record.json\", \"w\"))\n",
    "\n",
    "if isSA == True:\n",
    "    for i in range(len(search_process_list)):\n",
    "        result_list_cache = []\n",
    "        search_process_ID = search_process_list[i]['id']\n",
    "        search_process_name = search_process_list[i]['name']\n",
    "        cached_path = search_process_name.split(' | ')[0]+'_cached_test.csv'\n",
    "        \n",
    "        search_process_location = search_process_list[i]['location']\n",
    "        process_key = search_process_location + '|' + search_process_name\n",
    "        if process_key not in SA_dict.keys():\n",
    "            SA_dict[process_key] = {}\n",
    "        \n",
    "        test_process = client.get(olca.Process, uid=search_process_ID)\n",
    "        test_input = [exchange for exchange in test_process.exchanges if exchange.input == True]\n",
    "        # for j in range(len(test_input)):\n",
    "        for j in range(2): # for test\n",
    "            initial_value = copy.deepcopy(test_input[j].amount)\n",
    "            start_point = 0.5\n",
    "            end_point = 1.1\n",
    "            step_size = 0.1\n",
    "            test_amount_range = test_input[j].amount*np.arange(start_point, end_point, step_size)\n",
    "            SArange_key = test_input[j].default_provider.name+' | '+test_input[j].default_provider.location+' | '+str(start_point)+' | '+str(end_point)+' | '+str(step_size)\n",
    "            if SArange_key not in SA_dict[process_key].keys():\n",
    "                SA_dict[process_key][SArange_key] = {}\n",
    "                \n",
    "            print('input flow: '+test_input[j].default_provider.name+test_input[j].default_provider.location)\n",
    "            print('initial amount:' + str(initial_value))\n",
    "            # for k in range(len(test_amount_range)):\n",
    "            for k in range(2): # for test\n",
    "                test_input[j].amount = test_amount_range[k]\n",
    "                print('new amount: '+str(test_amount_range[k]))\n",
    "                client.update(test_process)\n",
    "                if len(SA_dict[process_key][SArange_key]) != len(test_amount_range):\n",
    "                    try:\n",
    "                        print('Creating new product system...')\n",
    "                        product_system = client.create_product_system(search_process_ID, default_providers='prefer', preferred_type='UNIT_PROCESS') #TODO: preferred_type can be changed to \"SYSTEM_PROCESS\" if needed\n",
    "                        SA_dict[process_key][SArange_key][test_amount_range[k]] = product_system.id\n",
    "                        product_system_id = product_system.id\n",
    "                    except Exception as e:\n",
    "                        print('Failed to create product system of '+search_process_ID)\n",
    "                        logging.error(traceback.format_exc())\n",
    "                        SA_dict[process_key][SArange_key] = {}\n",
    "                        try:\n",
    "                            print('Re-Creating new product system...')\n",
    "                            product_system = client.create_product_system(search_process_ID, default_providers='prefer', preferred_type='UNIT_PROCESS') #TODO: preferred_type can be changed to \"SYSTEM_PROCESS\" if needed\n",
    "                            SA_dict[process_key][SArange_key][test_amount_range[k]] = product_system.id\n",
    "                            product_system_id = product_system.id\n",
    "                        except Exception as e:\n",
    "                            print('Failed to create product system of '+search_process_ID)\n",
    "                            logging.error(traceback.format_exc())\n",
    "                            \n",
    "                    SA_file = open(\"SA_record.json\", \"w\")\n",
    "                    json.dump(SA_dict, SA_file)\n",
    "                    SA_file.close()\n",
    "                        \n",
    "                    \n",
    "                else:\n",
    "                    print('Product systems have been created for this process and this range.')\n",
    "                    product_system_id = SA_dict[process_key][SArange_key][test_amount_range[k]]\n",
    "                \n",
    "                try:\n",
    "                    print('Calculating...')\n",
    "                    setup.product_system = client.get(olca.ProductSystem, uid=product_system.id)\n",
    "                    result = client.calculate(setup)\n",
    "                    # client.excel_export(calc_result, 'calc_result/'+product_system_locations[j]+'_'+'calc_result.xlsx')\n",
    "                    if result.impact_results is not None:\n",
    "                        for m in range(len(result.impact_results)):\n",
    "                            GWP_result = result.impact_results[m]\n",
    "                            if 'GWP 100a' in GWP_result.impact_category.name:\n",
    "                                GWP100a_value = GWP_result.value\n",
    "                        result_list_cache.append([GWP100a_value, test_input[j].default_provider.name, test_amount_range[k], initial_value, search_process_location, search_process_name])\n",
    "                        # result_list.append([GWP100a_value, key])\n",
    "                        with open(cached_path, 'w') as f:\n",
    "                            write = csv.writer(f)\n",
    "                            write.writerow(field_cache)\n",
    "                            write.writerows(result_list_cache)\n",
    "                            print('Results cached.')\n",
    "                    else:\n",
    "                        print('No impact results: '+key)\n",
    "                except Exception as e:\n",
    "                    print('Failed to calculate product system: '+product_system.id)\n",
    "                    logging.error(traceback.format_exc())\n",
    "                    \n",
    "                test_input[j].amount = initial_value\n",
    "                client.update(test_process)\n",
    "                print('input amount recovered to initial value.')\n",
    "                \n",
    "                print('Remaining number of SA variations: '+str(len(test_amount_range)-k-1))\n",
    "            \n",
    "            print('Remaining number of input flows to be varied: '+str(len(test_input)-j-1))"
   ]
  },
  {
   "cell_type": "code",
   "execution_count": 16,
   "metadata": {},
   "outputs": [
    {
     "data": {
      "text/plain": [
       "name        heat production, heavy fuel oil, at industrial...\n",
       "id                       4f582f90-d0ae-3552-be43-70c730e82af0\n",
       "location                                                  RoW\n",
       "Name: 0, dtype: object"
      ]
     },
     "execution_count": 16,
     "metadata": {},
     "output_type": "execute_result"
    }
   ],
   "source": [
    "Processes_df.iloc[0]"
   ]
  },
  {
   "cell_type": "code",
   "execution_count": 51,
   "metadata": {},
   "outputs": [
    {
     "data": {
      "text/plain": [
       "'heat production, heavy fuel oil, at industrial furnace 1MW'"
      ]
     },
     "execution_count": 51,
     "metadata": {},
     "output_type": "execute_result"
    }
   ],
   "source": [
    "Processes_df[Processes_df['id']=='4f582f90-d0ae-3552-be43-70c730e82af0'].iloc[0]['name'].split(' | ')[0]"
   ]
  },
  {
   "cell_type": "code",
   "execution_count": 67,
   "metadata": {},
   "outputs": [],
   "source": [
    "test_process = client.get(olca.Process, uid='4f582f90-d0ae-3552-be43-70c730e82af0')"
   ]
  },
  {
   "cell_type": "code",
   "execution_count": 9,
   "metadata": {},
   "outputs": [],
   "source": [
    "test_exchange = test_process.exchanges[0]"
   ]
  },
  {
   "cell_type": "code",
   "execution_count": 68,
   "metadata": {},
   "outputs": [],
   "source": [
    "test_input = [exchange for exchange in test_process.exchanges if exchange.input == True]"
   ]
  },
  {
   "cell_type": "code",
   "execution_count": 63,
   "metadata": {},
   "outputs": [
    {
     "data": {
      "text/plain": [
       "'ok'"
      ]
     },
     "execution_count": 63,
     "metadata": {},
     "output_type": "execute_result"
    }
   ],
   "source": [
    "test_input[2].amount = 2.09125441243551e-06\n",
    "client.update(test_process)"
   ]
  },
  {
   "cell_type": "code",
   "execution_count": 49,
   "metadata": {},
   "outputs": [
    {
     "data": {
      "text/plain": [
       "'ok'"
      ]
     },
     "execution_count": 49,
     "metadata": {},
     "output_type": "execute_result"
    }
   ],
   "source": [
    "initial_value = copy.deepcopy(test_input[0].amount)\n",
    "test_amount_range = test_input[0].amount*np.arange(0.5, 1.55, 0.05)"
   ]
  },
  {
   "cell_type": "code",
   "execution_count": 71,
   "metadata": {},
   "outputs": [
    {
     "name": "stdout",
     "output_type": "stream",
     "text": [
      "GLO\n",
      "CO\n",
      "ZA\n",
      "RAF\n",
      "GLO\n",
      "NZ\n",
      "US\n",
      "PE\n",
      "RAS\n",
      "GLO\n",
      "BR\n",
      "RLA\n",
      "IN\n",
      "AU\n",
      "Canada without Quebec\n"
     ]
    }
   ],
   "source": [
    "for input in test_input:\n",
    "    print(input.default_provider.location)"
   ]
  },
  {
   "cell_type": "code",
   "execution_count": null,
   "metadata": {},
   "outputs": [],
   "source": [
    "print('input flow: '+test_input[0].default_provider.name)\n",
    "print('initial amount:' + str(initial_value))\n",
    "for i in range(len(test_amount_range)):\n",
    "    test_input[0].amount = test_amount_range[i]\n",
    "    print('new amount: '+str(test_amount_range[i]))\n",
    "    \n",
    "    "
   ]
  },
  {
   "cell_type": "code",
   "execution_count": 7,
   "metadata": {},
   "outputs": [
    {
     "data": {
      "text/plain": [
       "1.0"
      ]
     },
     "execution_count": 7,
     "metadata": {},
     "output_type": "execute_result"
    }
   ],
   "source": [
    "test_exchange.amount"
   ]
  },
  {
   "cell_type": "code",
   "execution_count": null,
   "metadata": {},
   "outputs": [],
   "source": [
    "test_amount = []"
   ]
  },
  {
   "cell_type": "code",
   "execution_count": null,
   "metadata": {},
   "outputs": [],
   "source": [
    "test_amount.append(test_exchange.amount)"
   ]
  },
  {
   "cell_type": "code",
   "execution_count": null,
   "metadata": {},
   "outputs": [],
   "source": [
    "test_exchange.amount = 0.5"
   ]
  },
  {
   "cell_type": "code",
   "execution_count": null,
   "metadata": {},
   "outputs": [],
   "source": [
    "test_amount.append(test_exchange.amount)"
   ]
  },
  {
   "cell_type": "code",
   "execution_count": null,
   "metadata": {},
   "outputs": [],
   "source": [
    "test_process"
   ]
  }
 ],
 "metadata": {
  "interpreter": {
   "hash": "35e6b958be813515be18ceffa6a3de8dd486f229a9d767053d882fcecf37648f"
  },
  "kernelspec": {
   "display_name": "Python 3 (ipykernel)",
   "language": "python",
   "name": "python3"
  },
  "language_info": {
   "codemirror_mode": {
    "name": "ipython",
    "version": 3
   },
   "file_extension": ".py",
   "mimetype": "text/x-python",
   "name": "python",
   "nbconvert_exporter": "python",
   "pygments_lexer": "ipython3",
   "version": "3.9.7"
  }
 },
 "nbformat": 4,
 "nbformat_minor": 2
}
