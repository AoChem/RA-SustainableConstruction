{
 "cells": [
  {
   "cell_type": "markdown",
   "metadata": {},
   "source": [
    "Author: Ao Chen, 26-12-2021, Sion."
   ]
  },
  {
   "cell_type": "code",
   "execution_count": 1,
   "metadata": {},
   "outputs": [],
   "source": [
    "import numpy as np\n",
    "import pandas as pd\n",
    "import xlwings as xw"
   ]
  },
  {
   "cell_type": "code",
   "execution_count": 2,
   "metadata": {},
   "outputs": [],
   "source": [
    "xlsx_output = 1 #TODO: 1-output to xlsx file, 0-no output\n",
    "json_output = 0 #TODO: same as above\n",
    "# sql_output  = 1 #specific sql engine should be defined \n",
    "filename_xlsx = '22122021CSC_Materials_DB.xlsx' #TODO: to be changed for different files\n",
    "filename_json = '22122021CSC_Materials_DB.json' #TODO: same as above\n",
    "# filename_sql  = '22122021CSC_Materials_DB.sql'"
   ]
  },
  {
   "cell_type": "code",
   "execution_count": 3,
   "metadata": {},
   "outputs": [],
   "source": [
    "materials_db = pd.ExcelFile(filename_xlsx)\n",
    "country_df = materials_db.parse('Country-list')\n",
    "materials_df = materials_db.parse('Materials')"
   ]
  },
  {
   "cell_type": "code",
   "execution_count": 4,
   "metadata": {},
   "outputs": [],
   "source": [
    "Country = country_df['Country']\n",
    "Material = materials_df['Material']\n",
    "Abbreviation = np.empty(len(materials_df), dtype=object)\n",
    "Index = pd.MultiIndex.from_product([Country, Material], names=['Country', 'Material'])"
   ]
  },
  {
   "cell_type": "code",
   "execution_count": 5,
   "metadata": {},
   "outputs": [
    {
     "data": {
      "text/plain": [
       "array(['Adb', 'Brk', 'CCB', 'Cmt', 'CP', 'CT', 'EP', 'FF', 'Gls', 'GW',\n",
       "       'Grvl', 'HW', 'LT', 'NSP', 'PB', 'PW', 'PC', 'EPS', 'PUR', 'RS',\n",
       "       'RW', 'Sd', 'SW', 'SS', 'SSt', 'SB', 'Trz', 'WDG'], dtype=object)"
      ]
     },
     "execution_count": 5,
     "metadata": {},
     "output_type": "execute_result"
    }
   ],
   "source": [
    "for i in range(len(materials_df)):\n",
    "    if Material[i] == 'Adobe':\n",
    "        Abbreviation[i] = 'Adb'\n",
    "    if Material[i] == 'Brick':\n",
    "        Abbreviation[i] = 'Brk'\n",
    "    if Material[i] == 'Cellular Concrete Blocks':\n",
    "        Abbreviation[i] = 'CCB'\n",
    "    if Material[i] == 'Cement':\n",
    "        Abbreviation[i] = 'Cmt'\n",
    "    if Material[i] == 'Clay plaster':\n",
    "        Abbreviation[i] = 'CP'\n",
    "    if Material[i] == 'Concrete Tile':\n",
    "        Abbreviation[i] = 'CT'\n",
    "    if Material[i] == 'Extruded polystyrene (XPS)':\n",
    "        Abbreviation[i] = 'EP'\n",
    "    if Material[i] == 'flax fibers':\n",
    "        Abbreviation[i] = 'FF'\n",
    "    if Material[i] == 'Glass':\n",
    "        Abbreviation[i] = 'Gls'\n",
    "    if Material[i] == 'glass wool':\n",
    "        Abbreviation[i] = 'GW'\n",
    "    if Material[i] == 'Gravel':\n",
    "        Abbreviation[i] = 'Grvl'\n",
    "    if Material[i] == 'Hardwood':\n",
    "        Abbreviation[i] = 'HW'\n",
    "    if Material[i] == 'Laminated Timber':\n",
    "        Abbreviation[i] = 'LT'\n",
    "    if Material[i] == 'Natural stone plate':\n",
    "        Abbreviation[i] = 'NSP'\n",
    "    if Material[i] == 'Plasterboard':\n",
    "        Abbreviation[i] = 'PB'\n",
    "    if Material[i] == 'Plywood':\n",
    "        Abbreviation[i] = 'PW'\n",
    "    if Material[i] == 'Polycarbonate (PC)':\n",
    "        Abbreviation[i] = 'PC'\n",
    "    if Material[i] == 'Polystyrene expanded (EPS)':\n",
    "        Abbreviation[i] = 'EPS'\n",
    "    if Material[i] == 'Polyurethane (PUR / PIR)':\n",
    "        Abbreviation[i] = 'PUR'\n",
    "    if Material[i] == 'Reinforcing steel':\n",
    "        Abbreviation[i] = 'RS'\n",
    "    if Material[i] == 'Rock wool':\n",
    "        Abbreviation[i] = 'RW'\n",
    "    if Material[i] == 'Sand':\n",
    "        Abbreviation[i] = 'Sd'\n",
    "    if Material[i] == 'Softwood':\n",
    "        Abbreviation[i] = 'SW'\n",
    "    if Material[i] == 'Steel section':\n",
    "        Abbreviation[i] = 'SS'\n",
    "    if Material[i] == 'Steel sheet':\n",
    "        Abbreviation[i] = 'SSt'\n",
    "    if Material[i] == 'Stone blocks':\n",
    "        Abbreviation[i] = 'SB'\n",
    "    if Material[i] == 'Terrazzo':\n",
    "        Abbreviation[i] = 'Trz'\n",
    "    if Material[i] == 'Window, double glazing':\n",
    "        Abbreviation[i] = 'WDG'\n",
    "Abbreviation"
   ]
  },
  {
   "cell_type": "code",
   "execution_count": 7,
   "metadata": {},
   "outputs": [],
   "source": [
    "kgCO2eq_kWh = country_df['1 kWh Medium voltage (kg CO2-Eq)']\n",
    "energy_material = materials_df['Energy']\n",
    "CO2eq = materials_df['CO2eq']\n",
    "kgCO2eq = np.empty(len(Index)) # Initialization\n",
    "ISO2_CC = np.empty(len(Index), dtype=object)\n",
    "ISO3_CC = np.empty(len(Index), dtype=object)\n",
    "Unit    = np.empty(len(Index), dtype=object)\n",
    "Identifier = np.empty(len(Index), dtype=object)"
   ]
  },
  {
   "cell_type": "code",
   "execution_count": 8,
   "metadata": {},
   "outputs": [],
   "source": [
    "for i in range(len(country_df)):\n",
    "    for j in range(len(materials_df)):\n",
    "        kgCO2eq[i*len(materials_df)+j] = kgCO2eq_kWh[i]*energy_material[j]+CO2eq[j]\n",
    "        ISO2_CC[i*len(materials_df)+j] = country_df['ISO2_CC'][i]\n",
    "        ISO3_CC[i*len(materials_df)+j] = country_df['ISO3_CC'][i]\n",
    "        Unit[i*len(materials_df)+j]    = materials_df['Unit'][j]\n",
    "        if type(country_df['ISO2_CC'][i]) == str:\n",
    "            Identifier[i*len(materials_df)+j] = country_df['ISO2_CC'][i]+'_'+Abbreviation[j]\n",
    "        else:\n",
    "            Identifier[i*len(materials_df)+j] = country_df['Country'][i]+'_'+Abbreviation[j]\n"
   ]
  },
  {
   "cell_type": "code",
   "execution_count": 9,
   "metadata": {},
   "outputs": [],
   "source": [
    "Info = {'ISO2_CC': ISO2_CC, 'ISO3_CC': ISO3_CC, 'kgCO2eq': kgCO2eq, 'Unit': Unit, 'Identifier': Identifier}\n",
    "materialsDB_df = pd.DataFrame(data=Info)\n",
    "materialsDB_df = materialsDB_df.set_index(Index)"
   ]
  },
  {
   "cell_type": "code",
   "execution_count": 10,
   "metadata": {},
   "outputs": [],
   "source": [
    "if xlsx_output == 1:\n",
    "    with pd.ExcelWriter(filename_xlsx, mode='a', if_sheet_exists='replace') as writer:\n",
    "        materialsDB_df.to_excel(writer, sheet_name='Materials-DB')\n",
    "        materials_df.to_excel(writer, sheet_name='Materials-Abbreviation')"
   ]
  },
  {
   "cell_type": "code",
   "execution_count": 11,
   "metadata": {},
   "outputs": [],
   "source": [
    "if json_output == 1:\n",
    "    materialsDB_df.to_json(filename_json, orient=\"table\")"
   ]
  }
 ],
 "metadata": {
  "interpreter": {
   "hash": "35e6b958be813515be18ceffa6a3de8dd486f229a9d767053d882fcecf37648f"
  },
  "kernelspec": {
   "display_name": "Python 3.9.7 64-bit ('suscons': conda)",
   "name": "python3"
  },
  "language_info": {
   "codemirror_mode": {
    "name": "ipython",
    "version": 3
   },
   "file_extension": ".py",
   "mimetype": "text/x-python",
   "name": "python",
   "nbconvert_exporter": "python",
   "pygments_lexer": "ipython3",
   "version": "3.9.7"
  },
  "orig_nbformat": 4
 },
 "nbformat": 4,
 "nbformat_minor": 2
}
