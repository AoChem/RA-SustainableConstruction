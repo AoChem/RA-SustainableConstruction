{
 "cells": [
  {
   "cell_type": "markdown",
   "metadata": {},
   "source": [
    "Author: Ao Chen, 26-12-2021, Sion."
   ]
  },
  {
   "cell_type": "code",
   "execution_count": 35,
   "metadata": {},
   "outputs": [],
   "source": [
    "import numpy as np\n",
    "import pandas as pd\n",
    "import xlwings as xw"
   ]
  },
  {
   "cell_type": "code",
   "execution_count": 36,
   "metadata": {},
   "outputs": [],
   "source": [
    "xlsx_output = 1\n",
    "json_output = 1\n",
    "# sql_output  = 1 #specific sql engine should be defined \n",
    "filename_xlsx = '22122021CSC_Materials_DB.xlsx' #to be changed for different files\n",
    "filename_json = '22122021CSC_Materials_DB.json' #same as above\n",
    "# filename_sql  = '22122021CSC_Materials_DB.sql'"
   ]
  },
  {
   "cell_type": "code",
   "execution_count": 37,
   "metadata": {},
   "outputs": [],
   "source": [
    "materials_db = pd.ExcelFile(filename_xlsx)\n",
    "country_df = materials_db.parse('Country-list')\n",
    "materials_df = materials_db.parse('Materials')"
   ]
  },
  {
   "cell_type": "code",
   "execution_count": 38,
   "metadata": {},
   "outputs": [],
   "source": [
    "Country = country_df['Country']\n",
    "Material = materials_df['Material']\n",
    "Index = pd.MultiIndex.from_product([Country, Material], names=['Country', 'Material'])"
   ]
  },
  {
   "cell_type": "code",
   "execution_count": 39,
   "metadata": {},
   "outputs": [],
   "source": [
    "kgCO2eq_kWh = country_df['1 kWh Medium voltage (kg CO2-Eq)']\n",
    "energy_material = materials_df['Energy']\n",
    "CO2eq = materials_df['CO2eq']\n",
    "kgCO2eq = np.empty(len(Index)) # Initialization\n",
    "ISO2_CC = np.empty(len(Index), dtype=object)\n",
    "ISO3_CC = np.empty(len(Index), dtype=object)\n",
    "Unit    = np.empty(len(Index), dtype=object)"
   ]
  },
  {
   "cell_type": "code",
   "execution_count": 41,
   "metadata": {},
   "outputs": [],
   "source": [
    "for i in range(len(country_df)):\n",
    "    for j in range(len(materials_df)):\n",
    "        kgCO2eq[i*len(materials_df)+j] = kgCO2eq_kWh[i]*energy_material[j]+CO2eq[j]\n",
    "        ISO2_CC[i*len(materials_df)+j] = country_df['ISO2_CC'][i]\n",
    "        ISO3_CC[i*len(materials_df)+j] = country_df['ISO3_CC'][i]\n",
    "        Unit[i*len(materials_df)+j]    = materials_df['Unit'][j]\n"
   ]
  },
  {
   "cell_type": "code",
   "execution_count": 42,
   "metadata": {},
   "outputs": [],
   "source": [
    "Info = {'ISO2_CC': ISO2_CC, 'ISO3_CC': ISO3_CC, 'kgCO2eq': kgCO2eq, 'Unit': Unit,}\n",
    "materialsDB_df = pd.DataFrame(data=Info)\n",
    "materialsDB_df = materialsDB_df.set_index(Index)"
   ]
  },
  {
   "cell_type": "code",
   "execution_count": 48,
   "metadata": {},
   "outputs": [],
   "source": [
    "if xlsx_output == 1:\n",
    "    with pd.ExcelWriter(filename_xlsx, mode='a', if_sheet_exists='replace') as writer:\n",
    "        materialsDB_df.to_excel(writer, sheet_name='Materials-DB')"
   ]
  },
  {
   "cell_type": "code",
   "execution_count": 57,
   "metadata": {},
   "outputs": [],
   "source": [
    "if json_output == 1:\n",
    "    materialsDB_df.to_json(filename_json, orient=\"table\")"
   ]
  }
 ],
 "metadata": {
  "interpreter": {
   "hash": "35e6b958be813515be18ceffa6a3de8dd486f229a9d767053d882fcecf37648f"
  },
  "kernelspec": {
   "display_name": "Python 3.9.7 64-bit ('suscons': conda)",
   "name": "python3"
  },
  "language_info": {
   "codemirror_mode": {
    "name": "ipython",
    "version": 3
   },
   "file_extension": ".py",
   "mimetype": "text/x-python",
   "name": "python",
   "nbconvert_exporter": "python",
   "pygments_lexer": "ipython3",
   "version": "3.9.7"
  },
  "orig_nbformat": 4
 },
 "nbformat": 4,
 "nbformat_minor": 2
}
