{
 "cells": [
  {
   "cell_type": "code",
   "execution_count": null,
   "metadata": {},
   "outputs": [],
   "source": [
    "\"\"\"\n",
    "This script is used to generate all possible combination of Options \n",
    "and store the results in separate Excel files.\n",
    "Files are named by the combination of `OPT` inside `Options` sheet.\n",
    "For example, \n",
    "\"1_1_1_1_1_1_1_1_1_1_1.xlsx\" represents\n",
    "['Massivbauweise', 'Mit UG', 'Beheizt', 'Mit abgehängte Installationsdecke', 'Mit abgehängte Installationsdecke', 'Bodenbelag mit Parkett', 'Bodenbelag mit Parkett', 'Mit Dämmung', 'Betonwand', 'Flachdach', 'Ja']\n",
    "\n",
    "Author: Ao Chen. Place: Zweistein.\n",
    "\"\"\""
   ]
  },
  {
   "cell_type": "code",
   "execution_count": null,
   "metadata": {},
   "outputs": [],
   "source": [
    "import xlwings as xw\n",
    "import pandas as pd\n",
    "from datetime import date\n",
    "from pandas import ExcelWriter"
   ]
  },
  {
   "cell_type": "code",
   "execution_count": 56,
   "metadata": {},
   "outputs": [],
   "source": [
    "excel_name = '/Users/ocean/Desktop/OptBat/26012022 OptiBat_v2.xlsx' # TODO: change excel name\n",
    "optbat_db = pd.ExcelFile(excel_name)\n",
    "\n",
    "Today = date.today().strftime(\"%b_%m_%Y\")\n",
    "results_path = Today+'_results.xlsx' # TODO: change results name as needed"
   ]
  },
  {
   "cell_type": "code",
   "execution_count": null,
   "metadata": {},
   "outputs": [],
   "source": [
    "Sheet_Options_df = optbat_db.parse('Options', header=None)\n",
    "Sheet_Options_df = Sheet_Options_df.loc[2:, 2:]\n",
    "Sheet_Options_df.columns = list(Sheet_Options_df.loc[2, :])\n",
    "Sheet_Options_df = Sheet_Options_df.loc[3:, :]\n",
    "Sheet_Options_df = Sheet_Options_df.reset_index(drop=True)"
   ]
  },
  {
   "cell_type": "code",
   "execution_count": null,
   "metadata": {},
   "outputs": [],
   "source": [
    "Options_list = list(Sheet_Options_df['Options'])\n",
    "Options_position_list = list(Sheet_Options_df['Cell'])\n",
    "Options_condition_list = list(Sheet_Options_df['Condition'])\n",
    "Options_opt_list = list(Sheet_Options_df['OPT'])"
   ]
  },
  {
   "cell_type": "code",
   "execution_count": null,
   "metadata": {},
   "outputs": [],
   "source": [
    "arrays = [\n",
    "    Options_position_list,\n",
    "    Options_opt_list\n",
    "]\n",
    "tuples = list(zip(*arrays))\n",
    "index = pd.MultiIndex.from_tuples(tuples, names=[\"Cell\", \"OPT\"])"
   ]
  },
  {
   "cell_type": "code",
   "execution_count": null,
   "metadata": {},
   "outputs": [],
   "source": [
    "Options_df = pd.DataFrame({'Options': Options_list, 'Condition': Options_condition_list}, index=index)"
   ]
  },
  {
   "cell_type": "code",
   "execution_count": null,
   "metadata": {},
   "outputs": [],
   "source": [
    "wb = xw.Book(excel_name)\n",
    "sheet_Gebäude = wb.sheets['Gebäude']"
   ]
  },
  {
   "cell_type": "code",
   "execution_count": null,
   "metadata": {},
   "outputs": [],
   "source": [
    "Options_position_list = list(dict.fromkeys(Options_position_list))"
   ]
  },
  {
   "cell_type": "code",
   "execution_count": null,
   "metadata": {},
   "outputs": [],
   "source": [
    "if not os.path.exists(results_path):\n",
    "    os.makedirs(results_path)"
   ]
  },
  {
   "cell_type": "code",
   "execution_count": null,
   "metadata": {},
   "outputs": [],
   "source": [
    "# for i in range(len(Options_position_list)): # 11\n",
    "target_df_dict = {}\n",
    "for j in range(len(Options_df.loc[\"G4\"])): # G4: 3\n",
    "    for k in range(len(Options_df.loc[\"G5\"])):\n",
    "        if Options_df.loc[(\"G5\", k+1), 'Options'] == 'Mit UG':\n",
    "            for z in range(len(Options_df.loc[\"G6\"])):\n",
    "                for m in range(len(Options_df.loc[\"G7\"])):\n",
    "                    for a in range(len(Options_df.loc[\"G8\"])):\n",
    "                        for n in range(len(Options_df.loc[\"G9\"])):\n",
    "                            for b in range(len(Options_df.loc[\"G10\"])):\n",
    "                                for c in range(len(Options_df.loc[\"G11\"])):\n",
    "                                    for x in range(len(Options_df.loc[\"G13\"])):\n",
    "                                        for y in range(len(Options_df.loc[\"G14\"])):\n",
    "                                            print(j+1, k+1, z+1, m+1, a+1, n+1, b+1, c+1, x+1, y+1)\n",
    "                                            sheet_Gebäude.range(\"G4\").value = Options_df.loc[(\"G4\", j+1), 'Options']\n",
    "                                            sheet_Gebäude.range(\"G5\").value = Options_df.loc[(\"G5\", k+1), 'Options']\n",
    "                                            sheet_Gebäude.range(\"G6\").value = Options_df.loc[(\"G6\", z+1), 'Options']\n",
    "                                            sheet_Gebäude.range(\"G7\").value = Options_df.loc[(\"G7\", m+1), 'Options']\n",
    "                                            sheet_Gebäude.range(\"G8\").value = Options_df.loc[(\"G8\", a+1), 'Options']\n",
    "                                            sheet_Gebäude.range(\"G9\").value = Options_df.loc[(\"G9\", n+1), 'Options']\n",
    "                                            sheet_Gebäude.range(\"G10\").value = Options_df.loc[(\"G10\", b+1), 'Options']\n",
    "                                            sheet_Gebäude.range(\"G11\").value = Options_df.loc[(\"G11\", c+1), 'Options']\n",
    "                                            sheet_Gebäude.range(\"G12\").value = Options_df.loc[(\"G12\", 1), 'Options']\n",
    "                                            sheet_Gebäude.range(\"G13\").value = Options_df.loc[(\"G13\", x+1), 'Options']\n",
    "                                            sheet_Gebäude.range(\"G14\").value = Options_df.loc[(\"G14\", y+1), 'Options']\n",
    "                                            print([sheet_Gebäude.range(\"G\"+str(i)).value for i in range(4, 15)])\n",
    "                                            target_df_dict[str(j+1)+'_'+str(k+1)+'_'+str(z+1)+'_'+str(m+1)+'_'+str(a+1)+'_'+str(n+1)+'_'+str(b+1)+'_'+str(c+1)+'_'+str(1)+'_'+str(x+1)+'_'+str(y+1)] = pd.DataFrame(sheet_Gebäude.range(\"M4:AL16\").value)\n",
    "                                            # wb.save(path=results_path+'/'+str(j+1)+'_'+str(k+1)+'_'+str(z+1)+'_'+str(m+1)+'_'+str(a+1)+'_'+str(n+1)+'_'+str(b+1)+'_'+str(c+1)+'_'+str(1)+'_'+str(x+1)+'_'+str(y+1)+'.xlsx')\n",
    "    else:\n",
    "        for m in range(len(Options_df.loc[\"G7\"])):\n",
    "            for n in range(len(Options_df.loc[\"G9\"])):\n",
    "                for x in range(len(Options_df.loc[\"G13\"])):\n",
    "                    for y in range(len(Options_df.loc[\"G14\"])):\n",
    "                        # if Options_df.loc[(Options_position_list[i], j+1), 'Condition'] == 'na':\n",
    "                        # print(j, k, m, n, x, y)\n",
    "                        sheet_Gebäude.range(\"G4\").value = Options_df.loc[(\"G4\", j+1), 'Options']\n",
    "                        sheet_Gebäude.range(\"G5\").value = Options_df.loc[(\"G5\", k+1), 'Options']\n",
    "                        sheet_Gebäude.range(\"G7\").value = Options_df.loc[(\"G7\", m+1), 'Options']\n",
    "                        sheet_Gebäude.range(\"G9\").value = Options_df.loc[(\"G9\", n+1), 'Options']\n",
    "                        sheet_Gebäude.range(\"G12\").value = Options_df.loc[(\"G12\", 2), 'Options']\n",
    "                        sheet_Gebäude.range(\"G13\").value = Options_df.loc[(\"G13\", x+1), 'Options']\n",
    "                        sheet_Gebäude.range(\"G14\").value = Options_df.loc[(\"G14\", y+1), 'Options']\n",
    "                        target_df_dict[str(j+1)+'_'+str(k+1)+'_'+str(m+1)+'_'+str(n+1)+'_'+str(2)+'_'+str(x+1)+'_'+str(y+1)] = pd.DataFrame(sheet_Gebäude.range(\"M4:AL16\").value)\n",
    "\n",
    "                        # wb.save(path=results_path+'/'+str(j+1)+'_'+str(k+1)+'_'+str(m+1)+'_'+str(n+1)+'_'+str(2)+'_'+str(x+1)+'_'+str(y+1)+'.xlsx')"
   ]
  },
  {
   "cell_type": "code",
   "execution_count": 57,
   "metadata": {},
   "outputs": [],
   "source": [
    "with ExcelWriter(results_path) as writer:\n",
    "    for i in range(len(target_df_dict)):\n",
    "        key = list(target_df_dict.keys())[i]\n",
    "        target_df_dict[key].to_excel(writer, sheet_name=key, header=None, index=None)"
   ]
  }
 ],
 "metadata": {
  "interpreter": {
   "hash": "35e6b958be813515be18ceffa6a3de8dd486f229a9d767053d882fcecf37648f"
  },
  "kernelspec": {
   "display_name": "Python 3.9.7 64-bit ('suscons': conda)",
   "name": "python3"
  },
  "language_info": {
   "codemirror_mode": {
    "name": "ipython",
    "version": 3
   },
   "file_extension": ".py",
   "mimetype": "text/x-python",
   "name": "python",
   "nbconvert_exporter": "python",
   "pygments_lexer": "ipython3",
   "version": "3.9.7"
  },
  "orig_nbformat": 4
 },
 "nbformat": 4,
 "nbformat_minor": 2
}
