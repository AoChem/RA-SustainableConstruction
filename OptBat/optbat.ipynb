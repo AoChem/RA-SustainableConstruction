{
 "cells": [
  {
   "cell_type": "code",
   "execution_count": 12,
   "metadata": {},
   "outputs": [
    {
     "data": {
      "text/plain": [
       "'\\nThis script is used to generate all possible combination of Options \\nand store the results in separate Excel files.\\nFiles are named by the combination of `OPT` inside `Options` sheet.\\nFor example, \\n\\nAuthor: Ao Chen. Place: Zweistein.\\n'"
      ]
     },
     "execution_count": 12,
     "metadata": {},
     "output_type": "execute_result"
    }
   ],
   "source": [
    "\"\"\"\n",
    "This script is used to generate all possible combination of Options \n",
    "and store the results in separate Excel files.\n",
    "Files are named by the combination of `OPT` inside `Options` sheet.\n",
    "For example, \n",
    "\"1_1_1_1_1_1_1_1_1_1_1.xlsx\" represents\n",
    "['Massivbauweise', 'Mit UG', 'Beheizt', 'Mit abgehängte Installationsdecke', 'Mit abgehängte Installationsdecke', 'Bodenbelag mit Parkett', 'Bodenbelag mit Parkett', 'Mit Dämmung', 'Betonwand', 'Flachdach', 'Ja']\n",
    "\n",
    "Author: Ao Chen. Place: Zweistein.\n",
    "\"\"\""
   ]
  },
  {
   "cell_type": "code",
   "execution_count": 13,
   "metadata": {},
   "outputs": [],
   "source": [
    "import xlwings as xw\n",
    "import pandas as pd\n",
    "from datetime import date"
   ]
  },
  {
   "cell_type": "code",
   "execution_count": 14,
   "metadata": {},
   "outputs": [],
   "source": [
    "excel_name = '26012022 OptiBat_v2.xlsx' # TODO: change excel name\n",
    "optbat_db = pd.ExcelFile(excel_name)\n",
    "\n",
    "Today = date.today().strftime(\"%b_%m_%Y\")\n",
    "results_path = Today+'_results'"
   ]
  },
  {
   "cell_type": "code",
   "execution_count": 15,
   "metadata": {},
   "outputs": [],
   "source": [
    "Sheet_Options_df = optbat_db.parse('Options', header=None)\n",
    "Sheet_Options_df = Sheet_Options_df.loc[2:, 2:]\n",
    "Sheet_Options_df.columns = list(Sheet_Options_df.loc[2, :])\n",
    "Sheet_Options_df = Sheet_Options_df.loc[3:, :]\n",
    "Sheet_Options_df = Sheet_Options_df.reset_index(drop=True)"
   ]
  },
  {
   "cell_type": "code",
   "execution_count": 16,
   "metadata": {},
   "outputs": [],
   "source": [
    "Options_list = list(Sheet_Options_df['Options'])\n",
    "Options_position_list = list(Sheet_Options_df['Cell'])\n",
    "Options_condition_list = list(Sheet_Options_df['Condition'])\n",
    "Options_opt_list = list(Sheet_Options_df['OPT'])"
   ]
  },
  {
   "cell_type": "code",
   "execution_count": 17,
   "metadata": {},
   "outputs": [],
   "source": [
    "arrays = [\n",
    "    Options_position_list,\n",
    "    Options_opt_list\n",
    "]\n",
    "tuples = list(zip(*arrays))\n",
    "index = pd.MultiIndex.from_tuples(tuples, names=[\"Cell\", \"OPT\"])"
   ]
  },
  {
   "cell_type": "code",
   "execution_count": 18,
   "metadata": {},
   "outputs": [],
   "source": [
    "Options_df = pd.DataFrame({'Options': Options_list, 'Condition': Options_condition_list}, index=index)"
   ]
  },
  {
   "cell_type": "code",
   "execution_count": 19,
   "metadata": {},
   "outputs": [],
   "source": [
    "wb = xw.Book(excel_name)\n",
    "sheet_Gebäude = wb.sheets['Gebäude']"
   ]
  },
  {
   "cell_type": "code",
   "execution_count": 20,
   "metadata": {},
   "outputs": [],
   "source": [
    "Options_position_list = list(dict.fromkeys(Options_position_list))"
   ]
  },
  {
   "cell_type": "code",
   "execution_count": 21,
   "metadata": {},
   "outputs": [],
   "source": [
    "if not os.path.exists(results_path):\n",
    "    os.makedirs(results_path)"
   ]
  },
  {
   "cell_type": "code",
   "execution_count": 22,
   "metadata": {},
   "outputs": [
    {
     "name": "stdout",
     "output_type": "stream",
     "text": [
      "1 1 1 1 1 1 1 1 1 1\n",
      "['Massivbauweise', 'Mit UG', 'Beheizt', 'Mit abgehängte Installationsdecke', 'Mit abgehängte Installationsdecke', 'Bodenbelag mit Parkett', 'Bodenbelag mit Parkett', 'Mit Dämmung', 'Betonwand', 'Flachdach', 'Ja']\n",
      "1 1 1 1 1 1 1 1 1 2\n",
      "['Massivbauweise', 'Mit UG', 'Beheizt', 'Mit abgehängte Installationsdecke', 'Mit abgehängte Installationsdecke', 'Bodenbelag mit Parkett', 'Bodenbelag mit Parkett', 'Mit Dämmung', 'Betonwand', 'Flachdach', 'Nein']\n",
      "1 1 1 1 1 1 1 1 2 1\n",
      "['Massivbauweise', 'Mit UG', 'Beheizt', 'Mit abgehängte Installationsdecke', 'Mit abgehängte Installationsdecke', 'Bodenbelag mit Parkett', 'Bodenbelag mit Parkett', 'Mit Dämmung', 'Betonwand', 'Geneigtes Dach', 'Ja']\n",
      "1 1 1 1 1 1 1 1 2 2\n",
      "['Massivbauweise', 'Mit UG', 'Beheizt', 'Mit abgehängte Installationsdecke', 'Mit abgehängte Installationsdecke', 'Bodenbelag mit Parkett', 'Bodenbelag mit Parkett', 'Mit Dämmung', 'Betonwand', 'Geneigtes Dach', 'Nein']\n",
      "1 1 1 1 1 1 2 1 1 1\n",
      "['Massivbauweise', 'Mit UG', 'Beheizt', 'Mit abgehängte Installationsdecke', 'Mit abgehängte Installationsdecke', 'Bodenbelag mit Parkett', 'Bodenbelag mit Keramik', 'Mit Dämmung', 'Betonwand', 'Flachdach', 'Ja']\n",
      "1 1 1 1 1 1 2 1 1 2\n",
      "['Massivbauweise', 'Mit UG', 'Beheizt', 'Mit abgehängte Installationsdecke', 'Mit abgehängte Installationsdecke', 'Bodenbelag mit Parkett', 'Bodenbelag mit Keramik', 'Mit Dämmung', 'Betonwand', 'Flachdach', 'Nein']\n"
     ]
    },
    {
     "ename": "KeyboardInterrupt",
     "evalue": "",
     "output_type": "error",
     "traceback": [
      "\u001b[0;31m---------------------------------------------------------------------------\u001b[0m",
      "\u001b[0;31mKeyboardInterrupt\u001b[0m                         Traceback (most recent call last)",
      "\u001b[0;32m/var/folders/pk/3tmwrq6541738k97y1cxd07w0000gn/T/ipykernel_12196/3520204765.py\u001b[0m in \u001b[0;36m<module>\u001b[0;34m\u001b[0m\n\u001b[1;32m     24\u001b[0m                                             \u001b[0msheet_Gebäude\u001b[0m\u001b[0;34m.\u001b[0m\u001b[0mrange\u001b[0m\u001b[0;34m(\u001b[0m\u001b[0;34m\"G14\"\u001b[0m\u001b[0;34m)\u001b[0m\u001b[0;34m.\u001b[0m\u001b[0mvalue\u001b[0m \u001b[0;34m=\u001b[0m \u001b[0mOptions_df\u001b[0m\u001b[0;34m.\u001b[0m\u001b[0mloc\u001b[0m\u001b[0;34m[\u001b[0m\u001b[0;34m(\u001b[0m\u001b[0;34m\"G14\"\u001b[0m\u001b[0;34m,\u001b[0m \u001b[0my\u001b[0m\u001b[0;34m+\u001b[0m\u001b[0;36m1\u001b[0m\u001b[0;34m)\u001b[0m\u001b[0;34m,\u001b[0m \u001b[0;34m'Options'\u001b[0m\u001b[0;34m]\u001b[0m\u001b[0;34m\u001b[0m\u001b[0;34m\u001b[0m\u001b[0m\n\u001b[1;32m     25\u001b[0m                                             \u001b[0mprint\u001b[0m\u001b[0;34m(\u001b[0m\u001b[0;34m[\u001b[0m\u001b[0msheet_Gebäude\u001b[0m\u001b[0;34m.\u001b[0m\u001b[0mrange\u001b[0m\u001b[0;34m(\u001b[0m\u001b[0;34m\"G\"\u001b[0m\u001b[0;34m+\u001b[0m\u001b[0mstr\u001b[0m\u001b[0;34m(\u001b[0m\u001b[0mi\u001b[0m\u001b[0;34m)\u001b[0m\u001b[0;34m)\u001b[0m\u001b[0;34m.\u001b[0m\u001b[0mvalue\u001b[0m \u001b[0;32mfor\u001b[0m \u001b[0mi\u001b[0m \u001b[0;32min\u001b[0m \u001b[0mrange\u001b[0m\u001b[0;34m(\u001b[0m\u001b[0;36m4\u001b[0m\u001b[0;34m,\u001b[0m \u001b[0;36m15\u001b[0m\u001b[0;34m)\u001b[0m\u001b[0;34m]\u001b[0m\u001b[0;34m)\u001b[0m\u001b[0;34m\u001b[0m\u001b[0;34m\u001b[0m\u001b[0m\n\u001b[0;32m---> 26\u001b[0;31m                                             \u001b[0mwb\u001b[0m\u001b[0;34m.\u001b[0m\u001b[0msave\u001b[0m\u001b[0;34m(\u001b[0m\u001b[0mpath\u001b[0m\u001b[0;34m=\u001b[0m\u001b[0mresults_path\u001b[0m\u001b[0;34m+\u001b[0m\u001b[0;34m'/'\u001b[0m\u001b[0;34m+\u001b[0m\u001b[0mstr\u001b[0m\u001b[0;34m(\u001b[0m\u001b[0mj\u001b[0m\u001b[0;34m+\u001b[0m\u001b[0;36m1\u001b[0m\u001b[0;34m)\u001b[0m\u001b[0;34m+\u001b[0m\u001b[0;34m'_'\u001b[0m\u001b[0;34m+\u001b[0m\u001b[0mstr\u001b[0m\u001b[0;34m(\u001b[0m\u001b[0mk\u001b[0m\u001b[0;34m+\u001b[0m\u001b[0;36m1\u001b[0m\u001b[0;34m)\u001b[0m\u001b[0;34m+\u001b[0m\u001b[0;34m'_'\u001b[0m\u001b[0;34m+\u001b[0m\u001b[0mstr\u001b[0m\u001b[0;34m(\u001b[0m\u001b[0mz\u001b[0m\u001b[0;34m+\u001b[0m\u001b[0;36m1\u001b[0m\u001b[0;34m)\u001b[0m\u001b[0;34m+\u001b[0m\u001b[0;34m'_'\u001b[0m\u001b[0;34m+\u001b[0m\u001b[0mstr\u001b[0m\u001b[0;34m(\u001b[0m\u001b[0mm\u001b[0m\u001b[0;34m+\u001b[0m\u001b[0;36m1\u001b[0m\u001b[0;34m)\u001b[0m\u001b[0;34m+\u001b[0m\u001b[0;34m'_'\u001b[0m\u001b[0;34m+\u001b[0m\u001b[0mstr\u001b[0m\u001b[0;34m(\u001b[0m\u001b[0ma\u001b[0m\u001b[0;34m+\u001b[0m\u001b[0;36m1\u001b[0m\u001b[0;34m)\u001b[0m\u001b[0;34m+\u001b[0m\u001b[0;34m'_'\u001b[0m\u001b[0;34m+\u001b[0m\u001b[0mstr\u001b[0m\u001b[0;34m(\u001b[0m\u001b[0mn\u001b[0m\u001b[0;34m+\u001b[0m\u001b[0;36m1\u001b[0m\u001b[0;34m)\u001b[0m\u001b[0;34m+\u001b[0m\u001b[0;34m'_'\u001b[0m\u001b[0;34m+\u001b[0m\u001b[0mstr\u001b[0m\u001b[0;34m(\u001b[0m\u001b[0mb\u001b[0m\u001b[0;34m+\u001b[0m\u001b[0;36m1\u001b[0m\u001b[0;34m)\u001b[0m\u001b[0;34m+\u001b[0m\u001b[0;34m'_'\u001b[0m\u001b[0;34m+\u001b[0m\u001b[0mstr\u001b[0m\u001b[0;34m(\u001b[0m\u001b[0mc\u001b[0m\u001b[0;34m+\u001b[0m\u001b[0;36m1\u001b[0m\u001b[0;34m)\u001b[0m\u001b[0;34m+\u001b[0m\u001b[0;34m'_'\u001b[0m\u001b[0;34m+\u001b[0m\u001b[0mstr\u001b[0m\u001b[0;34m(\u001b[0m\u001b[0;36m1\u001b[0m\u001b[0;34m)\u001b[0m\u001b[0;34m+\u001b[0m\u001b[0;34m'_'\u001b[0m\u001b[0;34m+\u001b[0m\u001b[0mstr\u001b[0m\u001b[0;34m(\u001b[0m\u001b[0mx\u001b[0m\u001b[0;34m+\u001b[0m\u001b[0;36m1\u001b[0m\u001b[0;34m)\u001b[0m\u001b[0;34m+\u001b[0m\u001b[0;34m'_'\u001b[0m\u001b[0;34m+\u001b[0m\u001b[0mstr\u001b[0m\u001b[0;34m(\u001b[0m\u001b[0my\u001b[0m\u001b[0;34m+\u001b[0m\u001b[0;36m1\u001b[0m\u001b[0;34m)\u001b[0m\u001b[0;34m+\u001b[0m\u001b[0;34m'.xlsx'\u001b[0m\u001b[0;34m)\u001b[0m\u001b[0;34m\u001b[0m\u001b[0;34m\u001b[0m\u001b[0m\n\u001b[0m\u001b[1;32m     27\u001b[0m     \u001b[0;32melse\u001b[0m\u001b[0;34m:\u001b[0m\u001b[0;34m\u001b[0m\u001b[0;34m\u001b[0m\u001b[0m\n\u001b[1;32m     28\u001b[0m         \u001b[0;32mfor\u001b[0m \u001b[0mm\u001b[0m \u001b[0;32min\u001b[0m \u001b[0mrange\u001b[0m\u001b[0;34m(\u001b[0m\u001b[0mlen\u001b[0m\u001b[0;34m(\u001b[0m\u001b[0mOptions_df\u001b[0m\u001b[0;34m.\u001b[0m\u001b[0mloc\u001b[0m\u001b[0;34m[\u001b[0m\u001b[0;34m\"G7\"\u001b[0m\u001b[0;34m]\u001b[0m\u001b[0;34m)\u001b[0m\u001b[0;34m)\u001b[0m\u001b[0;34m:\u001b[0m\u001b[0;34m\u001b[0m\u001b[0;34m\u001b[0m\u001b[0m\n",
      "\u001b[0;32m~/opt/miniconda3/envs/suscons/lib/python3.9/site-packages/xlwings/main.py\u001b[0m in \u001b[0;36msave\u001b[0;34m(self, path, password)\u001b[0m\n\u001b[1;32m    902\u001b[0m             \u001b[0mpath\u001b[0m \u001b[0;34m=\u001b[0m \u001b[0mutils\u001b[0m\u001b[0;34m.\u001b[0m\u001b[0mfspath\u001b[0m\u001b[0;34m(\u001b[0m\u001b[0mpath\u001b[0m\u001b[0;34m)\u001b[0m\u001b[0;34m\u001b[0m\u001b[0;34m\u001b[0m\u001b[0m\n\u001b[1;32m    903\u001b[0m         \u001b[0;32mwith\u001b[0m \u001b[0mself\u001b[0m\u001b[0;34m.\u001b[0m\u001b[0mapp\u001b[0m\u001b[0;34m.\u001b[0m\u001b[0mproperties\u001b[0m\u001b[0;34m(\u001b[0m\u001b[0mdisplay_alerts\u001b[0m\u001b[0;34m=\u001b[0m\u001b[0;32mFalse\u001b[0m\u001b[0;34m)\u001b[0m\u001b[0;34m:\u001b[0m\u001b[0;34m\u001b[0m\u001b[0;34m\u001b[0m\u001b[0m\n\u001b[0;32m--> 904\u001b[0;31m             \u001b[0mself\u001b[0m\u001b[0;34m.\u001b[0m\u001b[0mimpl\u001b[0m\u001b[0;34m.\u001b[0m\u001b[0msave\u001b[0m\u001b[0;34m(\u001b[0m\u001b[0mpath\u001b[0m\u001b[0;34m,\u001b[0m \u001b[0mpassword\u001b[0m\u001b[0;34m=\u001b[0m\u001b[0mpassword\u001b[0m\u001b[0;34m)\u001b[0m\u001b[0;34m\u001b[0m\u001b[0;34m\u001b[0m\u001b[0m\n\u001b[0m\u001b[1;32m    905\u001b[0m \u001b[0;34m\u001b[0m\u001b[0m\n\u001b[1;32m    906\u001b[0m     \u001b[0;34m@\u001b[0m\u001b[0mproperty\u001b[0m\u001b[0;34m\u001b[0m\u001b[0;34m\u001b[0m\u001b[0m\n",
      "\u001b[0;32m~/opt/miniconda3/envs/suscons/lib/python3.9/site-packages/xlwings/_xlmac.py\u001b[0m in \u001b[0;36msave\u001b[0;34m(self, path, password)\u001b[0m\n\u001b[1;32m    331\u001b[0m             \u001b[0;31m# Save under new name/location\u001b[0m\u001b[0;34m\u001b[0m\u001b[0;34m\u001b[0m\u001b[0m\n\u001b[1;32m    332\u001b[0m             \u001b[0mhfs_path\u001b[0m \u001b[0;34m=\u001b[0m \u001b[0mposix_to_hfs_path\u001b[0m\u001b[0;34m(\u001b[0m\u001b[0mos\u001b[0m\u001b[0;34m.\u001b[0m\u001b[0mpath\u001b[0m\u001b[0;34m.\u001b[0m\u001b[0mrealpath\u001b[0m\u001b[0;34m(\u001b[0m\u001b[0mpath\u001b[0m\u001b[0;34m)\u001b[0m\u001b[0;34m)\u001b[0m\u001b[0;34m\u001b[0m\u001b[0;34m\u001b[0m\u001b[0m\n\u001b[0;32m--> 333\u001b[0;31m             \u001b[0mself\u001b[0m\u001b[0;34m.\u001b[0m\u001b[0mxl\u001b[0m\u001b[0;34m.\u001b[0m\u001b[0msave_workbook_as\u001b[0m\u001b[0;34m(\u001b[0m\u001b[0mfilename\u001b[0m\u001b[0;34m=\u001b[0m\u001b[0mhfs_path\u001b[0m\u001b[0;34m,\u001b[0m \u001b[0moverwrite\u001b[0m\u001b[0;34m=\u001b[0m\u001b[0;32mTrue\u001b[0m\u001b[0;34m,\u001b[0m \u001b[0mfile_format\u001b[0m\u001b[0;34m=\u001b[0m\u001b[0mfile_format\u001b[0m\u001b[0;34m,\u001b[0m \u001b[0mtimeout\u001b[0m\u001b[0;34m=\u001b[0m\u001b[0;34m-\u001b[0m\u001b[0;36m1\u001b[0m\u001b[0;34m,\u001b[0m \u001b[0mpassword\u001b[0m\u001b[0;34m=\u001b[0m\u001b[0mpassword\u001b[0m\u001b[0;34m)\u001b[0m\u001b[0;34m\u001b[0m\u001b[0;34m\u001b[0m\u001b[0m\n\u001b[0m\u001b[1;32m    334\u001b[0m             \u001b[0mself\u001b[0m\u001b[0;34m.\u001b[0m\u001b[0mxl\u001b[0m \u001b[0;34m=\u001b[0m \u001b[0mself\u001b[0m\u001b[0;34m.\u001b[0m\u001b[0mapp\u001b[0m\u001b[0;34m.\u001b[0m\u001b[0mxl\u001b[0m\u001b[0;34m.\u001b[0m\u001b[0mworkbooks\u001b[0m\u001b[0;34m[\u001b[0m\u001b[0mos\u001b[0m\u001b[0;34m.\u001b[0m\u001b[0mpath\u001b[0m\u001b[0;34m.\u001b[0m\u001b[0mbasename\u001b[0m\u001b[0;34m(\u001b[0m\u001b[0mpath\u001b[0m\u001b[0;34m)\u001b[0m\u001b[0;34m]\u001b[0m\u001b[0;34m\u001b[0m\u001b[0;34m\u001b[0m\u001b[0m\n\u001b[1;32m    335\u001b[0m \u001b[0;34m\u001b[0m\u001b[0m\n",
      "\u001b[0;32m~/opt/miniconda3/envs/suscons/lib/python3.9/site-packages/aeosa/appscript/reference.py\u001b[0m in \u001b[0;36m__call__\u001b[0;34m(self, *args, **kargs)\u001b[0m\n\u001b[1;32m    480\u001b[0m                 \u001b[0;31m# build and send the Apple event, returning its result, if any\u001b[0m\u001b[0;34m\u001b[0m\u001b[0;34m\u001b[0m\u001b[0m\n\u001b[1;32m    481\u001b[0m                 \u001b[0;32mtry\u001b[0m\u001b[0;34m:\u001b[0m\u001b[0;34m\u001b[0m\u001b[0;34m\u001b[0m\u001b[0m\n\u001b[0;32m--> 482\u001b[0;31m                         \u001b[0;32mreturn\u001b[0m \u001b[0mself\u001b[0m\u001b[0;34m.\u001b[0m\u001b[0mAS_appdata\u001b[0m\u001b[0;34m.\u001b[0m\u001b[0mtarget\u001b[0m\u001b[0;34m(\u001b[0m\u001b[0;34m)\u001b[0m\u001b[0;34m.\u001b[0m\u001b[0mevent\u001b[0m\u001b[0;34m(\u001b[0m\u001b[0mself\u001b[0m\u001b[0;34m.\u001b[0m\u001b[0m_code\u001b[0m\u001b[0;34m,\u001b[0m \u001b[0mparams\u001b[0m\u001b[0;34m,\u001b[0m \u001b[0matts\u001b[0m\u001b[0;34m,\u001b[0m \u001b[0mcodecs\u001b[0m\u001b[0;34m=\u001b[0m\u001b[0mself\u001b[0m\u001b[0;34m.\u001b[0m\u001b[0mAS_appdata\u001b[0m\u001b[0;34m)\u001b[0m\u001b[0;34m.\u001b[0m\u001b[0msend\u001b[0m\u001b[0;34m(\u001b[0m\u001b[0mtimeout\u001b[0m\u001b[0;34m,\u001b[0m \u001b[0msendflags\u001b[0m\u001b[0;34m)\u001b[0m\u001b[0;34m\u001b[0m\u001b[0;34m\u001b[0m\u001b[0m\n\u001b[0m\u001b[1;32m    483\u001b[0m                 \u001b[0;32mexcept\u001b[0m \u001b[0maem\u001b[0m\u001b[0;34m.\u001b[0m\u001b[0mEventError\u001b[0m \u001b[0;32mas\u001b[0m \u001b[0me\u001b[0m\u001b[0;34m:\u001b[0m\u001b[0;34m\u001b[0m\u001b[0;34m\u001b[0m\u001b[0m\n\u001b[1;32m    484\u001b[0m                         \u001b[0;32mif\u001b[0m \u001b[0me\u001b[0m\u001b[0;34m.\u001b[0m\u001b[0merrornumber\u001b[0m \u001b[0;34m==\u001b[0m \u001b[0;34m-\u001b[0m\u001b[0;36m1708\u001b[0m \u001b[0;32mand\u001b[0m \u001b[0mself\u001b[0m\u001b[0;34m.\u001b[0m\u001b[0m_code\u001b[0m \u001b[0;34m==\u001b[0m \u001b[0;34mb'ascrnoop'\u001b[0m\u001b[0;34m:\u001b[0m\u001b[0;34m\u001b[0m\u001b[0;34m\u001b[0m\u001b[0m\n",
      "\u001b[0;32m~/opt/miniconda3/envs/suscons/lib/python3.9/site-packages/aeosa/aem/aemsend.py\u001b[0m in \u001b[0;36msend\u001b[0;34m(self, timeout, flags)\u001b[0m\n\u001b[1;32m     72\u001b[0m \t\t\"\"\"\n\u001b[1;32m     73\u001b[0m                 \u001b[0;32mtry\u001b[0m\u001b[0;34m:\u001b[0m\u001b[0;34m\u001b[0m\u001b[0;34m\u001b[0m\u001b[0m\n\u001b[0;32m---> 74\u001b[0;31m                         \u001b[0mreplyevent\u001b[0m \u001b[0;34m=\u001b[0m \u001b[0mself\u001b[0m\u001b[0;34m.\u001b[0m\u001b[0m_sendproc\u001b[0m\u001b[0;34m(\u001b[0m\u001b[0mself\u001b[0m\u001b[0;34m.\u001b[0m\u001b[0mAEM_event\u001b[0m\u001b[0;34m,\u001b[0m \u001b[0mflags\u001b[0m\u001b[0;34m,\u001b[0m \u001b[0mtimeout\u001b[0m\u001b[0;34m)\u001b[0m\u001b[0;34m\u001b[0m\u001b[0;34m\u001b[0m\u001b[0m\n\u001b[0m\u001b[1;32m     75\u001b[0m                 \u001b[0;32mexcept\u001b[0m \u001b[0mMacOSError\u001b[0m \u001b[0;32mas\u001b[0m \u001b[0merr\u001b[0m\u001b[0;34m:\u001b[0m \u001b[0;31m# an OS-level error occurred\u001b[0m\u001b[0;34m\u001b[0m\u001b[0;34m\u001b[0m\u001b[0m\n\u001b[1;32m     76\u001b[0m                         \u001b[0;32mif\u001b[0m \u001b[0;32mnot\u001b[0m \u001b[0;34m(\u001b[0m\u001b[0mself\u001b[0m\u001b[0;34m.\u001b[0m\u001b[0m_eventcode\u001b[0m \u001b[0;34m==\u001b[0m \u001b[0;34mb'aevtquit'\u001b[0m \u001b[0;32mand\u001b[0m \u001b[0merr\u001b[0m\u001b[0;34m.\u001b[0m\u001b[0margs\u001b[0m\u001b[0;34m[\u001b[0m\u001b[0;36m0\u001b[0m\u001b[0;34m]\u001b[0m \u001b[0;34m==\u001b[0m \u001b[0;34m-\u001b[0m\u001b[0;36m609\u001b[0m\u001b[0;34m)\u001b[0m\u001b[0;34m:\u001b[0m \u001b[0;31m# Ignore invalid connection error (-609) when quitting\u001b[0m\u001b[0;34m\u001b[0m\u001b[0;34m\u001b[0m\u001b[0m\n",
      "\u001b[0;32m~/opt/miniconda3/envs/suscons/lib/python3.9/site-packages/aeosa/aem/aemsend.py\u001b[0m in \u001b[0;36msendappleevent\u001b[0;34m(evt, flags, timeout)\u001b[0m\n\u001b[1;32m     21\u001b[0m                 \u001b[0mResult\u001b[0m \u001b[0;34m:\u001b[0m \u001b[0maem\u001b[0m\u001b[0;34m.\u001b[0m\u001b[0mae\u001b[0m\u001b[0;34m.\u001b[0m\u001b[0mAEDesc\u001b[0m \u001b[0;34m-\u001b[0m\u001b[0;34m-\u001b[0m \u001b[0mthe\u001b[0m \u001b[0mreply\u001b[0m \u001b[0mAppleEvent\u001b[0m\u001b[0;34m\u001b[0m\u001b[0;34m\u001b[0m\u001b[0m\n\u001b[1;32m     22\u001b[0m \t\"\"\"\n\u001b[0;32m---> 23\u001b[0;31m         \u001b[0;32mreturn\u001b[0m \u001b[0mevt\u001b[0m\u001b[0;34m.\u001b[0m\u001b[0msend\u001b[0m\u001b[0;34m(\u001b[0m\u001b[0mflags\u001b[0m\u001b[0;34m,\u001b[0m \u001b[0mtimeout\u001b[0m\u001b[0;34m)\u001b[0m\u001b[0;34m\u001b[0m\u001b[0;34m\u001b[0m\u001b[0m\n\u001b[0m\u001b[1;32m     24\u001b[0m \u001b[0;34m\u001b[0m\u001b[0m\n\u001b[1;32m     25\u001b[0m \u001b[0;31m######################################################################\u001b[0m\u001b[0;34m\u001b[0m\u001b[0;34m\u001b[0m\u001b[0m\n",
      "\u001b[0;31mKeyboardInterrupt\u001b[0m: "
     ]
    }
   ],
   "source": [
    "# for i in range(len(Options_position_list)): # 11\n",
    "for j in range(len(Options_df.loc[\"G4\"])): # G4: 3\n",
    "    for k in range(len(Options_df.loc[\"G5\"])):\n",
    "        if Options_df.loc[(\"G5\", k+1), 'Options'] == 'Mit UG':\n",
    "            for z in range(len(Options_df.loc[\"G6\"])):\n",
    "                for m in range(len(Options_df.loc[\"G7\"])):\n",
    "                    for a in range(len(Options_df.loc[\"G8\"])):\n",
    "                        for n in range(len(Options_df.loc[\"G9\"])):\n",
    "                            for b in range(len(Options_df.loc[\"G10\"])):\n",
    "                                for c in range(len(Options_df.loc[\"G11\"])):\n",
    "                                    for x in range(len(Options_df.loc[\"G13\"])):\n",
    "                                        for y in range(len(Options_df.loc[\"G14\"])):\n",
    "                                            print(j+1, k+1, z+1, m+1, a+1, n+1, b+1, c+1, x+1, y+1)\n",
    "                                            sheet_Gebäude.range(\"G4\").value = Options_df.loc[(\"G4\", j+1), 'Options']\n",
    "                                            sheet_Gebäude.range(\"G5\").value = Options_df.loc[(\"G5\", k+1), 'Options']\n",
    "                                            sheet_Gebäude.range(\"G6\").value = Options_df.loc[(\"G6\", z+1), 'Options']\n",
    "                                            sheet_Gebäude.range(\"G7\").value = Options_df.loc[(\"G7\", m+1), 'Options']\n",
    "                                            sheet_Gebäude.range(\"G8\").value = Options_df.loc[(\"G8\", a+1), 'Options']\n",
    "                                            sheet_Gebäude.range(\"G9\").value = Options_df.loc[(\"G9\", n+1), 'Options']\n",
    "                                            sheet_Gebäude.range(\"G10\").value = Options_df.loc[(\"G10\", b+1), 'Options']\n",
    "                                            sheet_Gebäude.range(\"G11\").value = Options_df.loc[(\"G11\", c+1), 'Options']\n",
    "                                            sheet_Gebäude.range(\"G12\").value = Options_df.loc[(\"G12\", 1), 'Options']\n",
    "                                            sheet_Gebäude.range(\"G13\").value = Options_df.loc[(\"G13\", x+1), 'Options']\n",
    "                                            sheet_Gebäude.range(\"G14\").value = Options_df.loc[(\"G14\", y+1), 'Options']\n",
    "                                            print([sheet_Gebäude.range(\"G\"+str(i)).value for i in range(4, 15)])\n",
    "                                            wb.save(path=results_path+'/'+str(j+1)+'_'+str(k+1)+'_'+str(z+1)+'_'+str(m+1)+'_'+str(a+1)+'_'+str(n+1)+'_'+str(b+1)+'_'+str(c+1)+'_'+str(1)+'_'+str(x+1)+'_'+str(y+1)+'.xlsx')\n",
    "    else:\n",
    "        for m in range(len(Options_df.loc[\"G7\"])):\n",
    "            for n in range(len(Options_df.loc[\"G9\"])):\n",
    "                for x in range(len(Options_df.loc[\"G13\"])):\n",
    "                    for y in range(len(Options_df.loc[\"G14\"])):\n",
    "                        # if Options_df.loc[(Options_position_list[i], j+1), 'Condition'] == 'na':\n",
    "                        # print(j, k, m, n, x, y)\n",
    "                        sheet_Gebäude.range(\"G4\").value = Options_df.loc[(\"G4\", j+1), 'Options']\n",
    "                        sheet_Gebäude.range(\"G5\").value = Options_df.loc[(\"G5\", k+1), 'Options']\n",
    "                        sheet_Gebäude.range(\"G7\").value = Options_df.loc[(\"G7\", m+1), 'Options']\n",
    "                        sheet_Gebäude.range(\"G9\").value = Options_df.loc[(\"G9\", n+1), 'Options']\n",
    "                        sheet_Gebäude.range(\"G12\").value = Options_df.loc[(\"G12\", 2), 'Options']\n",
    "                        sheet_Gebäude.range(\"G13\").value = Options_df.loc[(\"G13\", x+1), 'Options']\n",
    "                        sheet_Gebäude.range(\"G14\").value = Options_df.loc[(\"G14\", y+1), 'Options']\n",
    "                        \n",
    "                        wb.save(path=results_path+'/'+str(j+1)+'_'+str(k+1)+'_'+str(m+1)+'_'+str(n+1)+'_'+str(2)+'_'+str(x+1)+'_'+str(y+1)+'.xlsx')"
   ]
  },
  {
   "cell_type": "code",
   "execution_count": null,
   "metadata": {},
   "outputs": [],
   "source": []
  }
 ],
 "metadata": {
  "interpreter": {
   "hash": "35e6b958be813515be18ceffa6a3de8dd486f229a9d767053d882fcecf37648f"
  },
  "kernelspec": {
   "display_name": "Python 3.9.7 64-bit ('suscons': conda)",
   "name": "python3"
  },
  "language_info": {
   "codemirror_mode": {
    "name": "ipython",
    "version": 3
   },
   "file_extension": ".py",
   "mimetype": "text/x-python",
   "name": "python",
   "nbconvert_exporter": "python",
   "pygments_lexer": "ipython3",
   "version": "3.9.7"
  },
  "orig_nbformat": 4
 },
 "nbformat": 4,
 "nbformat_minor": 2
}
