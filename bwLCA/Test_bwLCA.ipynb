{
 "cells": [
  {
   "cell_type": "code",
   "execution_count": null,
   "metadata": {},
   "outputs": [],
   "source": [
    "\"\"\"\n",
    "This script can be used after manually importing ecoinvent in Activity_Browser.\n",
    "Look for TODO to define your own variable names as you need.\n",
    "\n",
    "Author: Ao Chen. Place: UZH Zentrum. \n",
    "\"\"\""
   ]
  },
  {
   "cell_type": "code",
   "execution_count": 8,
   "metadata": {},
   "outputs": [],
   "source": [
    "import os\n",
    "import pandas as pd\n",
    "from brightway2 import *\n",
    "from datetime import date"
   ]
  },
  {
   "cell_type": "code",
   "execution_count": 9,
   "metadata": {},
   "outputs": [],
   "source": [
    "def project_setup(Project_name):\n",
    "    projects.set_current(Project_name) "
   ]
  },
  {
   "cell_type": "code",
   "execution_count": 10,
   "metadata": {},
   "outputs": [],
   "source": [
    "Project_name = \"Test\"\n",
    "Database_name = \"cutoff38\" \n",
    "project_setup(Project_name)\n",
    "\n",
    "# TODO: change names above as you need"
   ]
  },
  {
   "cell_type": "code",
   "execution_count": 14,
   "metadata": {},
   "outputs": [],
   "source": [
    "def lca_calculation(Process_list, Material_list_path, Impact_method, Result_path):\n",
    "    material_df = pd.read_excel(Material_list_path, header=None)\n",
    "    material_df[['Activity', 'Product', 'Cutoff']] = material_df[0].str.split('|', 2, expand=True)\n",
    "    material_df['Activity'] = material_df['Activity'].str.strip()\n",
    "\n",
    "    results = {}\n",
    "\n",
    "    if not os.path.exists(Result_path):\n",
    "        os.makedirs(Result_path)\n",
    "\n",
    "    for i in range(len(material_df)):\n",
    "    # for i in range(1): # for test\n",
    "        target_process_list = [p for p in Process_list if material_df['Activity'][i] in str(p)] # search for processes with specific name\n",
    "        # target_process_list = [p for p in Process_list if 'boron carbide production' in str(p)] # for test\n",
    "        for j in range(len(target_process_list)):\n",
    "            functional_unit = {target_process_list[j]: 1}\n",
    "            lca = LCA(functional_unit, Impact_method)\n",
    "            lca.lci()\n",
    "            lca.lcia()\n",
    "            results[dict(target_process_list[j])['location']] = lca.score\n",
    "        results_Series = pd.Series(results, name=Result_path+'[kg CO2-Eq]')\n",
    "        results_Series.to_csv(Result_path+'/Summary_'+material_df['Activity'][i]+'.csv')\n",
    "        # results_Series.to_csv(Result_path+'/Summary_boron carbide production.csv') # for test"
   ]
  },
  {
   "cell_type": "code",
   "execution_count": 15,
   "metadata": {},
   "outputs": [],
   "source": [
    "db = Database(Database_name)\n",
    "Process_list = db.search(\"*\", limit=10000000) # read all processes in the database\n",
    "# TODO: this process is time consuming, run once is enough!"
   ]
  },
  {
   "cell_type": "code",
   "execution_count": 16,
   "metadata": {},
   "outputs": [],
   "source": [
    "Material_list_path = 'List_of_Materials_ecoinvent.xlsx'\n",
    "Impact_method = [m for m in methods if 'IPCC 2013' in str(m) and 'climate change' in str(m) and 'GWP 100a' in str(m) and not 'no LT' in str(m)][0]\n",
    "Today = date.today().strftime(\"%b_%m_%Y\")\n",
    "Result_path = Today+'_calc_results_GWP100a'\n",
    "lca_calculation(Process_list, Material_list_path, Impact_method, Result_path)\n",
    "# TODO: change names above as you need"
   ]
  }
 ],
 "metadata": {
  "interpreter": {
   "hash": "dd21ad2757f371eae3280fdb21ddb91acd055d61f9283f39826ce0c7f025e5ac"
  },
  "kernelspec": {
   "display_name": "Python 3.9.10 64-bit ('ab': conda)",
   "name": "python3"
  },
  "language_info": {
   "codemirror_mode": {
    "name": "ipython",
    "version": 3
   },
   "file_extension": ".py",
   "mimetype": "text/x-python",
   "name": "python",
   "nbconvert_exporter": "python",
   "pygments_lexer": "ipython3",
   "version": "3.9.10"
  },
  "orig_nbformat": 4
 },
 "nbformat": 4,
 "nbformat_minor": 2
}
