{
 "cells": [
  {
   "cell_type": "code",
   "execution_count": null,
   "metadata": {},
   "outputs": [],
   "source": [
    "\"\"\"\n",
    "This script is designed to prevent the usage of Activity-Browser.\n",
    "\n",
    "Author: Ao Chen. Place: UZH Zentrum. \n",
    "\"\"\""
   ]
  },
  {
   "cell_type": "code",
   "execution_count": 1,
   "metadata": {},
   "outputs": [],
   "source": [
    "import os\n",
    "import pandas as pd\n",
    "from brightway2 import *\n",
    "from datetime import date"
   ]
  },
  {
   "cell_type": "code",
   "execution_count": 6,
   "metadata": {},
   "outputs": [],
   "source": [
    "def project_setup(Project_name, Dataset_path, Dataset_lcia_path, Database_name):\n",
    "    projects.set_current(Project_name) \n",
    "    if len(Database(\"biosphere3\")) == 0: # if no biosphere3 database, set it up.\n",
    "        bw2setup()\n",
    "    if len(Database(Database_name)) == 0:\n",
    "        ei38cutoff = SingleOutputEcospold2Importer(\n",
    "            Dataset_path,\n",
    "            Database_name\n",
    "        ) # import ecoinvent database\n",
    "        ei38cutoff.apply_strategies()\n",
    "        ei38cutoff.statistics()\n",
    "        ei38cutoff.write_database()\n",
    "    if len(methods) == 0:\n",
    "        ei38cutofflcia = SingleOutputEcospold2Importer(\n",
    "            Dataset_lcia_path,\n",
    "            Database_name\n",
    "        )\n",
    "        ei38cutofflcia.apply_strategies()\n",
    "        ei38cutofflcia.statistics()\n",
    "        ei38cutofflcia.write_database()"
   ]
  },
  {
   "cell_type": "code",
   "execution_count": 7,
   "metadata": {},
   "outputs": [
    {
     "name": "stdout",
     "output_type": "stream",
     "text": [
      "Extracting XML data from 19565 datasets\n",
      "{http://www.EcoInvent.org/EcoSpold02}impactIndicator\n",
      "{http://www.EcoInvent.org/EcoSpold02}impactIndicator\n",
      "{http://www.EcoInvent.org/EcoSpold02}impactIndicator\n",
      "{http://www.EcoInvent.org/EcoSpold02}impactIndicator\n",
      "{http://www.EcoInvent.org/EcoSpold02}impactIndicator\n",
      "{http://www.EcoInvent.org/EcoSpold02}impactIndicator\n",
      "{http://www.EcoInvent.org/EcoSpold02}impactIndicator{http://www.EcoInvent.org/EcoSpold02}impactIndicator\n",
      "\n",
      "{http://www.EcoInvent.org/EcoSpold02}impactIndicator\n",
      "{http://www.EcoInvent.org/EcoSpold02}impactIndicator\n",
      "{http://www.EcoInvent.org/EcoSpold02}impactIndicator\n",
      "{http://www.EcoInvent.org/EcoSpold02}impactIndicator\n",
      "{http://www.EcoInvent.org/EcoSpold02}impactIndicator\n",
      "{http://www.EcoInvent.org/EcoSpold02}impactIndicator\n",
      "{http://www.EcoInvent.org/EcoSpold02}impactIndicator\n",
      "{http://www.EcoInvent.org/EcoSpold02}impactIndicator\n"
     ]
    }
   ],
   "source": [
    "Project_name = \"Ecoinvent\" # if not exist, automatically create one\n",
    "Dataset_path = \"/Users/ocean/Library/CloudStorage/OneDrive-forpersonal/RA-SustainableConstruction/bwLCA/ecoinvent 3.8_cutoff_ecoSpold02/datasets\"\n",
    "Dataset_lcia_path = \"/Users/ocean/Library/CloudStorage/OneDrive-forpersonal/RA-SustainableConstruction/bwLCA/ecoinvent 3.8_cutoff_lcia_ecoSpold02/datasets\"\n",
    "\n",
    "# Dataset_path = \"/Users/ocean/Library/CloudStorage/OneDrive-forpersonal/RA-SustainableConstruction/bwLCA/ecoinvent 3.8_cutoff_ecoSpold02/test_dataset\"\n",
    "# Dataset_lcia_path = \"/Users/ocean/Library/CloudStorage/OneDrive-forpersonal/RA-SustainableConstruction/bwLCA/ecoinvent 3.8_cutoff_lcia_ecoSpold02/test_dataset\"\n",
    "# substitute this with your ecoinvent datasets path (absolute path is more reliable)\n",
    "Database_name = \"cutoff38\"\n",
    "project_setup(Project_name, Dataset_path, Dataset_lcia_path, Database_name)"
   ]
  },
  {
   "cell_type": "code",
   "execution_count": null,
   "metadata": {},
   "outputs": [],
   "source": [
    "def calculation(Database_name, Material_list_path, Impact_method):\n",
    "    db = Database(Database_name)\n",
    "    process_list = db.search(\"*\", limit=10000000) # read all processes in the database\n",
    "    material_df = pd.read_excel(Material_list_path, header=None)\n",
    "    material_df[['Activity', 'Product', 'Cutoff']] = material_df[0].str.split('|', 2, expand=True)\n",
    "    material_df['Activity'] = material_df['Activity'].str.strip()\n",
    "\n",
    "    CC_method = [m for m in methods if 'IPCC 2013' in str(m) and 'climate change' in str(m) and 'GWP 100a' in str(m) and not 'no LT' in str(m)][0]\n",
    "    results = {}\n",
    "\n",
    "    if not os.path.exists('calc_results_GWP100a'):\n",
    "        os.makedirs('calc_results_GWP100a')\n",
    "\n",
    "    for i in range(len(material_df)):\n",
    "        target_process_list = [p for p in process_list if material_df['Activity'][i] in str(p)] # search for processes with specific name\n",
    "        for j in range(len(target_process_list)):\n",
    "            functional_unit = {target_process_list[j]: 1}\n",
    "            lca = LCA(functional_unit, CC_method)\n",
    "            lca.lci()\n",
    "            lca.lcia()\n",
    "            results[dict(target_process_list[j])['location']] = lca.score\n",
    "        results_Series = pd.Series(results, name='IPCC_2013_GWP100a[kg CO2-Eq]')\n",
    "        results_Series.to_csv('calc_results_GWP100a/Summary_'+material_df['Activity'][i]+'.csv')"
   ]
  },
  {
   "cell_type": "code",
   "execution_count": null,
   "metadata": {},
   "outputs": [],
   "source": [
    "db = Database(Database_name)\n",
    "Process_list = db.search(\"*\", limit=10000000) # read all processes in the database\n",
    "# TODO: this process is time consuming, run once is enough!"
   ]
  },
  {
   "cell_type": "code",
   "execution_count": null,
   "metadata": {},
   "outputs": [],
   "source": [
    "Material_list_path = 'List_of_Materials_ecoinvent.xlsx'\n",
    "Impact_method = [m for m in methods if 'IPCC 2013' in str(m) and 'climate change' in str(m) and 'GWP 100a' in str(m) and not 'no LT' in str(m)][0]\n",
    "Today = date.today().strftime(\"%b_%m_%Y\")\n",
    "Result_path = Today+'_calc_results_GWP100a'\n",
    "lca_calculation(Process_list, Material_list_path, Impact_method, Result_path)\n",
    "# TODO: change names above as you need"
   ]
  }
 ],
 "metadata": {
  "interpreter": {
   "hash": "dd21ad2757f371eae3280fdb21ddb91acd055d61f9283f39826ce0c7f025e5ac"
  },
  "kernelspec": {
   "display_name": "Python 3.9.10 64-bit ('ab': conda)",
   "name": "python3"
  },
  "language_info": {
   "codemirror_mode": {
    "name": "ipython",
    "version": 3
   },
   "file_extension": ".py",
   "mimetype": "text/x-python",
   "name": "python",
   "nbconvert_exporter": "python",
   "pygments_lexer": "ipython3",
   "version": "3.9.10"
  },
  "orig_nbformat": 4
 },
 "nbformat": 4,
 "nbformat_minor": 2
}
