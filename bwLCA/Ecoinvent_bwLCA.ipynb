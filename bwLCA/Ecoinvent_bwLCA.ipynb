{
 "cells": [
  {
   "cell_type": "code",
   "execution_count": 4,
   "metadata": {},
   "outputs": [],
   "source": [
    "\"\"\"\n",
    "This script is designed to prevent the usage of Activity-Browser while realize the same function as Test_bwLCA.ipynb.\n",
    "Author: Ao Chen. Place: UZH Zentrum. \n",
    "\"\"\"\n",
    "import os\n",
    "import pandas as pd\n",
    "from brightway2 import *\n",
    "from datetime import date\n",
    "import bw2data"
   ]
  },
  {
   "cell_type": "code",
   "execution_count": 5,
   "metadata": {},
   "outputs": [],
   "source": [
    "def project_setup(Project_name, Dataset_path, Database_name):\n",
    "    projects.set_current(Project_name) \n",
    "    if len(Database(\"biosphere3\")) == 0: # if no biosphere3 database, set it up.\n",
    "        bw2setup()\n",
    "    if len(Database(Database_name)) == 0:\n",
    "        ei38cutoff = SingleOutputEcospold2Importer(\n",
    "            Dataset_path,\n",
    "            Database_name\n",
    "        ) # import ecoinvent database\n",
    "        ei38cutoff.apply_strategies()\n",
    "        ei38cutoff.statistics()\n",
    "        ei38cutoff.write_database()"
   ]
  },
  {
   "cell_type": "code",
   "execution_count": 6,
   "metadata": {},
   "outputs": [],
   "source": [
    "Project_name = \"Ecoinvent\" # if not exist, automatically create one\n",
    "Dataset_path = \"/Users/ocean/Library/CloudStorage/OneDrive-forpersonal/RA-SustainableConstruction/bwLCA/ecoinvent 3.8_cutoff_ecoSpold02/datasets\"\n",
    "# TODO: substitute this with your ecoinvent datasets path (absolute path is more reliable)\n",
    "Database_name = \"cutoff38\"\n",
    "project_setup(Project_name, Dataset_path, Database_name)"
   ]
  },
  {
   "cell_type": "code",
   "execution_count": 7,
   "metadata": {},
   "outputs": [],
   "source": [
    "db = Database(Database_name)\n",
    "Process_list_all = db.search(\"*\", limit=10000000) # read all processes in the database\n",
    "# TODO: this process is time consuming, run once is enough!"
   ]
  },
  {
   "cell_type": "code",
   "execution_count": 8,
   "metadata": {},
   "outputs": [],
   "source": [
    "class LCA_Calculation():\n",
    "    def __init__(self, Process_list_all, Impact_method, Result_path, Excel_path='', Process_list_target=None):\n",
    "        self.Process_list_all = Process_list_all\n",
    "        self.Impact_method = Impact_method\n",
    "        self.Result_path = Result_path\n",
    "        self.Excel_path = Excel_path\n",
    "        self.Process_list_target = Process_list_target\n",
    "\n",
    "        if not os.path.exists(self.Result_path):\n",
    "            os.makedirs(self.Result_path)\n",
    "    \n",
    "    def cal_from_excel(self):\n",
    "        material_df = pd.read_excel(self.Excel_path, header=None)\n",
    "        material_df[['Activity', 'Product', 'Cutoff']] = material_df[0].str.split('|', 2, expand=True)\n",
    "        material_df['Activity'] = material_df['Activity'].str.strip()\n",
    "\n",
    "        results = {}\n",
    "        activities = {}\n",
    "        # for i in range(len(material_df)):\n",
    "        for i in range(1): # for test\n",
    "            search_process_list = [p for p in self.Process_list_all if material_df['Activity'][i] in str(p)] # search for processes with specific name\n",
    "            for j in range(len(search_process_list)):\n",
    "                functional_unit = {search_process_list[j]: 1}\n",
    "                lca = LCA(functional_unit, self.Impact_method)\n",
    "                lca.lci()\n",
    "                lca.lcia()\n",
    "                results[dict(search_process_list[j])['location']] = lca.score\n",
    "                activities[dict(search_process_list[j])['location']] = dict(search_process_list[j])['name']\n",
    "            \n",
    "            results_Series = pd.Series(results, name='kg CO2-Eq')\n",
    "            activities_Series = pd.Series(activities, name='activity')\n",
    "            output_df = pd.concat([results_Series, activities_Series], axis=1)\n",
    "            output_df.to_csv(self.Result_path+'/Summary_'+material_df['Activity'][i]+'.csv')\n",
    "            print('Results stored in' + str(os.path.abspath(self.Result_path+'/Summary_'+material_df['Activity'][i]+'.csv')))\n",
    "            \n",
    "    def cal_from_list(self):\n",
    "        results = {}\n",
    "        activities = {}\n",
    "\n",
    "        for i in range(len(self.Process_list_target['include'])):\n",
    "            search_process_list = [p for p in self.Process_list_all if self.Process_list_target['include'][i] in str(p) and not self.Process_list_target['not_include'][i] in str(p)]\n",
    "            for j in range(len(search_process_list)):\n",
    "                functional_unit = {search_process_list[j]: 1}\n",
    "                lca = LCA(functional_unit, self.Impact_method)\n",
    "                lca.lci()\n",
    "                lca.lcia()\n",
    "                results[dict(search_process_list[j])['location']] = lca.score\n",
    "                activities[dict(search_process_list[j])['location']] = dict(search_process_list[j])['name']\n",
    "\n",
    "            results_Series = pd.Series(results, name='kg CO2-Eq')\n",
    "            activities_Series = pd.Series(activities, name='activity')\n",
    "            output_df = pd.concat([results_Series, activities_Series], axis=1)\n",
    "            output_df.to_csv(self.Result_path+'/Summary_'+self.Process_list_target['include'][i]+'.csv')\n",
    "            print('Results stored in' + str(os.path.abspath(self.Result_path+'/Summary_'+self.Process_list_target['include'][i]+'.csv')))"
   ]
  },
  {
   "cell_type": "code",
   "execution_count": 11,
   "metadata": {},
   "outputs": [
    {
     "name": "stdout",
     "output_type": "stream",
     "text": [
      "Results stored in/Users/ocean/Library/CloudStorage/OneDrive-forpersonal/RA-SustainableConstruction/bwLCA/Feb_02_2022_calc_results_GWP100a_test/Summary_concrete block production.csv\n",
      "Results stored in/Users/ocean/Library/CloudStorage/OneDrive-forpersonal/RA-SustainableConstruction/bwLCA/Feb_02_2022_calc_results_GWP100a_test/Summary_market for electricity, medium voltage.csv\n"
     ]
    }
   ],
   "source": [
    "Impact_method = [m for m in methods if 'IPCC 2013' in str(m) and 'climate change' in str(m) and 'GWP 100a' in str(m) and not 'no LT' in str(m)][0]\n",
    "Today = date.today().strftime(\"%b_%m_%Y\")\n",
    "Result_path = Today+'_calc_results_GWP100a_test'\n",
    "\n",
    "Excel_path = 'List_of_Materials_ecoinvent.xlsx' # optional\n",
    "Process_list_target = {\n",
    "    'include': ['market for electricity, medium voltage'], # key words you want to include\n",
    "    'not_include': ['municipal waste'] # key words you do not want to include\n",
    "} # optional\n",
    "\n",
    "instance1 = LCA_Calculation(Process_list_all, Impact_method, Result_path, Excel_path=Excel_path, Process_list_target=Process_list_target)\n",
    "instance1.cal_from_excel() # input Excel\n",
    "instance1.cal_from_list() # input list (in fact a dict)\n",
    "\n",
    "# TODO: change names above as you need"
   ]
  },
  {
   "cell_type": "code",
   "execution_count": 10,
   "metadata": {},
   "outputs": [
    {
     "data": {
      "text/plain": [
       "'Ecoinvent'"
      ]
     },
     "execution_count": 10,
     "metadata": {},
     "output_type": "execute_result"
    }
   ],
   "source": [
    "# projects.delete_project(name='Test_Ecoinvent', delete_dir=True) # Delete everything in the project. TODO: only uncomment this line when necessary!!!"
   ]
  }
 ],
 "metadata": {
  "interpreter": {
   "hash": "dd21ad2757f371eae3280fdb21ddb91acd055d61f9283f39826ce0c7f025e5ac"
  },
  "kernelspec": {
   "display_name": "Python 3.9.10 64-bit ('ab': conda)",
   "name": "python3"
  },
  "language_info": {
   "codemirror_mode": {
    "name": "ipython",
    "version": 3
   },
   "file_extension": ".py",
   "mimetype": "text/x-python",
   "name": "python",
   "nbconvert_exporter": "python",
   "pygments_lexer": "ipython3",
   "version": "3.9.10"
  },
  "orig_nbformat": 4
 },
 "nbformat": 4,
 "nbformat_minor": 2
}
