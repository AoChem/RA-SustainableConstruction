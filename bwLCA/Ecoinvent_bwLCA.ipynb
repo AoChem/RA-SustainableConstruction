{
 "cells": [
  {
   "cell_type": "code",
   "execution_count": 92,
   "metadata": {},
   "outputs": [],
   "source": [
    "import pandas as pd\n",
    "from brightway2 import *"
   ]
  },
  {
   "cell_type": "code",
   "execution_count": 66,
   "metadata": {},
   "outputs": [],
   "source": [
    "projects.set_current(\"Test\") # with ecoinvent database loaded"
   ]
  },
  {
   "cell_type": "code",
   "execution_count": 67,
   "metadata": {},
   "outputs": [],
   "source": [
    "db = Database(\"cutoff38\")"
   ]
  },
  {
   "cell_type": "code",
   "execution_count": 86,
   "metadata": {},
   "outputs": [],
   "source": [
    "process_list = db.search(\"*\", limit=10000000) # read all processes in the database"
   ]
  },
  {
   "cell_type": "code",
   "execution_count": 88,
   "metadata": {},
   "outputs": [],
   "source": [
    "target_process_list = [p for p in process_list if 'electricity, high voltage, production mix' in str(p)] # TODO: search for processes with specific name"
   ]
  },
  {
   "cell_type": "code",
   "execution_count": 91,
   "metadata": {},
   "outputs": [],
   "source": [
    "CC_method = [m for m in methods if 'IPCC 2013' in str(m) and 'climate change' in str(m) and 'GWP 100a' in str(m) and not 'no LT' in str(m)][0]\n",
    "results = {}\n",
    "for i in range(len(target_process_list)):\n",
    "    functional_unit = {target_process_list[i]: 1}\n",
    "    lca = LCA(functional_unit, CC_method)\n",
    "    lca.lci()\n",
    "    lca.lcia()\n",
    "    results[dict(target_process_list[i])['location']] = lca.score\n"
   ]
  },
  {
   "cell_type": "code",
   "execution_count": 101,
   "metadata": {},
   "outputs": [
    {
     "data": {
      "text/plain": [
       "float"
      ]
     },
     "execution_count": 101,
     "metadata": {},
     "output_type": "execute_result"
    }
   ],
   "source": []
  },
  {
   "cell_type": "code",
   "execution_count": 103,
   "metadata": {},
   "outputs": [],
   "source": [
    "results_Series = pd.Series(results, name='IPCC_2013_GWP100a[kg CO2-Eq]')\n",
    "results_Series.to_csv('GWP100a_summary.csv')"
   ]
  },
  {
   "cell_type": "code",
   "execution_count": null,
   "metadata": {},
   "outputs": [],
   "source": []
  }
 ],
 "metadata": {
  "interpreter": {
   "hash": "dd21ad2757f371eae3280fdb21ddb91acd055d61f9283f39826ce0c7f025e5ac"
  },
  "kernelspec": {
   "display_name": "Python 3.9.10 64-bit ('ab': conda)",
   "name": "python3"
  },
  "language_info": {
   "codemirror_mode": {
    "name": "ipython",
    "version": 3
   },
   "file_extension": ".py",
   "mimetype": "text/x-python",
   "name": "python",
   "nbconvert_exporter": "python",
   "pygments_lexer": "ipython3",
   "version": "3.9.10"
  },
  "orig_nbformat": 4
 },
 "nbformat": 4,
 "nbformat_minor": 2
}
